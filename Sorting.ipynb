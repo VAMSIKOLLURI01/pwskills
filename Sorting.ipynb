{
  "nbformat": 4,
  "nbformat_minor": 0,
  "metadata": {
    "colab": {
      "provenance": [],
      "authorship_tag": "ABX9TyPcXNNxiEaTdp6Upo4B3VgB",
      "include_colab_link": true
    },
    "kernelspec": {
      "name": "python3",
      "display_name": "Python 3"
    },
    "language_info": {
      "name": "python"
    }
  },
  "cells": [
    {
      "cell_type": "markdown",
      "metadata": {
        "id": "view-in-github",
        "colab_type": "text"
      },
      "source": [
        "<a href=\"https://colab.research.google.com/github/VAMSIKOLLURI01/pwskills/blob/main/Sorting.ipynb\" target=\"_parent\"><img src=\"https://colab.research.google.com/assets/colab-badge.svg\" alt=\"Open In Colab\"/></a>"
      ]
    },
    {
      "cell_type": "code",
      "execution_count": 3,
      "metadata": {
        "colab": {
          "base_uri": "https://localhost:8080/"
        },
        "id": "eBUZ-Je2JExm",
        "outputId": "16db30be-bc66-4319-f77a-4d801b15088b"
      },
      "outputs": [
        {
          "output_type": "stream",
          "name": "stdout",
          "text": [
            "Element 8 appears maximum number of times: 3\n"
          ]
        }
      ],
      "source": [
        "\"\"\"1.Given an array of n numbers, give an algorithm which gives the element appearing maximum\n",
        "number of times?\"\"\"\n",
        "def most_frequent_element(arr):\n",
        "    frequency = {}\n",
        "    max_count = 0\n",
        "    max_element = None\n",
        "    for num in arr:\n",
        "        frequency[num] = frequency.get(num, 0) + 1\n",
        "        if frequency[num] > max_count:\n",
        "            max_count = frequency[num]\n",
        "            max_element = num\n",
        "\n",
        "    return max_element, max_count\n",
        "arr = [2, 5, 2, 8, 5, 6, 8, 8]\n",
        "element, count = most_frequent_element(arr)\n",
        "print(f\"Element {element} appears maximum number of times: {count}\")\n"
      ]
    },
    {
      "cell_type": "code",
      "source": [
        "\"\"\": We are given a list of n-1 integers and these integers are in the range of 1 to n . There are no\n",
        "duplicates in the list. One of the integers is missing in the list. Give an algorithm to find that element Ex:\n",
        "[1,2,4,6,3,7,8] 5 is the missing num.\"\"\"\n",
        "def find_missing_number(arr):\n",
        "    n = len(arr) + 1\n",
        "    total_sum = n * (n + 1) // 2\n",
        "    actual_sum = sum(arr)\n",
        "    return total_sum - actual_sum\n",
        "arr = [1, 2, 4, 6, 3, 7, 8]\n",
        "missing = find_missing_number(arr)\n",
        "print(\"Missing number is:\", missing)\n"
      ],
      "metadata": {
        "colab": {
          "base_uri": "https://localhost:8080/"
        },
        "id": "NttN4IqTKWE8",
        "outputId": "c93bb710-bddf-4d7b-8ce2-ee6ba7589988"
      },
      "execution_count": 4,
      "outputs": [
        {
          "output_type": "stream",
          "name": "stdout",
          "text": [
            "Missing number is: 5\n"
          ]
        }
      ]
    },
    {
      "cell_type": "code",
      "source": [
        "\"\"\": Given an array of n positive numbers. All numbers occurs even number of times except 1 which\n",
        "occurs odd number of times. Find that number in O(n) time and O(1) space. Ex: [1,2,3,2,3,1,3]. 3 is repeats odd\n",
        "times.\"\"\"\n",
        "def find_odd_occurrence(arr):\n",
        "    result = 0\n",
        "    for num in arr:\n",
        "        result ^= num\n",
        "    return result\n",
        "arr = [1, 2, 3, 2, 3, 1, 3]\n",
        "print(find_odd_occurrence(arr))\n"
      ],
      "metadata": {
        "colab": {
          "base_uri": "https://localhost:8080/"
        },
        "id": "es7k-QgzKWgj",
        "outputId": "dbcd0209-e550-48a3-ff68-534b4fe95eda"
      },
      "execution_count": 5,
      "outputs": [
        {
          "output_type": "stream",
          "name": "stdout",
          "text": [
            "3\n"
          ]
        }
      ]
    },
    {
      "cell_type": "code",
      "source": [
        "\"\"\"Given an array of n elements. Find two elements in the array such that their sum is equal to given\n",
        "element K.\"\"\"\n",
        "def find_pair_with_sum(arr, K):\n",
        "    seen = set()\n",
        "    for num in arr:\n",
        "        target = K - num\n",
        "        if target in seen:\n",
        "            return (target, num)\n",
        "        seen.add(num)\n",
        "    return None  # If no pair is found\n",
        "\n",
        "# Example\n",
        "arr = [10, 15, 3, 7]\n",
        "K = 17\n",
        "result = find_pair_with_sum(arr, K)\n",
        "if result:\n",
        "    print(f\"Pair found: {result[0]} + {result[1]} = {K}\")\n",
        "else:\n",
        "    print(\"No pair found.\")\n"
      ],
      "metadata": {
        "colab": {
          "base_uri": "https://localhost:8080/"
        },
        "id": "j6aLJrHKKWrh",
        "outputId": "d0b0b5c7-c33b-415d-c792-ca9198dbeb37"
      },
      "execution_count": 7,
      "outputs": [
        {
          "output_type": "stream",
          "name": "stdout",
          "text": [
            "Pair found: 10 + 7 = 17\n"
          ]
        }
      ]
    },
    {
      "cell_type": "code",
      "source": [
        "\"\"\"Given an array of both positive and negative numbers, find two numbers such that their sum is\n",
        "closest to 0. Ex: [ 1 ,60 ,-10, 70, -80,85]. Ans : -80,85.\"\"\"\n",
        "def closest_to_zero(arr):\n",
        "    arr.sort()\n",
        "    left = 0\n",
        "    right = len(arr) - 1\n",
        "\n",
        "    min_sum = float('inf')\n",
        "    pair = (0, 0)\n",
        "\n",
        "    while left < right:\n",
        "        curr_sum = arr[left] + arr[right]\n",
        "\n",
        "        if abs(curr_sum) < abs(min_sum):\n",
        "            min_sum = curr_sum\n",
        "            pair = (arr[left], arr[right])\n",
        "\n",
        "        if curr_sum < 0:\n",
        "            left += 1\n",
        "        else:\n",
        "            right -= 1\n",
        "\n",
        "    return pair\n",
        "\n",
        "# Example\n",
        "arr = [1, 60, -10, 70, -80, 85]\n",
        "result = closest_to_zero(arr)\n",
        "print(f\"Pair with sum closest to 0: {result[0]}, {result[1]}\")\n"
      ],
      "metadata": {
        "colab": {
          "base_uri": "https://localhost:8080/"
        },
        "id": "Pp90cNnANYKC",
        "outputId": "2b3918c4-49b1-4f3c-c565-9b8da72dbd6e"
      },
      "execution_count": 8,
      "outputs": [
        {
          "output_type": "stream",
          "name": "stdout",
          "text": [
            "Pair with sum closest to 0: -80, 85\n"
          ]
        }
      ]
    },
    {
      "cell_type": "code",
      "source": [
        "\"\"\"Given an array of n elements . Find three elements such that their sum is equal to the given\n",
        "number.\"\"\"\n",
        "def find_three_sum(arr, K):\n",
        "    arr.sort()\n",
        "    n = len(arr)\n",
        "\n",
        "    for i in range(n - 2):\n",
        "        left = i + 1\n",
        "        right = n - 1\n",
        "\n",
        "        while left < right:\n",
        "            total = arr[i] + arr[left] + arr[right]\n",
        "            if total == K:\n",
        "                return (arr[i], arr[left], arr[right])\n",
        "            elif total < K:\n",
        "                left += 1\n",
        "            else:\n",
        "                right -= 1\n",
        "\n",
        "    return None  # If no triplet found\n",
        "\n",
        "# Example\n",
        "arr = [1, 4, 45, 6, 10, 8]\n",
        "K = 22\n",
        "result = find_three_sum(arr, K)\n",
        "if result:\n",
        "    print(f\"Triplet found: {result[0]}, {result[1]}, {result[2]}\")\n",
        "else:\n",
        "    print(\"No triplet found.\")\n"
      ],
      "metadata": {
        "colab": {
          "base_uri": "https://localhost:8080/"
        },
        "id": "ON0nxPYbNYOg",
        "outputId": "11a457f1-ae0d-47b1-9b08-a54f2db447eb"
      },
      "execution_count": 9,
      "outputs": [
        {
          "output_type": "stream",
          "name": "stdout",
          "text": [
            "Triplet found: 4, 8, 10\n"
          ]
        }
      ]
    },
    {
      "cell_type": "code",
      "source": [
        "\"\"\"Given an array of n elements . Find three elements i, j, k in the array such that\n",
        "i * i + j * j = k*k.\"\"\"\n",
        "def find_pythagorean_triplet(arr):\n",
        "    n = len(arr)\n",
        "\n",
        "    # Step 1: Square all elements and store them in a set for quick lookup\n",
        "    squares = set([x*x for x in arr])\n",
        "\n",
        "    # Step 2: Iterate over all pairs i, j in the array\n",
        "    for i in range(n):\n",
        "        for j in range(i+1, n):\n",
        "            sum_of_squares = arr[i]**2 + arr[j]**2\n",
        "            # Step 3: Check if sum_of_squares is a perfect square\n",
        "            if sum_of_squares in squares:\n",
        "                # Find the element whose square is sum_of_squares\n",
        "                k = int(sum_of_squares**0.5)\n",
        "                if k in arr:\n",
        "                    return (arr[i], arr[j], k)\n",
        "\n",
        "    return None  # If no triplet is found\n",
        "\n",
        "# Example\n",
        "arr = [3, 1, 4, 6, 5]\n",
        "result = find_pythagorean_triplet(arr)\n",
        "if result:\n",
        "    print(f\"Triplet found: {result[0]}, {result[1]}, {result[2]}\")\n",
        "else:\n",
        "    print(\"No triplet found.\")\n"
      ],
      "metadata": {
        "colab": {
          "base_uri": "https://localhost:8080/"
        },
        "id": "nt5KFmZXNYSQ",
        "outputId": "9c7f6cd2-6037-45c5-b2a5-3aa6fb1315a6"
      },
      "execution_count": 10,
      "outputs": [
        {
          "output_type": "stream",
          "name": "stdout",
          "text": [
            "Triplet found: 3, 4, 5\n"
          ]
        }
      ]
    },
    {
      "cell_type": "code",
      "source": [
        "\"\"\"8 : An element is a majority if it appears more than n/2 times. Give an algorithm takes an array of n\n",
        "element as argument and identifies a majority (if it exists).\"\"\"\n",
        "def majority_element(arr):\n",
        "    # Phase 1: Find the candidate\n",
        "    candidate = None\n",
        "    count = 0\n",
        "\n",
        "    # Finding the candidate\n",
        "    for num in arr:\n",
        "        if count == 0:\n",
        "            candidate = num\n",
        "        count += (1 if num == candidate else -1)\n",
        "\n",
        "    # Phase 2: Verify the candidate\n",
        "    count = 0\n",
        "    for num in arr:\n",
        "        if num == candidate:\n",
        "            count += 1\n",
        "\n",
        "    # If count is greater than n/2, return candidate, else no majority element\n",
        "    if count > len(arr) // 2:\n",
        "        return candidate\n",
        "    else:\n",
        "        return None\n",
        "\n",
        "# Example\n",
        "arr = [3, 3, 4, 2, 4, 4, 2, 4, 4]\n",
        "result = majority_element(arr)\n",
        "if result:\n",
        "    print(f\"Majority element: {result}\")\n",
        "else:\n",
        "    print(\"No majority element.\")\n"
      ],
      "metadata": {
        "colab": {
          "base_uri": "https://localhost:8080/"
        },
        "id": "6Ev4jP8aNYV2",
        "outputId": "17468aee-461f-4352-fa79-14bffec3a9b3"
      },
      "execution_count": 11,
      "outputs": [
        {
          "output_type": "stream",
          "name": "stdout",
          "text": [
            "Majority element: 4\n"
          ]
        }
      ]
    },
    {
      "cell_type": "code",
      "source": [
        "\"\"\"Given n × n matrix, and in each row all 1’s are followed by 0’s. Find the row with the maximum\n",
        "number of 0’s.\"\"\"\n",
        "def row_with_max_zeros(matrix):\n",
        "    n = len(matrix)\n",
        "    max_zeros_row = -1\n",
        "    j = n - 1  # Start from the top-right corner\n",
        "\n",
        "    for i in range(n):\n",
        "        # Move left until we find a 0 or reach the left edge\n",
        "        while j >= 0 and matrix[i][j] == 0:\n",
        "            j -= 1\n",
        "            max_zeros_row = i  # Update the row with max zeros\n",
        "        # If we reach the left edge, break early as no more 0's will be found in subsequent rows\n",
        "\n",
        "    return max_zeros_row\n",
        "\n",
        "# Example\n",
        "matrix = [\n",
        "    [1, 1, 1, 0, 0],\n",
        "    [1, 1, 0, 0, 0],\n",
        "    [1, 0, 0, 0, 0],\n",
        "    [0, 0, 0, 0, 0]\n",
        "]\n",
        "\n",
        "result = row_with_max_zeros(matrix)\n",
        "print(f\"Row with maximum number of 0's: {result}\")\n"
      ],
      "metadata": {
        "colab": {
          "base_uri": "https://localhost:8080/"
        },
        "id": "b7Ix4MDpOt1A",
        "outputId": "c81ed128-70ba-4914-d2f6-e7890acf7468"
      },
      "execution_count": 12,
      "outputs": [
        {
          "output_type": "stream",
          "name": "stdout",
          "text": [
            "Row with maximum number of 0's: 3\n"
          ]
        }
      ]
    },
    {
      "cell_type": "code",
      "source": [
        "\"\"\": Sort an array of 0’s, 1’s and 2’s [or R’s, G’s and B’s]: Given an array A[] consisting of 0’s, 1’s and\n",
        "2’s, give an algorithm for sorting A[].The algorithm should put all 0’s first, then all 1’s and finally all 2’s at the\n",
        "end. Example Input = {0,1,1,0,1,2,1,2,0,0,0,1}, Output = {0,0,0,0,0,1,1,1,1,1,2,2}\"\"\"\n",
        "def sort_array(arr):\n",
        "    low = 0\n",
        "    mid = 0\n",
        "    high = len(arr) - 1\n",
        "\n",
        "    while mid <= high:\n",
        "        if arr[mid] == 0:\n",
        "            arr[low], arr[mid] = arr[mid], arr[low]  # Swap 0 to the low section\n",
        "            low += 1\n",
        "            mid += 1\n",
        "        elif arr[mid] == 1:\n",
        "            mid += 1  # Move the mid pointer if it's a 1\n",
        "        else:  # arr[mid] == 2\n",
        "            arr[mid], arr[high] = arr[high], arr[mid]  # Swap 2 to the high section\n",
        "            high -= 1\n",
        "\n",
        "    return arr\n",
        "\n",
        "# Example\n",
        "arr = [0, 1, 1, 0, 1, 2, 1, 2, 0, 0, 0, 1]\n",
        "sorted_arr = sort_array(arr)\n",
        "print(\"Sorted array:\", sorted_arr)\n"
      ],
      "metadata": {
        "colab": {
          "base_uri": "https://localhost:8080/"
        },
        "id": "gRugEXmvOt4X",
        "outputId": "9152a3af-69e1-473d-fac3-c07ccae2803b"
      },
      "execution_count": 13,
      "outputs": [
        {
          "output_type": "stream",
          "name": "stdout",
          "text": [
            "Sorted array: [0, 0, 0, 0, 0, 1, 1, 1, 1, 1, 2, 2]\n"
          ]
        }
      ]
    },
    {
      "cell_type": "code",
      "source": [],
      "metadata": {
        "id": "dV3FN4BzOuFi"
      },
      "execution_count": null,
      "outputs": []
    },
    {
      "cell_type": "markdown",
      "source": [],
      "metadata": {
        "id": "Oc7GRrSaJoor"
      }
    }
  ]
}