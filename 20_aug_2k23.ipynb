{
  "cells": [
    {
      "cell_type": "markdown",
      "metadata": {
        "id": "view-in-github",
        "colab_type": "text"
      },
      "source": [
        "<a href=\"https://colab.research.google.com/github/VAMSIKOLLURI01/pwskills/blob/main/20_aug_2k23.ipynb\" target=\"_parent\"><img src=\"https://colab.research.google.com/assets/colab-badge.svg\" alt=\"Open In Colab\"/></a>"
      ]
    },
    {
      "cell_type": "code",
      "execution_count": null,
      "metadata": {
        "colab": {
          "base_uri": "https://localhost:8080/",
          "height": 36
        },
        "id": "7vFKh6LzMcrL",
        "outputId": "3a8b1f00-ed28-46c3-fb7b-6f07cf921ca8"
      },
      "outputs": [
        {
          "data": {
            "application/vnd.google.colaboratory.intrinsic+json": {
              "type": "string"
            },
            "text/plain": [
              "'ismav'"
            ]
          },
          "execution_count": 3,
          "metadata": {},
          "output_type": "execute_result"
        }
      ],
      "source": [
        "#1. Write a program to reverse a string\n",
        "a=\"vamsi\"\n",
        "b=a[::-1]\n",
        "b"
      ]
    },
    {
      "cell_type": "code",
      "execution_count": null,
      "metadata": {
        "colab": {
          "base_uri": "https://localhost:8080/"
        },
        "id": "6DoJHrRiM7SM",
        "outputId": "3ad06ce7-7227-4639-cf00-c1be27078b0c"
      },
      "outputs": [
        {
          "name": "stdout",
          "output_type": "stream",
          "text": [
            "enter a stringwow\n",
            "wowis a palindrome\n"
          ]
        }
      ],
      "source": [
        "#Check if a string is a palindrome.\n",
        "n=input(\"enter a string\")\n",
        "if n == n[::-1]:\n",
        "  print(n+ \"is a palindrome\")\n",
        "else:\n",
        "  print(n+ \"is not a palindrome\")"
      ]
    },
    {
      "cell_type": "markdown",
      "metadata": {
        "id": "VVs76ybo9Bw4"
      },
      "source": []
    },
    {
      "cell_type": "code",
      "execution_count": null,
      "metadata": {
        "colab": {
          "base_uri": "https://localhost:8080/",
          "height": 36
        },
        "id": "4-y6p_75M7U_",
        "outputId": "9b518986-ed56-48d3-cfd5-4b79d23e94e5"
      },
      "outputs": [
        {
          "data": {
            "application/vnd.google.colaboratory.intrinsic+json": {
              "type": "string"
            },
            "text/plain": [
              "'VAMSI'"
            ]
          },
          "execution_count": 8,
          "metadata": {},
          "output_type": "execute_result"
        }
      ],
      "source": [
        "#Convert a string to uppercase\n",
        "a=\"vamsi\"\n",
        "a.upper()"
      ]
    },
    {
      "cell_type": "code",
      "execution_count": null,
      "metadata": {
        "colab": {
          "base_uri": "https://localhost:8080/",
          "height": 36
        },
        "id": "yD8rA5s8M7YR",
        "outputId": "85b9eba1-f5e5-47b0-863f-34c8067bae93"
      },
      "outputs": [
        {
          "data": {
            "application/vnd.google.colaboratory.intrinsic+json": {
              "type": "string"
            },
            "text/plain": [
              "'navya'"
            ]
          },
          "execution_count": 10,
          "metadata": {},
          "output_type": "execute_result"
        }
      ],
      "source": [
        "# Convert a string to lowercase.\n",
        "a=\"NAVYA\"\n",
        "a.lower()"
      ]
    },
    {
      "cell_type": "code",
      "execution_count": null,
      "metadata": {
        "colab": {
          "base_uri": "https://localhost:8080/"
        },
        "id": "jnOu92f_M7bw",
        "outputId": "30b78c83-8400-4884-a709-557fc1219bcf"
      },
      "outputs": [
        {
          "name": "stdout",
          "output_type": "stream",
          "text": [
            "enter a stringufhfl;o\n",
            "the no vowels are: 2\n"
          ]
        }
      ],
      "source": [
        "# Count the number of vowels in a string.\n",
        "string=input(\"enter a string\")\n",
        "vowels=0\n",
        "for i in string:\n",
        "  if( i=='a' or i=='e' or i=='i' or i=='o' or i=='u'):\n",
        "      vowels=vowels+1\n",
        "print(\"the no vowels are:\",vowels)"
      ]
    },
    {
      "cell_type": "code",
      "execution_count": null,
      "metadata": {
        "colab": {
          "base_uri": "https://localhost:8080/"
        },
        "id": "gdvDGi0IU_tv",
        "outputId": "47574d43-157d-48d6-e7ae-20d9361e6a63"
      },
      "outputs": [
        {
          "name": "stdout",
          "output_type": "stream",
          "text": [
            "The number of consonants in 'Hello World' is: 7\n"
          ]
        }
      ],
      "source": [
        "#Count the number of consonants in a string.\n",
        "input_string = \"Hello World\"\n",
        "consonant_count = 0\n",
        "\n",
        "for char in input_string:\n",
        "    # Check if the character is an alphabet and not a vowel\n",
        "    if char.isalpha() and char.lower() not in {'a', 'e', 'i', 'o', 'u'}:\n",
        "        consonant_count += 1\n",
        "\n",
        "print(f\"The number of consonants in '{input_string}' is: {consonant_count}\")\n"
      ]
    },
    {
      "cell_type": "code",
      "execution_count": null,
      "metadata": {
        "colab": {
          "base_uri": "https://localhost:8080/",
          "height": 36
        },
        "id": "PzRnGjXeU_w-",
        "outputId": "6b1d2890-9da3-445a-de79-7328480b786e"
      },
      "outputs": [
        {
          "data": {
            "application/vnd.google.colaboratory.intrinsic+json": {
              "type": "string"
            },
            "text/plain": [
              "'hirahmawa'"
            ]
          },
          "execution_count": 37,
          "metadata": {},
          "output_type": "execute_result"
        }
      ],
      "source": [
        "#7. remove all whitespaces from a string.\n",
        "n=\"hi rah mawa\"\n",
        "re=n.replace(\" \",\"\")\n",
        "re"
      ]
    },
    {
      "cell_type": "code",
      "execution_count": null,
      "metadata": {
        "colab": {
          "base_uri": "https://localhost:8080/"
        },
        "id": "nlB6zX4Nc1lA",
        "outputId": "5cff371b-448a-4880-acc2-2d055f10989c"
      },
      "outputs": [
        {
          "name": "stdout",
          "output_type": "stream",
          "text": [
            "length of the string: 5\n"
          ]
        }
      ],
      "source": [
        "#8. Find the length of a string without using the `len()` function.\n",
        "v=\"vamsi\"\n",
        "count=0\n",
        "for i in v:\n",
        "  count=count+1\n",
        "print(\"length of the string:\",count)"
      ]
    },
    {
      "cell_type": "code",
      "execution_count": null,
      "metadata": {
        "colab": {
          "base_uri": "https://localhost:8080/"
        },
        "id": "IzHkaO_tmG07",
        "outputId": "ae46415b-18fb-4bcb-8a50-f2b56e3cae25"
      },
      "outputs": [
        {
          "name": "stdout",
          "output_type": "stream",
          "text": [
            "enter a string:mawa bro \n",
            "present\n"
          ]
        }
      ],
      "source": [
        "#9. Check if a string contains a specific word.\n",
        "string=input(\"enter a string:\")\n",
        "word=\"mawa\"\n",
        "if word in  string:\n",
        "  print(\"present\")\n",
        "else:\n",
        "  print(\"not present\")"
      ]
    },
    {
      "cell_type": "code",
      "execution_count": null,
      "metadata": {
        "colab": {
          "base_uri": "https://localhost:8080/",
          "height": 36
        },
        "id": "ro9utNJ0mHEs",
        "outputId": "aec0ed2b-a9d6-40c5-d871-96373e4f8c15"
      },
      "outputs": [
        {
          "data": {
            "application/vnd.google.colaboratory.intrinsic+json": {
              "type": "string"
            },
            "text/plain": [
              "'navya is bad girl'"
            ]
          },
          "execution_count": 11,
          "metadata": {},
          "output_type": "execute_result"
        }
      ],
      "source": [
        "#Replace a word in a string with another word\n",
        "v=\"navya is good girl\"\n",
        "s=v.replace(\"good\",\"bad\")\n",
        "s"
      ]
    },
    {
      "cell_type": "code",
      "execution_count": null,
      "metadata": {
        "colab": {
          "base_uri": "https://localhost:8080/"
        },
        "id": "QPmvv2UGpzgC",
        "outputId": "413c9c52-102d-4f70-c8ef-c24dfa1cb6a4"
      },
      "outputs": [
        {
          "name": "stdout",
          "output_type": "stream",
          "text": [
            "enter a string:fjtkhtkftugitkgujtgfh\n",
            "the count of the word is: 0\n"
          ]
        }
      ],
      "source": [
        "#Count the occurrences of a word in a string\n",
        "word=\"n\"\n",
        "string=input(\"enter a string:\")\n",
        "count=0\n",
        "for i in string:\n",
        "  if i in word:\n",
        "   count=count+1\n",
        "print(\"the count of the word is:\",count)"
      ]
    },
    {
      "cell_type": "code",
      "execution_count": null,
      "metadata": {
        "colab": {
          "base_uri": "https://localhost:8080/"
        },
        "id": "-FDcKawlqQde",
        "outputId": "a68e9aeb-759e-41f7-a9af-c28262b65765"
      },
      "outputs": [
        {
          "name": "stdout",
          "output_type": "stream",
          "text": [
            "vamsi\n"
          ]
        }
      ],
      "source": [
        "# Find the first occurrence of a word in a string.\n",
        "string=\"vamsi is from AIML\"\n",
        "word=\"\"\n",
        "for i in string:\n",
        "  if i ==\" \":\n",
        "    break\n",
        "  else:\n",
        "    word+=i\n",
        "\n",
        "print(word)"
      ]
    },
    {
      "cell_type": "code",
      "execution_count": null,
      "metadata": {
        "colab": {
          "base_uri": "https://localhost:8080/"
        },
        "id": "cF43JRdxqQg5",
        "outputId": "6b0fa825-94cc-4185-8ae4-200596b1065b"
      },
      "outputs": [
        {
          "name": "stdout",
          "output_type": "stream",
          "text": [
            "The last occurrence of 'boy' is at index 14\n"
          ]
        }
      ],
      "source": [
        "#13. Find the last occurrence of a word in a string\n",
        "input_string = \"vamsi is good boy\"\n",
        "search_word = \"boy\"\n",
        "\n",
        "last_occurrence_index = -1\n",
        "current_index = 0\n",
        "\n",
        "while current_index != -1:\n",
        "    current_index = input_string.find(search_word, current_index + 1)\n",
        "    if current_index != -1:\n",
        "        last_occurrence_index = current_index\n",
        "\n",
        "print(f\"The last occurrence of '{search_word}' is at index {last_occurrence_index}\")\n"
      ]
    },
    {
      "cell_type": "code",
      "execution_count": null,
      "metadata": {
        "colab": {
          "base_uri": "https://localhost:8080/"
        },
        "id": "5PIsnNCmhOr8",
        "outputId": "52597b87-d2e2-4121-fb96-4dea35716be2"
      },
      "outputs": [
        {
          "data": {
            "text/plain": [
              "['pavan', 'is', 'bad', 'boy']"
            ]
          },
          "execution_count": 2,
          "metadata": {},
          "output_type": "execute_result"
        }
      ],
      "source": [
        "#. Split a string into a list of words.\n",
        "string=\"pavan is bad boy\"\n",
        "b=string.split()\n",
        "b"
      ]
    },
    {
      "cell_type": "code",
      "execution_count": null,
      "metadata": {
        "colab": {
          "base_uri": "https://localhost:8080/"
        },
        "id": "fCGcw1BqhOuJ",
        "outputId": "f6a36cbe-892d-4429-b38a-215ee127eb13"
      },
      "outputs": [
        {
          "name": "stdout",
          "output_type": "stream",
          "text": [
            "jogi\n"
          ]
        }
      ],
      "source": [
        "# Join a list of words into a string.\n",
        "lst = ['j','o','g','i']\n",
        "string=\"\".join(lst)\n",
        "print(string)"
      ]
    },
    {
      "cell_type": "code",
      "execution_count": null,
      "metadata": {
        "colab": {
          "base_uri": "https://localhost:8080/"
        },
        "id": "ZmB36puDhstV",
        "outputId": "a7c642f0-e07b-49dd-f193-23651a370e10"
      },
      "outputs": [
        {
          "name": "stdout",
          "output_type": "stream",
          "text": [
            "crazyvamsi_01\n"
          ]
        }
      ],
      "source": [
        "'''. Convert a string where words are separated by spaces to one where words\n",
        "are separated by underscores.'''\n",
        "string=\"crazyvamsi 01\"\n",
        "v=string.replace(\" \",\"_\")\n",
        "print(v)"
      ]
    },
    {
      "cell_type": "code",
      "execution_count": null,
      "metadata": {
        "colab": {
          "base_uri": "https://localhost:8080/"
        },
        "id": "ygQi4cXAhsvs",
        "outputId": "55d9523f-cc68-458f-ea49-c7640604b6a6"
      },
      "outputs": [
        {
          "name": "stdout",
          "output_type": "stream",
          "text": [
            "string does not starts with a specific word\n"
          ]
        }
      ],
      "source": [
        "#17. Check if a string starts with a specific word or phrase.\n",
        "inputstring=\"hello is this vamsi\"\n",
        "word=\"mdbvd,mbv\"\n",
        "if inputstring.startswith(word):\n",
        "  print(\"string starts with a specific word\")\n",
        "else:\n",
        "  print(\"string does not starts with a specific word\")"
      ]
    },
    {
      "cell_type": "code",
      "execution_count": null,
      "metadata": {
        "colab": {
          "base_uri": "https://localhost:8080/"
        },
        "id": "JuKCKR_hhszG",
        "outputId": "3f85dc8e-ed7c-4360-a8a2-ca156fa77cbf"
      },
      "outputs": [
        {
          "name": "stdout",
          "output_type": "stream",
          "text": [
            "string starts with a given word\n"
          ]
        }
      ],
      "source": [
        "# Check if a string ends with a specific word or phrase.\n",
        "inputstring=\"hello is this vamsi\"\n",
        "word=\"vamsi\"\n",
        "if inputstring.endswith(word):\n",
        "  print(\"string starts with a given word\")\n",
        "else:\n",
        "  print(\"string does not starts with a given word\")"
      ]
    },
    {
      "cell_type": "code",
      "execution_count": null,
      "metadata": {
        "colab": {
          "base_uri": "https://localhost:8080/",
          "height": 36
        },
        "id": "zmDZr2emhOxp",
        "outputId": "dac3acce-bf84-4856-aee2-4aa1721350ee"
      },
      "outputs": [
        {
          "data": {
            "application/vnd.google.colaboratory.intrinsic+json": {
              "type": "string"
            },
            "text/plain": [
              "'HELLO WORLD'"
            ]
          },
          "execution_count": 19,
          "metadata": {},
          "output_type": "execute_result"
        }
      ],
      "source": [
        "#Convert a string to title case (e.g., \"hello world\" to \"Hello World\"\n",
        "string=\"hello world\"\n",
        "v=string.upper()\n",
        "v"
      ]
    },
    {
      "cell_type": "code",
      "execution_count": null,
      "metadata": {
        "colab": {
          "base_uri": "https://localhost:8080/"
        },
        "id": "7cB0LXYwtWLz",
        "outputId": "b63661c2-78bb-4e09-ec3c-c833edaa5f90"
      },
      "outputs": [
        {
          "name": "stdout",
          "output_type": "stream",
          "text": [
            "efficient\n"
          ]
        }
      ],
      "source": [
        "#find the longest word in a string.\n",
        "string=\"vamsi  is efficient coder\"\n",
        "print(max(string.split(),key=len))\n"
      ]
    },
    {
      "cell_type": "code",
      "execution_count": null,
      "metadata": {
        "colab": {
          "base_uri": "https://localhost:8080/"
        },
        "id": "qB03mY-kvAPn",
        "outputId": "a2ae6b1f-807a-442e-ce3b-dfb5f9eb3f53"
      },
      "outputs": [
        {
          "name": "stdout",
          "output_type": "stream",
          "text": [
            "is\n"
          ]
        }
      ],
      "source": [
        "# Find the shortest word in a string.\n",
        "string=\"vamsi  is efficient coder\"\n",
        "print(min(string.split(),key=len))\n"
      ]
    },
    {
      "cell_type": "code",
      "execution_count": null,
      "metadata": {
        "colab": {
          "base_uri": "https://localhost:8080/",
          "height": 36
        },
        "id": "8CiBldvTPWG5",
        "outputId": "f9bcca30-afc7-4362-e1df-18dd60022dcf"
      },
      "outputs": [
        {
          "data": {
            "application/vnd.google.colaboratory.intrinsic+json": {
              "type": "string"
            },
            "text/plain": [
              "'ismav'"
            ]
          },
          "execution_count": 20,
          "metadata": {},
          "output_type": "execute_result"
        }
      ],
      "source": [
        "# Reverse the order of words in a string\n",
        "a=\"vamsi\"\n",
        "b=a[::-1]\n",
        "b\n"
      ]
    },
    {
      "cell_type": "code",
      "execution_count": null,
      "metadata": {
        "colab": {
          "base_uri": "https://localhost:8080/"
        },
        "id": "dTePgTPXRQ-U",
        "outputId": "a2c0414c-0d30-4422-b6c0-95cc208c9fd5"
      },
      "outputs": [
        {
          "data": {
            "text/plain": [
              "True"
            ]
          },
          "execution_count": 22,
          "metadata": {},
          "output_type": "execute_result"
        }
      ],
      "source": [
        "# Check if a string is alphanumeric\n",
        "string=\"vamsi\"\n",
        "b=string.isalpha()\n",
        "b"
      ]
    },
    {
      "cell_type": "code",
      "execution_count": null,
      "metadata": {
        "colab": {
          "base_uri": "https://localhost:8080/"
        },
        "id": "oHQPyEqWTxlm",
        "outputId": "84432ab8-5e04-4fd1-c12f-efd51d284579"
      },
      "outputs": [
        {
          "name": "stdout",
          "output_type": "stream",
          "text": [
            "123456\n"
          ]
        }
      ],
      "source": [
        "# Extract all digits from a string.\n",
        "input_string = \"abc123xyz456\"\n",
        "\n",
        "digits = \"\"\n",
        "for char in input_string:\n",
        "    if char.isdigit():\n",
        "        digits += char\n",
        "print(digits)"
      ]
    },
    {
      "cell_type": "code",
      "execution_count": null,
      "metadata": {
        "colab": {
          "base_uri": "https://localhost:8080/"
        },
        "id": "Hq-rnhpRc0m-",
        "outputId": "f771f053-ded2-4f6c-fbb7-d6a0de8d0193"
      },
      "outputs": [
        {
          "name": "stdout",
          "output_type": "stream",
          "text": [
            "abcxyz\n"
          ]
        }
      ],
      "source": [
        "#25. Extract all alphabets from a string;\n",
        "input_string = \"abc123xyz456\"\n",
        "\n",
        "alphabets = \"\"\n",
        "for char in input_string:\n",
        "    if char.isalpha():\n",
        "        alphabets += char\n",
        "\n",
        "print(alphabets)\n"
      ]
    },
    {
      "cell_type": "code",
      "execution_count": null,
      "metadata": {
        "colab": {
          "base_uri": "https://localhost:8080/"
        },
        "id": "U8Ahx8B5c0q5",
        "outputId": "2013a4e4-cca4-4c20-bbd0-54a17d36dbd2"
      },
      "outputs": [
        {
          "name": "stdout",
          "output_type": "stream",
          "text": [
            "6\n"
          ]
        }
      ],
      "source": [
        "# Count the number of uppercase letters in a string.\n",
        "string=\"vAmSiKrIsHnA\"\n",
        "count=0\n",
        "for i in string:\n",
        "  if i.isupper():\n",
        "    count=count+1\n",
        "print(count)"
      ]
    },
    {
      "cell_type": "code",
      "execution_count": null,
      "metadata": {
        "colab": {
          "base_uri": "https://localhost:8080/"
        },
        "id": "Pusv0pfZc0ub",
        "outputId": "3ddd9fcd-dd99-458e-fd5b-18d80e06bdcf"
      },
      "outputs": [
        {
          "name": "stdout",
          "output_type": "stream",
          "text": [
            "3\n"
          ]
        }
      ],
      "source": [
        "#Count the number of lowercase letters in a strin\n",
        "string=\"VNfjGUYGjJHVKJF\"\n",
        "count=0\n",
        "for i in string:\n",
        "  if i.islower():\n",
        "    count=count+1\n",
        "print(count)"
      ]
    },
    {
      "cell_type": "code",
      "execution_count": null,
      "metadata": {
        "colab": {
          "base_uri": "https://localhost:8080/"
        },
        "id": "UNXA0gZhYfwD",
        "outputId": "d2f1a1a9-bf60-4cab-8ac7-85617b489c8b"
      },
      "outputs": [
        {
          "name": "stdout",
          "output_type": "stream",
          "text": [
            "vKJJHjyfJVFfFf\n"
          ]
        }
      ],
      "source": [
        "# Swap the case of each character in a string.\n",
        "string=\"VkjjhJYFjvfFfF\"\n",
        "swap_case=string.swapcase()\n",
        "print(swap_case)"
      ]
    },
    {
      "cell_type": "code",
      "execution_count": null,
      "metadata": {
        "colab": {
          "base_uri": "https://localhost:8080/",
          "height": 36
        },
        "id": "E4lGTWBnZgQm",
        "outputId": "406e3181-b47a-4d40-9e16-d497e58cb421"
      },
      "outputs": [
        {
          "data": {
            "application/vnd.google.colaboratory.intrinsic+json": {
              "type": "string"
            },
            "text/plain": [
              "'vamsi is  boy'"
            ]
          },
          "execution_count": 17,
          "metadata": {},
          "output_type": "execute_result"
        }
      ],
      "source": [
        "#Remove a specific word from a strin\n",
        "string=\"vamsi is good boy\"\n",
        "word=\"good\"\n",
        "v=string.replace(word,\"\")\n",
        "v"
      ]
    },
    {
      "cell_type": "code",
      "execution_count": null,
      "metadata": {
        "id": "_DmXvuuVZl6R"
      },
      "outputs": [],
      "source": [
        "#. Check if a string is a valid email address\n",
        "def is_valid_email(email):\n",
        "    # Check for the presence of '@' and '.'\n",
        "    if '@' in email and '.' in email:\n",
        "        # Check that '@' appears before '.'\n",
        "        if email.index('@') < email.index('.'):\n",
        "            # Check that there is at least one character before '@' and after '.'\n",
        "            if email.index('@') > 0 and email.index('.') < len(email) - 1:\n",
        "                return True\n",
        "\n",
        "    return False\n",
        "\n",
        "# Example usage\n",
        "email1 = \"user@example.com\"\n",
        "email2 = \"invalid-email\"\n",
        "email3 = \"user@.com\"\n"
      ]
    },
    {
      "cell_type": "code",
      "execution_count": null,
      "metadata": {
        "colab": {
          "base_uri": "https://localhost:8080/"
        },
        "id": "1y3OKV_tZl9V",
        "outputId": "dc3e505e-6ce2-4543-c93b-5269fe15b7f1"
      },
      "outputs": [
        {
          "name": "stdout",
          "output_type": "stream",
          "text": [
            "True\n"
          ]
        }
      ],
      "source": [
        "print(is_valid_email(email3))"
      ]
    },
    {
      "cell_type": "code",
      "execution_count": null,
      "metadata": {
        "colab": {
          "base_uri": "https://localhost:8080/"
        },
        "id": "t7hija98ZmAY",
        "outputId": "1e58dcfa-546d-4f31-baee-65f721429db5"
      },
      "outputs": [
        {
          "name": "stdout",
          "output_type": "stream",
          "text": [
            "vamsikrishnakolluri01\n"
          ]
        }
      ],
      "source": [
        "#31. Extract the username from an email address string\n",
        "email=\"vamsikrishnakolluri01@gamil.com\"\n",
        "username=email.split(\"@\")[0]\n",
        "print(username)"
      ]
    },
    {
      "cell_type": "code",
      "execution_count": null,
      "metadata": {
        "colab": {
          "base_uri": "https://localhost:8080/"
        },
        "id": "QsCU_DVlhzhs",
        "outputId": "bb4e9afe-2ccb-4f38-f1c3-b7dab72a3b6e"
      },
      "outputs": [
        {
          "name": "stdout",
          "output_type": "stream",
          "text": [
            "gamil.com\n"
          ]
        }
      ],
      "source": [
        "# domain name from an email address\n",
        "email=\"vamsikrishnakolluri01@gamil.com\"\n",
        "username=email.split(\"@\")[1]\n",
        "print(username)"
      ]
    },
    {
      "cell_type": "code",
      "execution_count": null,
      "metadata": {
        "colab": {
          "base_uri": "https://localhost:8080/",
          "height": 36
        },
        "id": "-yxV7evnmjar",
        "outputId": "adf392c4-b6b2-4693-ebec-a015fc5bb2bd"
      },
      "outputs": [
        {
          "data": {
            "application/vnd.google.colaboratory.intrinsic+json": {
              "type": "string"
            },
            "text/plain": [
              "'vamsi is  very hunmble heart person'"
            ]
          },
          "execution_count": 24,
          "metadata": {},
          "output_type": "execute_result"
        }
      ],
      "source": [
        "#3. Replace multiple spaces in a string with a single space.\n",
        "string=\"vamsi  is   very  hunmble  heart  person\"\n",
        "v=string.replace(\"  \",\" \")\n",
        "v"
      ]
    },
    {
      "cell_type": "code",
      "execution_count": null,
      "metadata": {
        "colab": {
          "base_uri": "https://localhost:8080/"
        },
        "id": "qsk5MiCWmiuJ",
        "outputId": "e5ee139c-32e6-4e27-a403-b96cf85b208b"
      },
      "outputs": [
        {
          "name": "stdout",
          "output_type": "stream",
          "text": [
            "Enter a URL: https://chat.openai.com/c/2387f499-052f-449d-830e-b36b07b4b56f\n",
            "https://chat.openai.com/c/2387f499-052f-449d-830e-b36b07b4b56f is a valid URL.\n"
          ]
        }
      ],
      "source": [
        "url = input(\"Enter a URL: \")\n",
        "\n",
        "# Check if the URL starts with a valid scheme\n",
        "valid_schemes = [\"http\", \"https\", \"ftp\"]\n",
        "if any(url.lower().startswith(scheme) for scheme in valid_schemes):\n",
        "    # Check if there is a domain after the scheme\n",
        "    if \".\" in url:\n",
        "        print(f\"{url} is a valid URL.\")\n",
        "    else:\n",
        "        print(f\"{url} is not a valid URL. Missing domain.\")\n",
        "else:\n",
        "    print(f\"{url} is not a valid URL. Invalid scheme.\")\n"
      ]
    },
    {
      "cell_type": "code",
      "execution_count": null,
      "metadata": {
        "colab": {
          "base_uri": "https://localhost:8080/"
        },
        "id": "2bmypD-Rrn17",
        "outputId": "4b67d550-8741-4811-f99f-a83ce80127c0"
      },
      "outputs": [
        {
          "name": "stdout",
          "output_type": "stream",
          "text": [
            "https\n"
          ]
        }
      ],
      "source": [
        "#Extract the protocol (http or https) from a URL string.\n",
        "url=\"https://colab.research.google.com/drive/1Tr9F2dQFMo0qoghptoEidADwc6R3XoIc#scrollTo=2bmypD-Rrn17\"\n",
        "protocol=url.split(\":\")[0]\n",
        "print(protocol)"
      ]
    },
    {
      "cell_type": "code",
      "execution_count": null,
      "metadata": {
        "colab": {
          "base_uri": "https://localhost:8080/"
        },
        "id": "RAnqY8gyrn4w",
        "outputId": "349ccfc2-33da-464c-faf2-523516399963"
      },
      "outputs": [
        {
          "name": "stdout",
          "output_type": "stream",
          "text": [
            "v = 2 times\n",
            "a = 3 times\n",
            "m = 1 times\n",
            "s = 3 times\n",
            "i = 2 times\n",
            "v = 2 times\n",
            "a = 3 times\n",
            "d = 1 times\n",
            "s = 3 times\n",
            "g = 2 times\n",
            "y = 2 times\n",
            "g = 2 times\n",
            "y = 2 times\n",
            "u = 1 times\n",
            "i = 2 times\n",
            "n = 1 times\n",
            "s = 3 times\n",
            "a = 3 times\n"
          ]
        }
      ],
      "source": [
        "# Find the frequency of each character in a string\n",
        "v=\"vamsivadsgygyuinsa\"\n",
        "for i in v:\n",
        "  print(i,\"=\",v.count(i),'times')"
      ]
    },
    {
      "cell_type": "code",
      "execution_count": null,
      "metadata": {
        "colab": {
          "base_uri": "https://localhost:8080/"
        },
        "id": "3kOSwYCxrn-i",
        "outputId": "48d1714a-5cfc-4d05-a96f-71ca8395f415"
      },
      "outputs": [
        {
          "name": "stdout",
          "output_type": "stream",
          "text": [
            "Original String: this is puncivations from code.\n",
            "String without Punctuation: this is puncivations from code\n"
          ]
        }
      ],
      "source": [
        "#37. Remove all punctuation from a string.\n",
        "import string\n",
        "\n",
        "original_string = \"this is puncivations from code.\"\n",
        "\n",
        "no_punctuation = original_string.translate(str.maketrans(\"\", \"\", string.punctuation))\n",
        "\n",
        "print(\"Original String:\", original_string)\n",
        "print(\"String without Punctuation:\", no_punctuation)\n"
      ]
    },
    {
      "cell_type": "code",
      "execution_count": null,
      "metadata": {
        "colab": {
          "base_uri": "https://localhost:8080/"
        },
        "id": "ttqfLvOmroBG",
        "outputId": "acba1426-bd51-4cbd-cd9c-9d5610d8fbc0"
      },
      "outputs": [
        {
          "name": "stdout",
          "output_type": "stream",
          "text": [
            "the string is numaric\n"
          ]
        }
      ],
      "source": [
        "#Check if a string contains only digits\n",
        "string=\"1234567\"\n",
        "if string.isdigit():\n",
        "  print(\"the string is numaric\")\n",
        "else:\n",
        "  print(\"the string is not a numaric\")"
      ]
    },
    {
      "cell_type": "code",
      "execution_count": null,
      "metadata": {
        "colab": {
          "base_uri": "https://localhost:8080/"
        },
        "id": "aQgLgfl2roD4",
        "outputId": "3269ea7f-588e-4f5b-ba0f-30072293cd78"
      },
      "outputs": [
        {
          "name": "stdout",
          "output_type": "stream",
          "text": [
            "the string is alphabetic\n"
          ]
        }
      ],
      "source": [
        "#. Check if a string contains only alphabets\n",
        "string=\"abckjfjfge\"\n",
        "if string.isalpha():\n",
        "  print(\"the string is alphabetic\")\n",
        "else:\n",
        "  print(\"the string is not a alphabatic\")\n"
      ]
    },
    {
      "cell_type": "code",
      "execution_count": null,
      "metadata": {
        "colab": {
          "base_uri": "https://localhost:8080/"
        },
        "id": "nL0kgXC5roGn",
        "outputId": "f3b6f31f-c9ca-47e9-a54f-0079d913d699"
      },
      "outputs": [
        {
          "data": {
            "text/plain": [
              "['s', 't', 'r', 'i', 'n', 'g']"
            ]
          },
          "execution_count": 45,
          "metadata": {},
          "output_type": "execute_result"
        }
      ],
      "source": [
        "#0. Convert a string to a list of characters.\n",
        "string=\"hello vamsi\"\n",
        "new=list(\"string\")\n",
        "new"
      ]
    },
    {
      "cell_type": "code",
      "execution_count": null,
      "metadata": {
        "colab": {
          "base_uri": "https://localhost:8080/"
        },
        "id": "j56S9cUcroJL",
        "outputId": "4186a035-d444-49a0-e695-933cf4d120ee"
      },
      "outputs": [
        {
          "name": "stdout",
          "output_type": "stream",
          "text": [
            "the strings are anagram\n"
          ]
        }
      ],
      "source": [
        "#check if two string are anagram are not\n",
        "string1=\"vamsi\"\n",
        "string2=\"ismav\"\n",
        "a=''.join(string1.split()).lower()\n",
        "b=''.join(string2.split()).lower()\n",
        "if sorted(a)==sorted(b):\n",
        "  print(\"the strings are anagram\")\n",
        "else:\n",
        "  print(\"tha string are not a anagram\")"
      ]
    },
    {
      "cell_type": "code",
      "execution_count": null,
      "metadata": {
        "colab": {
          "base_uri": "https://localhost:8080/"
        },
        "id": "FNzDh3FcroO1",
        "outputId": "7f310bfa-ccae-46c8-e8cd-6921de94e78f"
      },
      "outputs": [
        {
          "name": "stdout",
          "output_type": "stream",
          "text": [
            "Original Text: Hello, World!\n",
            "Encoded Text (Caesar Cipher with shift 3): Khoor, Zruog!\n"
          ]
        }
      ],
      "source": [
        "#42. Encode a string using a Caesar cipher.\n",
        "original_text = \"Hello, World!\"\n",
        "shift_amount = 3\n",
        "\n",
        "encrypted_text = ''.join([chr((ord(char) - ord('a' if char.islower() else 'A') + shift_amount) % 26 + ord('a' if char.islower() else 'A')) if char.isalpha() else char for char in original_text])\n",
        "\n",
        "print(\"Original Text:\", original_text)\n",
        "print(f\"Encoded Text (Caesar Cipher with shift {shift_amount}):\", encrypted_text)\n"
      ]
    },
    {
      "cell_type": "code",
      "execution_count": null,
      "metadata": {
        "colab": {
          "base_uri": "https://localhost:8080/"
        },
        "id": "t92iAITfroRA",
        "outputId": "cc8eb9b6-bac2-45b3-e281-6fd2d64434e9"
      },
      "outputs": [
        {
          "name": "stdout",
          "output_type": "stream",
          "text": [
            "Encoded Text: Khoor, Zruog!\n",
            "Decoded Text (Caesar Cipher with shift 3): Hello, World!\n"
          ]
        }
      ],
      "source": [
        "#Decode a Caesar cipher encoded string\n",
        "encoded_text = \"Khoor, Zruog!\"\n",
        "shift_amount = 3\n",
        "\n",
        "decoded_text = ''.join([chr((ord(char) - ord('a' if char.islower() else 'A') - shift_amount) % 26 + ord('a' if char.islower() else 'A')) if char.isalpha() else char for char in encoded_text])\n",
        "\n",
        "print(\"Encoded Text:\", encoded_text)\n",
        "print(f\"Decoded Text (Caesar Cipher with shift {shift_amount}):\", decoded_text)\n",
        "\n"
      ]
    },
    {
      "cell_type": "code",
      "execution_count": null,
      "metadata": {
        "colab": {
          "base_uri": "https://localhost:8080/"
        },
        "id": "RdT1XV8nroWc",
        "outputId": "20437dff-1cb1-4deb-dcbe-996d386bbc38"
      },
      "outputs": [
        {
          "name": "stdout",
          "output_type": "stream",
          "text": [
            "Input String: This is an example string. This string contains some words, and some words may repeat.\n",
            "Most Frequent Word: this\n",
            "Frequency: 2\n"
          ]
        }
      ],
      "source": [
        "#4. Find the most frequent word in a string.\n",
        "input_string = \"This is an example string. This string contains some words, and some words may repeat.\"\n",
        "\n",
        "# Remove punctuation and convert to lowercase\n",
        "cleaned_string = ''.join(char.lower() if char.isalpha() or char.isspace() else ' ' for char in input_string)\n",
        "\n",
        "# Split the cleaned string into words\n",
        "words = cleaned_string.split()\n",
        "\n",
        "# Count word frequencies using a dictionary\n",
        "word_freq = {}\n",
        "for word in words:\n",
        "    word_freq[word] = word_freq.get(word, 0) + 1\n",
        "\n",
        "# Find the most frequent word\n",
        "most_frequent_word = max(word_freq, key=word_freq.get)\n",
        "\n",
        "print(\"Input String:\", input_string)\n",
        "print(\"Most Frequent Word:\", most_frequent_word)\n",
        "print(\"Frequency:\", word_freq[most_frequent_word])\n"
      ]
    },
    {
      "cell_type": "code",
      "execution_count": null,
      "metadata": {
        "colab": {
          "base_uri": "https://localhost:8080/"
        },
        "id": "38WzIqfrroYq",
        "outputId": "87af3574-1fd1-4d0d-c3ee-0f81be85d786"
      },
      "outputs": [
        {
          "name": "stdout",
          "output_type": "stream",
          "text": [
            "['an', 'this', 'a', 'simple', 'example.', 'hello', 'world,', 'is']\n"
          ]
        }
      ],
      "source": [
        "#Find all unique words in a string.\n",
        "input_string = \"Hello world, this is an example. This is a simple example.\"\n",
        "input_string = input_string.lower()\n",
        "words = input_string.split()\n",
        "unique_words = set(words)\n",
        "unique_words_list = list(unique_words)\n",
        "print(unique_words_list)\n"
      ]
    },
    {
      "cell_type": "code",
      "execution_count": null,
      "metadata": {
        "colab": {
          "base_uri": "https://localhost:8080/"
        },
        "id": "JsfuO4FVrobb",
        "outputId": "353e9fd9-f3d8-45b6-e12f-b15f25886281"
      },
      "outputs": [
        {
          "name": "stdout",
          "output_type": "stream",
          "text": [
            "Total syllables: 11\n"
          ]
        }
      ],
      "source": [
        "#46. Count the number of syllables in a string\n",
        "input_string = \"Count the number of syllables in a string\"\n",
        "\n",
        "# Step 1: Split the input string into words\n",
        "words = input_string.split()\n",
        "\n",
        "total_syllables = 0\n",
        "\n",
        "# Step 2: Count syllables in each word\n",
        "for word in words:\n",
        "    vowels = \"aeiouy\"\n",
        "    count = 0\n",
        "    prev_char = None\n",
        "\n",
        "    for char in word.lower():\n",
        "        if char in vowels and (prev_char is None or prev_char not in vowels):\n",
        "            count += 1\n",
        "        prev_char = char\n",
        "\n",
        "    # Adjust count for words ending with 'e'\n",
        "    if word.lower().endswith('e') and count > 1:\n",
        "        count -= 1\n",
        "\n",
        "    # Step 3: Accumulate the total syllable count\n",
        "    total_syllables += count\n",
        "\n",
        "# Step 4: Print the result\n",
        "print(f\"Total syllables: {total_syllables}\")\n"
      ]
    },
    {
      "cell_type": "code",
      "execution_count": null,
      "metadata": {
        "colab": {
          "base_uri": "https://localhost:8080/"
        },
        "id": "rbQ78fULrogp",
        "outputId": "4c288461-42ed-48bc-a0ed-fb42653a2e47"
      },
      "outputs": [
        {
          "name": "stdout",
          "output_type": "stream",
          "text": [
            "The string contains special characters.\n"
          ]
        }
      ],
      "source": [
        "#47. Check if a string contains any special characters.\n",
        "input_string = \"Check if a string contains any special characters!\"\n",
        "\n",
        "# Check for special characters\n",
        "special_characters = \"!@#$%^&*()-_+=[]{}|;:'\\\",.<>?/\"\n",
        "contains_special_characters = any(char in special_characters for char in input_string)\n",
        "\n",
        "# Print the result\n",
        "if contains_special_characters:\n",
        "    print(\"The string contains special characters.\")\n",
        "else:\n",
        "    print(\"The string does not contain any special characters.\")\n"
      ]
    },
    {
      "cell_type": "code",
      "execution_count": null,
      "metadata": {
        "colab": {
          "base_uri": "https://localhost:8080/"
        },
        "id": "h4PeRQVUroiH",
        "outputId": "484a0ee4-1037-47fe-e75a-76dbf9d30945"
      },
      "outputs": [
        {
          "name": "stdout",
          "output_type": "stream",
          "text": [
            "Result: Remove the word from a string.\n"
          ]
        }
      ],
      "source": [
        "#48. Remove the nth word from a string\n",
        "input_string = \"Remove the nth word from a string.\"\n",
        "n = 3\n",
        "\n",
        "# Split the string into words\n",
        "words = input_string.split()\n",
        "\n",
        "# Check if the value of n is valid\n",
        "if 1 <= n <= len(words):\n",
        "    # Remove the nth word\n",
        "    del words[n - 1]\n",
        "\n",
        "    # Join the remaining words back into a string\n",
        "    result_string = ' '.join(words)\n",
        "\n",
        "    print(f\"Result: {result_string}\")\n",
        "else:\n",
        "    print(\"Invalid value of n.\")\n"
      ]
    },
    {
      "cell_type": "code",
      "execution_count": null,
      "metadata": {
        "colab": {
          "base_uri": "https://localhost:8080/"
        },
        "id": "3sf2ye-Srolq",
        "outputId": "311a1157-a254-42fe-973c-232188bff5f3"
      },
      "outputs": [
        {
          "name": "stdout",
          "output_type": "stream",
          "text": [
            "Result: Insert a word new at the nth position in a string.\n"
          ]
        }
      ],
      "source": [
        "# Insert a word at the nth position in a string.\n",
        "input_string = \"Insert a word at the nth position in a string.\"\n",
        "word_to_insert = \"new\"\n",
        "n = 4\n",
        "\n",
        "# Split the string into words\n",
        "words = input_string.split()\n",
        "\n",
        "# Check if the value of n is valid\n",
        "if 1 <= n <= len(words) + 1:\n",
        "    # Insert the word at the nth position\n",
        "    words.insert(n - 1, word_to_insert)\n",
        "\n",
        "    # Join the modified list of words back into a string\n",
        "    result_string = ' '.join(words)\n",
        "\n",
        "    print(f\"Result: {result_string}\")\n",
        "else:\n",
        "    print(\"Invalid value of n.\")\n"
      ]
    },
    {
      "cell_type": "code",
      "execution_count": null,
      "metadata": {
        "colab": {
          "base_uri": "https://localhost:8080/"
        },
        "id": "_NAnsli_o4-r",
        "outputId": "c0088eb7-4df1-42a5-8d2e-01ca992439d7"
      },
      "outputs": [
        {
          "name": "stdout",
          "output_type": "stream",
          "text": [
            "['Name', ' Age', ' Country']\n",
            "['John', ' 25', ' USA']\n",
            "['Alice', ' 30', ' Canada']\n",
            "['Bob', ' 22', ' UK']\n"
          ]
        }
      ],
      "source": [
        "#50. Convert a CSV string to a list of lists.\n",
        "import csv\n",
        "import io\n",
        "\n",
        "csv_string = \"Name, Age, Country\\nJohn, 25, USA\\nAlice, 30, Canada\\nBob, 22, UK\"\n",
        "\n",
        "# Convert CSV string to a list of lists\n",
        "csv_list = list(csv.reader(io.StringIO(csv_string)))\n",
        "\n",
        "# Print the result\n",
        "for row in csv_list:\n",
        "    print(row)\n"
      ]
    },
    {
      "cell_type": "markdown",
      "metadata": {
        "id": "oylNW7g89Yct"
      },
      "source": [
        "List Based Practice Problem :"
      ]
    },
    {
      "cell_type": "code",
      "execution_count": null,
      "metadata": {
        "colab": {
          "base_uri": "https://localhost:8080/"
        },
        "id": "Mdt9qGGE9d4X",
        "outputId": "c095528b-e8cd-46e2-9c90-53fc52015e1a"
      },
      "outputs": [
        {
          "data": {
            "text/plain": [
              "[1, 2, 3, 4, 5, 6, 7, 8, 9, 10]"
            ]
          },
          "execution_count": 1,
          "metadata": {},
          "output_type": "execute_result"
        }
      ],
      "source": [
        "#Create a list with integers from 1 to 10\n",
        "v=[1,2,3,4,5,6,7,8,9,10]\n",
        "v"
      ]
    },
    {
      "cell_type": "code",
      "execution_count": null,
      "metadata": {
        "colab": {
          "base_uri": "https://localhost:8080/"
        },
        "id": "UhtHcuqp99lL",
        "outputId": "75ad2f50-6c6d-4d51-f1bc-35b55fae004a"
      },
      "outputs": [
        {
          "name": "stdout",
          "output_type": "stream",
          "text": [
            "the lenth of the function : 7\n"
          ]
        }
      ],
      "source": [
        "# Find the length of a list without using the `len()` function.\n",
        "a=[1,2,3,3,4,4,45]\n",
        "count=0\n",
        "for i in a:\n",
        "  count=count+1\n",
        "print(\"the lenth of the function :\",count)"
      ]
    },
    {
      "cell_type": "code",
      "execution_count": null,
      "metadata": {
        "colab": {
          "base_uri": "https://localhost:8080/"
        },
        "id": "yb8aE35JAniv",
        "outputId": "1c60090b-3252-458c-a19f-3b39793648cc"
      },
      "outputs": [
        {
          "data": {
            "text/plain": [
              "[1, 2, 3, 3, 4, 5, 6, 6, 7, 7, 8, 8]"
            ]
          },
          "execution_count": 12,
          "metadata": {},
          "output_type": "execute_result"
        }
      ],
      "source": [
        "#3. Append an element to the end of a list.\n",
        "a=[1,2,3,3,4,5,6,6,7,7,8]\n",
        "a.append(8)\n",
        "a"
      ]
    },
    {
      "cell_type": "code",
      "execution_count": null,
      "metadata": {
        "colab": {
          "base_uri": "https://localhost:8080/"
        },
        "id": "XcxqjaLzAnfR",
        "outputId": "f20a507b-c484-4672-a432-35eed81c4927"
      },
      "outputs": [
        {
          "data": {
            "text/plain": [
              "[1, 2, 3, 3, 4, 5, 6, 6, 7, 10, 7, 8]"
            ]
          },
          "execution_count": 15,
          "metadata": {},
          "output_type": "execute_result"
        }
      ],
      "source": [
        "#nsert an element at a specific index in a list\n",
        "a=[1,2,3,3,4,5,6,6,7,7,8]\n",
        "a.insert(9,10)\n",
        "a"
      ]
    },
    {
      "cell_type": "code",
      "execution_count": null,
      "metadata": {
        "colab": {
          "base_uri": "https://localhost:8080/"
        },
        "id": "4Q2cUJ09AnXZ",
        "outputId": "bd1e8b8c-6565-4d26-a936-4b31310f1110"
      },
      "outputs": [
        {
          "data": {
            "text/plain": [
              "[1, 2, 3, 3, 4, 5, 6, 6, 7, 7]"
            ]
          },
          "execution_count": 19,
          "metadata": {},
          "output_type": "execute_result"
        }
      ],
      "source": [
        "#. Remove an element from a list by its value.\n",
        "a=[1,2,3,3,4,5,6,6,7,7,8]\n",
        "a.remove(8)\n",
        "a"
      ]
    },
    {
      "cell_type": "code",
      "execution_count": null,
      "metadata": {
        "colab": {
          "base_uri": "https://localhost:8080/"
        },
        "id": "iDkIqR9DCoZf",
        "outputId": "1f2fc610-392b-45f1-d72c-4c049b3bf5e9"
      },
      "outputs": [
        {
          "data": {
            "text/plain": [
              "[1, 2, 3, 4, 5, 6, 6, 7, 7, 8]"
            ]
          },
          "execution_count": 20,
          "metadata": {},
          "output_type": "execute_result"
        }
      ],
      "source": [
        "#. Remove an element from a list by its index.\n",
        "a=[1,2,3,3,4,5,6,6,7,7,8]\n",
        "a.remove(a[2])\n",
        "a"
      ]
    },
    {
      "cell_type": "code",
      "execution_count": null,
      "metadata": {
        "colab": {
          "base_uri": "https://localhost:8080/"
        },
        "id": "LxOGGrQYCoWA",
        "outputId": "8334b222-7075-45b9-c594-167058d9d260"
      },
      "outputs": [
        {
          "name": "stdout",
          "output_type": "stream",
          "text": [
            "Modified list: [1, 2, 3, 4, 5, 6, 6, 7, 7, 8]\n"
          ]
        }
      ],
      "source": [
        "# Check if an element exists in a list.\n"
      ]
    },
    {
      "cell_type": "code",
      "execution_count": null,
      "metadata": {
        "colab": {
          "base_uri": "https://localhost:8080/"
        },
        "id": "SwxHUwyNEdh0",
        "outputId": "705fca46-0736-4e94-bba6-b1b61d6b6228"
      },
      "outputs": [
        {
          "name": "stdout",
          "output_type": "stream",
          "text": [
            "element exists in a list\n"
          ]
        }
      ],
      "source": [
        "## Check if an element exists in a list.\n",
        "a=[1,1,2,2,4,5,6,6]\n",
        "element_check=5\n",
        "if element_check in a:\n",
        "  print(\"element exists in a list\")\n",
        "else:\n",
        "  print(\"element exists is not in a list\")"
      ]
    },
    {
      "cell_type": "code",
      "execution_count": null,
      "metadata": {
        "colab": {
          "base_uri": "https://localhost:8080/"
        },
        "id": "s0uy8-bHEdeZ",
        "outputId": "b6f4634f-6ed8-44c4-cf1a-e03d15c40977"
      },
      "outputs": [
        {
          "name": "stdout",
          "output_type": "stream",
          "text": [
            "Index of 2: 1\n"
          ]
        }
      ],
      "source": [
        "# Find the index of the first occurrence of an element in a list.\n",
        "my_list = [1, 2, 3, 4, 2, 2, 5, 6, 2]\n",
        "\n",
        "# Find the index of the first occurrence of element '2' in the list\n",
        "index_of_2 = my_list.index(2)\n",
        "\n",
        "print(\"Index of 2:\", index_of_2)\n"
      ]
    },
    {
      "cell_type": "code",
      "execution_count": null,
      "metadata": {
        "colab": {
          "base_uri": "https://localhost:8080/"
        },
        "id": "GMdv94dHImvt",
        "outputId": "00e92f6e-2cf7-4206-95ad-af87aacb5697"
      },
      "outputs": [
        {
          "name": "stdout",
          "output_type": "stream",
          "text": [
            "the lenth of the function : 7\n"
          ]
        }
      ],
      "source": [
        "#9. Count the occurrences of an element in a list\n",
        "a=[1,2,3,3,4,4,45]\n",
        "count=0\n",
        "for i in a:\n",
        "  count=count+1\n",
        "print(\"the lenth of the function :\",count)"
      ]
    },
    {
      "cell_type": "code",
      "execution_count": null,
      "metadata": {
        "colab": {
          "base_uri": "https://localhost:8080/"
        },
        "id": "aJsETXdoeYiN",
        "outputId": "2f8d83ad-e141-484c-8f65-e0b7157de367"
      },
      "outputs": [
        {
          "name": "stdout",
          "output_type": "stream",
          "text": [
            "the ascending order: [5, 9, 34, 65, 68, 78]\n"
          ]
        }
      ],
      "source": [
        "# Sort a list in ascending order.\n",
        "mylist=[34,5,68,78,65,9]\n",
        "sorted_order=sorted(mylist)\n",
        "print(\"the ascending order:\",sorted_order)\n"
      ]
    },
    {
      "cell_type": "code",
      "execution_count": null,
      "metadata": {
        "colab": {
          "base_uri": "https://localhost:8080/"
        },
        "id": "uiBvRRWHeYeu",
        "outputId": "d7adb822-09f0-4bf0-ec9c-b2e38331ac0a"
      },
      "outputs": [
        {
          "name": "stdout",
          "output_type": "stream",
          "text": [
            "the ascending order: [78, 68, 65, 34, 9, 5]\n"
          ]
        }
      ],
      "source": [
        "#12. Sort a list in descending order.\n",
        "mylist=[34,5,68,78,65,9]\n",
        "sorted_order=sorted(mylist,reverse=True)\n",
        "print(\"the ascending order:\",sorted_order)"
      ]
    },
    {
      "cell_type": "markdown",
      "metadata": {
        "id": "HscIw21skADh"
      },
      "source": []
    },
    {
      "cell_type": "code",
      "execution_count": null,
      "metadata": {
        "colab": {
          "base_uri": "https://localhost:8080/"
        },
        "id": "D2pRzArBeYMH",
        "outputId": "f6eaaa25-cbd4-4b98-ec59-e9f9f6b03255"
      },
      "outputs": [
        {
          "name": "stdout",
          "output_type": "stream",
          "text": [
            "[2, 4, 6, 8, 10, 12, 14, 16, 18, 20]\n"
          ]
        }
      ],
      "source": [
        "#Create a list of even numbers from 1 to 20.\n",
        "even_numbers = [num for num in range(1, 21) if num % 2 == 0]\n",
        "print(even_numbers)\n"
      ]
    },
    {
      "cell_type": "code",
      "execution_count": null,
      "metadata": {
        "colab": {
          "base_uri": "https://localhost:8080/"
        },
        "id": "_59Djye8ZUIX",
        "outputId": "71238ea1-9a2a-454e-f8aa-90466b092e60"
      },
      "outputs": [
        {
          "name": "stdout",
          "output_type": "stream",
          "text": [
            "[1, 3, 5, 7, 9, 11, 13, 15, 17, 19]\n"
          ]
        }
      ],
      "source": [
        "#Create a list of odd numbers from 1 to 20.\n",
        "odd_numbers = [num for num in range(1, 21) if num % 2 != 0]\n",
        "print(odd_numbers)\n"
      ]
    },
    {
      "cell_type": "code",
      "execution_count": null,
      "metadata": {
        "colab": {
          "base_uri": "https://localhost:8080/"
        },
        "id": "qFqx9NK4ZT7E",
        "outputId": "db83c463-9b77-4d1c-f9b5-57b35319cef7"
      },
      "outputs": [
        {
          "data": {
            "text/plain": [
              "51"
            ]
          },
          "execution_count": 5,
          "metadata": {},
          "output_type": "execute_result"
        }
      ],
      "source": [
        "#Find the sum of all elements in a list.\n",
        "mylist=[1,2,3,34,5,6]\n",
        "a=sum(mylist)\n",
        "a"
      ]
    },
    {
      "cell_type": "code",
      "execution_count": null,
      "metadata": {
        "colab": {
          "base_uri": "https://localhost:8080/"
        },
        "id": "_tOqEcQUauuT",
        "outputId": "0f31365d-d910-48bc-c24b-06aedf2a5b91"
      },
      "outputs": [
        {
          "data": {
            "text/plain": [
              "446"
            ]
          },
          "execution_count": 6,
          "metadata": {},
          "output_type": "execute_result"
        }
      ],
      "source": [
        "#find the maximum value in a list.\n",
        "my_list=[1,2,3,446,78,67,7]\n",
        "a=max(my_list)\n",
        "a"
      ]
    },
    {
      "cell_type": "code",
      "execution_count": null,
      "metadata": {
        "colab": {
          "base_uri": "https://localhost:8080/"
        },
        "id": "1UMDGpfyauq0",
        "outputId": "bf55fb84-aa9b-4a98-cdb5-0d9f3c79534f"
      },
      "outputs": [
        {
          "data": {
            "text/plain": [
              "1"
            ]
          },
          "execution_count": 7,
          "metadata": {},
          "output_type": "execute_result"
        }
      ],
      "source": [
        "#Find the minimum value in a list.\n",
        "mylist=[1,2,3,4,46,6,547,78]\n",
        "a=min(mylist)\n",
        "a"
      ]
    },
    {
      "cell_type": "code",
      "execution_count": null,
      "metadata": {
        "colab": {
          "base_uri": "https://localhost:8080/"
        },
        "id": "FKRtfAkhauoW",
        "outputId": "7bc06849-9ca2-4264-db31-7fb3b74cd85d"
      },
      "outputs": [
        {
          "name": "stdout",
          "output_type": "stream",
          "text": [
            "[0, 1, 4, 9, 16, 25, 36, 49, 64, 81, 100]\n"
          ]
        }
      ],
      "source": [
        "#8. Create a list of squares of numbers from 1 to 10.\n",
        "mylist=[num**2 for num in range(0,11)]\n",
        "print(mylist)"
      ]
    },
    {
      "cell_type": "code",
      "execution_count": null,
      "metadata": {
        "colab": {
          "base_uri": "https://localhost:8080/"
        },
        "id": "VtDAu5BaaulZ",
        "outputId": "8dbd8e3e-c12f-4e4b-fef2-cc15c3b9e47d"
      },
      "outputs": [
        {
          "name": "stdout",
          "output_type": "stream",
          "text": [
            "[90, 84, 57, 42, 25]\n"
          ]
        }
      ],
      "source": [
        "#Create a list of random numbers.\n",
        "import random\n",
        "random_number=[random.randint(1,100) for _ in range(5)]\n",
        "print(random_number)"
      ]
    },
    {
      "cell_type": "code",
      "execution_count": null,
      "metadata": {
        "colab": {
          "base_uri": "https://localhost:8080/"
        },
        "id": "TKL9sGSNd7my",
        "outputId": "0c3b39a2-8213-4e19-8aad-7742cfbba9da"
      },
      "outputs": [
        {
          "name": "stdout",
          "output_type": "stream",
          "text": [
            "[[4, 12, 23, 55, 667]]\n"
          ]
        }
      ],
      "source": [
        "#emove duplicates from a list\n",
        "mylist=[12,23,4,55,667,55,12,4]\n",
        "duplicate_list=[list(set(mylist))]\n",
        "print(duplicate_list)"
      ]
    },
    {
      "cell_type": "code",
      "execution_count": null,
      "metadata": {
        "colab": {
          "base_uri": "https://localhost:8080/"
        },
        "id": "Bp7ADjx3d7qG",
        "outputId": "cbc3be60-966c-4caf-8ba6-04cda65c2a42"
      },
      "outputs": [
        {
          "name": "stdout",
          "output_type": "stream",
          "text": [
            "[[1, 2, 3, 4, 5]]\n"
          ]
        }
      ],
      "source": [
        "#1. Find the common elements between two lists.\n",
        "mylist1=[1,2,3,4,5,3,55,435,35,6]\n",
        "mylist2=[1,2,3,4,5,3,42,534,54,34]\n",
        "sorted_list=[list(set(mylist1) & set(mylist2))]\n",
        "print(sorted_list)"
      ]
    },
    {
      "cell_type": "code",
      "execution_count": null,
      "metadata": {
        "colab": {
          "base_uri": "https://localhost:8080/"
        },
        "id": "45ZDrSF1_k7P",
        "outputId": "cb96c214-1bf3-4701-d6fc-9ca0649494bf"
      },
      "outputs": [
        {
          "name": "stdout",
          "output_type": "stream",
          "text": [
            "[1, 2, 3, 4, 6, 7, 8, 9, 10, 11, 12, 13]\n"
          ]
        }
      ],
      "source": [
        "# Merge two lists\n",
        "list1=[1,2,3,4,6,7,8]\n",
        "list2=[9,10,11,12,13]\n",
        "list1.extend(list2)\n",
        "print(list1)\n"
      ]
    },
    {
      "cell_type": "code",
      "execution_count": null,
      "metadata": {
        "colab": {
          "base_uri": "https://localhost:8080/"
        },
        "id": "MDIeUmpU_k-z",
        "outputId": "9b5b8729-0ad6-4e38-879d-b1b0cf9557b4"
      },
      "outputs": [
        {
          "name": "stdout",
          "output_type": "stream",
          "text": [
            "Original List: [1, 2, 3, 4, 5]\n",
            "List after multiplying each element by 2: [2, 4, 6, 8, 10]\n"
          ]
        }
      ],
      "source": [
        "#Multiply all elements in a list by 2.\n",
        "original_list = [1, 2, 3, 4, 5]\n",
        "result_list = [element * 2 for element in original_list]\n",
        "\n",
        "print(\"Original List:\", original_list)\n",
        "print(\"List after multiplying each element by 2:\", result_list)\n"
      ]
    },
    {
      "cell_type": "code",
      "execution_count": null,
      "metadata": {
        "colab": {
          "base_uri": "https://localhost:8080/"
        },
        "id": "PwQuwlBe_lKh",
        "outputId": "41b1e9b4-d1b4-4920-d070-752397e0c4f8"
      },
      "outputs": [
        {
          "name": "stdout",
          "output_type": "stream",
          "text": [
            "original list: [1, 2, 3, 4, 5, 6, 7, 8, 9, 10]\n",
            "sortedlist: [2, 4, 6, 8, 10]\n"
          ]
        }
      ],
      "source": [
        "# Filter out all even numbers from a list.\n",
        "list1=[1,2,3,4,5,6,7,8,9,10]\n",
        "sortedlist=[number for number in list1 if number % 2 == 0]\n",
        "print(\"original list:\",list1)\n",
        "print(\"sortedlist:\",sortedlist)\n"
      ]
    },
    {
      "cell_type": "code",
      "execution_count": null,
      "metadata": {
        "colab": {
          "background_save": true
        },
        "id": "3Iv0zfH2BQ9v",
        "outputId": "733e5603-013c-4910-dc6c-8bd16f0a59ae"
      },
      "outputs": [
        {
          "data": {
            "text/plain": [
              "[1, 2, 3, 4]"
            ]
          },
          "execution_count": 1,
          "metadata": {},
          "output_type": "execute_result"
        }
      ],
      "source": [
        "#Convert a list of strings to a list of integer\n",
        "list1=[\"1\",\"2\",\"3\",\"4\"]\n",
        "a=list(map(int,list1))\n",
        "a"
      ]
    },
    {
      "cell_type": "code",
      "source": [
        "#7. Convert a list of integers to a list of strings.\n",
        "list2=[1,2,3,4,5,6,7]\n",
        "a=list(map(str,list2))\n",
        "a"
      ],
      "metadata": {
        "colab": {
          "base_uri": "https://localhost:8080/"
        },
        "id": "by0MnTmdN1Rc",
        "outputId": "23027ce9-522c-424b-e1cd-fce1e8beccfc"
      },
      "execution_count": null,
      "outputs": [
        {
          "output_type": "execute_result",
          "data": {
            "text/plain": [
              "['1', '2', '3', '4', '5', '6', '7']"
            ]
          },
          "metadata": {},
          "execution_count": 1
        }
      ]
    },
    {
      "cell_type": "code",
      "source": [
        "# Flatten a nested list\n",
        "nested_list = [[1, 2, [3]], [4, [5, 6]], 7, [8, 9]]\n",
        "flattened_list = []\n",
        "\n",
        "while nested_list:\n",
        "    element = nested_list.pop(0)\n",
        "    if isinstance(element, list):\n",
        "        nested_list = element + nested_list\n",
        "    else:\n",
        "        flattened_list.append(element)\n",
        "\n",
        "print(flattened_list)\n",
        "\n",
        "\n"
      ],
      "metadata": {
        "id": "GnhnM5MWN1OE",
        "colab": {
          "base_uri": "https://localhost:8080/"
        },
        "outputId": "6f254dd1-11eb-4d70-985c-da53c84b2590"
      },
      "execution_count": null,
      "outputs": [
        {
          "output_type": "stream",
          "name": "stdout",
          "text": [
            "[1, 2, 3, 4, 5, 6, 7, 8, 9]\n"
          ]
        }
      ]
    },
    {
      "cell_type": "code",
      "source": [
        "#Create a list of the first 10 Fibonacci numbers.\n",
        "# Initialize the first two Fibonacci numbers\n",
        "fibonacci_numbers = [0, 1]\n",
        "\n",
        "# Generate the next Fibonacci numbers\n",
        "for i in range(2, 10):\n",
        "    next_fibonacci = fibonacci_numbers[-1] + fibonacci_numbers[-2]\n",
        "    fibonacci_numbers.append(next_fibonacci)\n",
        "\n",
        "print(fibonacci_numbers)\n"
      ],
      "metadata": {
        "id": "zHwF4XYbN1HT",
        "colab": {
          "base_uri": "https://localhost:8080/"
        },
        "outputId": "5cfcadd1-5cdc-4012-e7c4-dfe858226543"
      },
      "execution_count": null,
      "outputs": [
        {
          "output_type": "stream",
          "name": "stdout",
          "text": [
            "[0, 1, 1, 2, 3, 5, 8, 13, 21, 34]\n"
          ]
        }
      ]
    },
    {
      "cell_type": "code",
      "source": [
        "#. Check if a list is sorted.\n",
        "# Example lists\n",
        "sorted_list = [1, 2, 3, 4, 5]\n",
        "unsorted_list = [3, 1, 4, 2, 5]\n",
        "\n",
        "# Check if a list is sorted\n",
        "is_sorted_sorted_list = True\n",
        "for i in range(len(sorted_list) - 1):\n",
        "    if sorted_list[i] > sorted_list[i + 1]:\n",
        "        is_sorted_sorted_list = False\n",
        "        break\n",
        "\n",
        "is_sorted_unsorted_list = True\n",
        "for i in range(len(unsorted_list) - 1):\n",
        "    if unsorted_list[i] > unsorted_list[i + 1]:\n",
        "        is_sorted_unsorted_list = False\n",
        "        break\n",
        "\n",
        "print(\"Is sorted_list sorted?\", is_sorted_sorted_list)    # Output: True\n",
        "print(\"Is unsorted_list sorted?\", is_sorted_unsorted_list)  # Output: False\n",
        "\n"
      ],
      "metadata": {
        "colab": {
          "base_uri": "https://localhost:8080/"
        },
        "id": "GXxUheYs886Y",
        "outputId": "986ff1a0-058b-407f-c9e0-ebc094a5965a"
      },
      "execution_count": null,
      "outputs": [
        {
          "output_type": "stream",
          "name": "stdout",
          "text": [
            "Is sorted_list sorted? True\n",
            "Is unsorted_list sorted? False\n"
          ]
        }
      ]
    },
    {
      "cell_type": "code",
      "source": [
        "# Rotate a list to the left by `n` positions\n",
        "# Define a list\n",
        "my_list = [1, 2, 3, 4, 5]\n",
        "\n",
        "# Define the number of positions to rotate\n",
        "n = 2\n",
        "\n",
        "# Rotate the list to the left by n positions\n",
        "for i in range(n):\n",
        "    first_element = my_list[0]  # Store the first element\n",
        "    for j in range(len(my_list)-1):\n",
        "        my_list[j] = my_list[j+1]  # Shift elements to the left\n",
        "    my_list[-1] = first_element  # Assign the first element to the last position\n",
        "\n",
        "# Print the rotated list\n",
        "print(\"Rotated list:\", my_list)\n",
        "\n"
      ],
      "metadata": {
        "id": "OcfnFddP8824",
        "colab": {
          "base_uri": "https://localhost:8080/"
        },
        "outputId": "ac94c21b-662a-485d-8ce4-0e0191c85515"
      },
      "execution_count": null,
      "outputs": [
        {
          "output_type": "stream",
          "name": "stdout",
          "text": [
            "Rotated list: [3, 4, 5, 1, 2]\n"
          ]
        }
      ]
    },
    {
      "cell_type": "code",
      "source": [
        "#2. Rotate a list to the right by `n` positions# Define a list\n",
        "my_list = [1, 2, 3, 4, 5]\n",
        "\n",
        "# Define the number of positions to rotate\n",
        "n = 2\n",
        "\n",
        "# Rotate the list to the right by n positions\n",
        "for i in range(n):\n",
        "    last_element = my_list[-1]  # Store the last element\n",
        "    for j in range(len(my_list)-1, 0, -1):\n",
        "        my_list[j] = my_list[j-1]  # Shift elements to the right\n",
        "    my_list[0] = last_element  # Assign the last element to the first position\n",
        "\n",
        "# Print the rotated list\n",
        "print(\"Rotated list:\", my_list)\n",
        "\n"
      ],
      "metadata": {
        "id": "RcxjoFpG880R",
        "colab": {
          "base_uri": "https://localhost:8080/"
        },
        "outputId": "1c485076-fefa-4a30-a4db-a81c414633ad"
      },
      "execution_count": null,
      "outputs": [
        {
          "output_type": "stream",
          "name": "stdout",
          "text": [
            "Rotated list: [4, 5, 1, 2, 3]\n"
          ]
        }
      ]
    },
    {
      "cell_type": "code",
      "source": [
        "#Create a list of prime numbers up to 50\n",
        "prime_numbers = [num for num in range(2, 51) if all(num % i != 0 for i in range(2, int(num ** 0.5) + 1))]\n",
        "print(\"Prime numbers up to 50:\", prime_numbers)\n"
      ],
      "metadata": {
        "id": "eTqjtvRBATqd",
        "colab": {
          "base_uri": "https://localhost:8080/"
        },
        "outputId": "bbf3bac7-0917-493f-a311-fdb7497d4862"
      },
      "execution_count": null,
      "outputs": [
        {
          "output_type": "stream",
          "name": "stdout",
          "text": [
            "Prime numbers up to 50: [2, 3, 5, 7, 11, 13, 17, 19, 23, 29, 31, 37, 41, 43, 47]\n"
          ]
        }
      ]
    },
    {
      "cell_type": "code",
      "source": [
        "# Split a list into chunks of size `n`\n",
        "list1=[1,2,3,4,56,6,77]\n",
        "n= 3\n",
        "chunks = [list1[i:i+n] for i in range(0, len(list1), n)]\n"
      ],
      "metadata": {
        "id": "WxJqs-goAThX"
      },
      "execution_count": null,
      "outputs": []
    },
    {
      "cell_type": "code",
      "source": [
        "#Find the second largest number in a list\n",
        "# Define a list\n",
        "my_list = [10, 5, 20, 15, 30]\n",
        "\n",
        "sorted_list = sorted(my_list, reverse=True)\n",
        "second_largest = sorted_list[1]\n",
        "print(\"Second largest number:\", second_largest)\n",
        "\n"
      ],
      "metadata": {
        "id": "CB3PE42rATeN",
        "colab": {
          "base_uri": "https://localhost:8080/"
        },
        "outputId": "a4a63fe4-cb61-4ce8-c5c3-e9132b3c2093"
      },
      "execution_count": null,
      "outputs": [
        {
          "output_type": "stream",
          "name": "stdout",
          "text": [
            "Second largest number: 20\n"
          ]
        }
      ]
    },
    {
      "cell_type": "code",
      "source": [
        "#Replace every element in a list with its square.\n",
        "lis1=[2,3,4,5,6]\n",
        "list2=[i**2 for i in list1]\n",
        "print(list2)"
      ],
      "metadata": {
        "id": "EQD0OeIiATbP",
        "colab": {
          "base_uri": "https://localhost:8080/"
        },
        "outputId": "281a0299-b200-42f1-a4c4-c4f19fa3e0b5"
      },
      "execution_count": null,
      "outputs": [
        {
          "output_type": "stream",
          "name": "stdout",
          "text": [
            "[1, 4, 9, 16, 3136, 36, 5929]\n"
          ]
        }
      ]
    },
    {
      "cell_type": "code",
      "source": [
        "''' Convert a list to a dictionary where list elements become keys and their\n",
        "indices become values'''\n",
        "# Original list\n",
        "original_list = ['apple', 'banana', 'orange', 'grape']\n",
        "\n",
        "# Convert list to dictionary using dictionary comprehension\n",
        "dictionary = {value: index for index, value in enumerate(original_list)}\n",
        "\n",
        "print(dictionary)\n",
        "\n"
      ],
      "metadata": {
        "id": "vYyCnKHBATYi",
        "colab": {
          "base_uri": "https://localhost:8080/"
        },
        "outputId": "ce7c9f23-dc22-4d7c-98fe-3454b9825451"
      },
      "execution_count": null,
      "outputs": [
        {
          "output_type": "stream",
          "name": "stdout",
          "text": [
            "{'apple': 0, 'banana': 1, 'orange': 2, 'grape': 3}\n"
          ]
        }
      ]
    },
    {
      "cell_type": "code",
      "source": [
        "#. Shuffle the elements of a list randomly.\n",
        "import random\n",
        "list1=[1,2,3,4,5,6]\n",
        "random.shuffle(list1)\n",
        "print(list1)"
      ],
      "metadata": {
        "id": "jVxmkSPzATVT",
        "colab": {
          "base_uri": "https://localhost:8080/"
        },
        "outputId": "dccc91ae-5c62-4e88-d35c-ce9e72cda92d"
      },
      "execution_count": null,
      "outputs": [
        {
          "output_type": "stream",
          "name": "stdout",
          "text": [
            "[3, 1, 2, 5, 4, 6]\n"
          ]
        }
      ]
    },
    {
      "cell_type": "code",
      "source": [
        "#Create a list of the first 10 factorial numbers.\n",
        "def factorial(n):\n",
        "  if n==0:\n",
        "   return 1\n",
        "  else:\n",
        "    return(n*n-1)\n",
        "factorial_list = [factorial(n) for n in range(10)]\n",
        "print(factorial_list)\n"
      ],
      "metadata": {
        "id": "A1BSp3XPATSP",
        "colab": {
          "base_uri": "https://localhost:8080/"
        },
        "outputId": "c7ad25a7-e857-4354-d604-b568fb8cb004"
      },
      "execution_count": null,
      "outputs": [
        {
          "output_type": "stream",
          "name": "stdout",
          "text": [
            "[1, 0, 3, 8, 15, 24, 35, 48, 63, 80]\n"
          ]
        }
      ]
    },
    {
      "cell_type": "code",
      "source": [
        "#Check if two lists have at least one element in common\n",
        "list1=[1,2,3,35345,56467,78,546,89]\n",
        "list2=[98743,64,677,346,5,756,7,1]\n",
        "if any(element in list1 for element in list2):\n",
        "    print(\"The lists have at least one common element.\")\n",
        "else:\n",
        "    print(\"The lists do not have any common elements.\")"
      ],
      "metadata": {
        "colab": {
          "base_uri": "https://localhost:8080/"
        },
        "id": "s5cyJ39lSfGY",
        "outputId": "14156f82-92b7-4ed5-c7ed-cecbdfc4ecf1"
      },
      "execution_count": null,
      "outputs": [
        {
          "output_type": "stream",
          "name": "stdout",
          "text": [
            "The lists have at least one common element.\n"
          ]
        }
      ]
    },
    {
      "cell_type": "code",
      "source": [
        "# Remove all elements from a list\n",
        "list=[1,2,3,4,6,7]\n",
        "list.clear()\n",
        "list"
      ],
      "metadata": {
        "colab": {
          "base_uri": "https://localhost:8080/"
        },
        "id": "QNkBNTgESfAz",
        "outputId": "a8bd1694-04e6-460e-9513-22e3b7018b87"
      },
      "execution_count": null,
      "outputs": [
        {
          "output_type": "execute_result",
          "data": {
            "text/plain": [
              "[]"
            ]
          },
          "metadata": {},
          "execution_count": 21
        }
      ]
    },
    {
      "cell_type": "code",
      "source": [
        "# Replace negative numbers in a list with 0.\n",
        "# Original list\n",
        "my_list = [1, -2, 3, -4, 6, -7]\n",
        "my_list = [x if x >= 0 else 0 for x in my_list]\n",
        "print(my_list)\n"
      ],
      "metadata": {
        "colab": {
          "base_uri": "https://localhost:8080/"
        },
        "id": "CPX93Ts8UChZ",
        "outputId": "39dab0a1-3cb5-49c4-d581-86dfe21d8fa3"
      },
      "execution_count": null,
      "outputs": [
        {
          "output_type": "stream",
          "name": "stdout",
          "text": [
            "[1, 0, 3, 0, 6, 0]\n"
          ]
        }
      ]
    },
    {
      "cell_type": "code",
      "source": [
        "#Convert a string into a list of words.\n",
        "# Example string\n",
        "my_string = \"Hello, how are you?\"\n",
        "\n",
        "# Convert the string into a list of words\n",
        "word_list = my_string.split()\n",
        "\n",
        "print(word_list)\n"
      ],
      "metadata": {
        "colab": {
          "base_uri": "https://localhost:8080/"
        },
        "id": "hr8XXQLqUCdz",
        "outputId": "980d9e80-e944-4bb6-d9e1-1ef9e0af7a59"
      },
      "execution_count": null,
      "outputs": [
        {
          "output_type": "stream",
          "name": "stdout",
          "text": [
            "['Hello,', 'how', 'are', 'you?']\n"
          ]
        }
      ]
    },
    {
      "cell_type": "code",
      "source": [
        "#Convert a list of words into a string.\n",
        "my_string=[\"vamsi\",\"is\",\"good\",\"boy\"]\n",
        "a= ' '.join(my_string)\n",
        "a"
      ],
      "metadata": {
        "colab": {
          "base_uri": "https://localhost:8080/",
          "height": 36
        },
        "id": "h1PwKU_GUCa-",
        "outputId": "ccdc107c-d571-4a30-f9db-002dad9bfc8c"
      },
      "execution_count": null,
      "outputs": [
        {
          "output_type": "execute_result",
          "data": {
            "text/plain": [
              "'vamsi is good boy'"
            ],
            "application/vnd.google.colaboratory.intrinsic+json": {
              "type": "string"
            }
          },
          "metadata": {},
          "execution_count": 32
        }
      ]
    },
    {
      "cell_type": "code",
      "source": [
        "#. Create a list of the first `n` powers of 2.\n",
        "# Define the value of n\n",
        "n = 5\n",
        "powers_of_2 = [2**i for i in range(n)]\n",
        "print(powers_of_2)\n"
      ],
      "metadata": {
        "colab": {
          "base_uri": "https://localhost:8080/"
        },
        "id": "ry7rmN58UCYs",
        "outputId": "5a2d857c-a022-4301-e2be-f9aec6a9263b"
      },
      "execution_count": null,
      "outputs": [
        {
          "output_type": "stream",
          "name": "stdout",
          "text": [
            "[1, 2, 4, 8, 16]\n"
          ]
        }
      ]
    },
    {
      "cell_type": "code",
      "source": [
        "#6. Find the longest string in a list of strings.\n",
        "list1=[\"vamsi\",\"is\",\"krishn\",\"kolluri\",\"mawabrohappy\"]\n",
        "b=max(list1,key=len)\n",
        "b\n"
      ],
      "metadata": {
        "colab": {
          "base_uri": "https://localhost:8080/",
          "height": 36
        },
        "id": "oZpTk7a5UCVW",
        "outputId": "9e42ece5-8328-4341-dae4-15062b92f126"
      },
      "execution_count": null,
      "outputs": [
        {
          "output_type": "execute_result",
          "data": {
            "text/plain": [
              "'mawabrohappy'"
            ],
            "application/vnd.google.colaboratory.intrinsic+json": {
              "type": "string"
            }
          },
          "metadata": {},
          "execution_count": 34
        }
      ]
    },
    {
      "cell_type": "code",
      "source": [
        "# Find the shortest string in a list of strings.\n",
        "list1=[\"vamsi\",\"is\",\"krishn\",\"kolluri\",\"mawabrohappy\"]\n",
        "b=min(list1,key=len)\n",
        "b"
      ],
      "metadata": {
        "colab": {
          "base_uri": "https://localhost:8080/",
          "height": 36
        },
        "id": "IKPgQKepY08-",
        "outputId": "71054a8b-aca9-4f35-b39e-879641b35787"
      },
      "execution_count": null,
      "outputs": [
        {
          "output_type": "execute_result",
          "data": {
            "text/plain": [
              "'is'"
            ],
            "application/vnd.google.colaboratory.intrinsic+json": {
              "type": "string"
            }
          },
          "metadata": {},
          "execution_count": 35
        }
      ]
    },
    {
      "cell_type": "code",
      "source": [
        "#. Create a list of the first `n` triangular numbers.\n",
        "n = 5\n",
        "triangular_numbers = [i * (i + 1) // 2 for i in range(1, n + 1)]\n",
        "print(triangular_numbers)\n"
      ],
      "metadata": {
        "colab": {
          "base_uri": "https://localhost:8080/"
        },
        "id": "FK452ybDY05n",
        "outputId": "88e91a74-e63a-4fd0-d30d-bcfe7248363a"
      },
      "execution_count": null,
      "outputs": [
        {
          "output_type": "stream",
          "name": "stdout",
          "text": [
            "[1, 3, 6, 10, 15]\n"
          ]
        }
      ]
    },
    {
      "cell_type": "code",
      "source": [
        "#. Check if a list contains another list as a subsequence.\n",
        "lst = [1,2,33,4,5]\n",
        "sub_lst = [1,33]\n",
        "for i in lst:\n",
        "  if i==sub_lst:\n",
        "    print(\"it has a subsequence\")\n",
        "  else:\n",
        "    print(\"it has not a subsequence\")"
      ],
      "metadata": {
        "colab": {
          "base_uri": "https://localhost:8080/"
        },
        "id": "bZe_Une6Y03C",
        "outputId": "70f5a773-1e54-4d95-9807-661b08c67b72"
      },
      "execution_count": null,
      "outputs": [
        {
          "output_type": "stream",
          "name": "stdout",
          "text": [
            "it has not a subsequence\n",
            "it has not a subsequence\n",
            "it has not a subsequence\n",
            "it has not a subsequence\n",
            "it has not a subsequence\n"
          ]
        }
      ]
    },
    {
      "cell_type": "code",
      "source": [
        "# Example lists\n",
        "main_list = [1, 2, 3, 4, 5, 6, 7, 8]\n",
        "sub_list = [3, 5, 7]\n",
        "\n",
        "# Check if sub_list is a subsequence of main_list\n",
        "if all(item in main_list for item in sub_list):\n",
        "    print(\"sub_list is a subsequence of main_list\")\n",
        "else:\n",
        "    print(\"sub_list is not a subsequence of main_list\")\n"
      ],
      "metadata": {
        "colab": {
          "base_uri": "https://localhost:8080/"
        },
        "id": "VCCyk6scaLDD",
        "outputId": "e8d81007-6188-40e1-c2ed-eb70c7a3552f"
      },
      "execution_count": null,
      "outputs": [
        {
          "output_type": "stream",
          "name": "stdout",
          "text": [
            "sub_list is a subsequence of main_list\n"
          ]
        }
      ]
    },
    {
      "cell_type": "code",
      "source": [
        "#Swap two elements in a list by their indices.\n",
        "\n",
        "my_list = [1, 2, 3, 4, 5]\n",
        "index1 = 1\n",
        "index2 = 3\n",
        "my_list[index1], my_list[index2] = my_list[index2], my_list[index1]\n",
        "\n",
        "print(my_list)\n"
      ],
      "metadata": {
        "colab": {
          "base_uri": "https://localhost:8080/"
        },
        "id": "PlY3VIBabeA4",
        "outputId": "9acd4640-983c-4e23-fa08-fe8278e4bf89"
      },
      "execution_count": null,
      "outputs": [
        {
          "output_type": "stream",
          "name": "stdout",
          "text": [
            "[1, 4, 3, 2, 5]\n"
          ]
        }
      ]
    },
    {
      "cell_type": "markdown",
      "source": [
        "tuple based practice problem"
      ],
      "metadata": {
        "id": "LonsokhyeW4b"
      }
    },
    {
      "cell_type": "code",
      "source": [
        "#. Create a tuple with integers from 1 to 5\n",
        "tuple1=(1,2,3,4,5)\n",
        "print(tuple1)"
      ],
      "metadata": {
        "colab": {
          "base_uri": "https://localhost:8080/"
        },
        "id": "lgJVZAz0eg1Q",
        "outputId": "c436f0de-e7d7-4047-a115-fcb5e1c1caf8"
      },
      "execution_count": null,
      "outputs": [
        {
          "output_type": "stream",
          "name": "stdout",
          "text": [
            "(1, 2, 3, 4, 5)\n"
          ]
        }
      ]
    },
    {
      "cell_type": "code",
      "source": [
        "#2. Access the third element of a tuple.\n",
        "t1=(1,2,3,4,5,6)\n",
        "t1[2]"
      ],
      "metadata": {
        "colab": {
          "base_uri": "https://localhost:8080/"
        },
        "id": "uOB5SuKKe03V",
        "outputId": "ffbf5053-0bd2-428e-8e04-352aab087740"
      },
      "execution_count": null,
      "outputs": [
        {
          "output_type": "execute_result",
          "data": {
            "text/plain": [
              "3"
            ]
          },
          "metadata": {},
          "execution_count": 48
        }
      ]
    },
    {
      "cell_type": "code",
      "source": [
        "#Find the length of a tuple without using the `len()` function.\n",
        "tuple1=(1,2,3,4,5,6)\n",
        "count=0\n",
        "for i in tuple1:\n",
        "  count=count+1\n",
        "print(\"the lenth of he string:\",count)\n"
      ],
      "metadata": {
        "colab": {
          "base_uri": "https://localhost:8080/"
        },
        "id": "tSJa7GHZe0z9",
        "outputId": "28bcc2ab-6f2d-4b0b-f07b-7d8a15712a16"
      },
      "execution_count": null,
      "outputs": [
        {
          "output_type": "stream",
          "name": "stdout",
          "text": [
            "the lenth of he string: 6\n"
          ]
        }
      ]
    },
    {
      "cell_type": "code",
      "source": [
        "#Count the occurrences of an element in a tuple\n",
        "tuple1=(1,2,3,4,2,5,6,7,2)\n",
        "occurance_element=2\n",
        "count=0\n",
        "for i in tuple1:\n",
        "  if i == occurance_element:\n",
        "    count=count+1\n",
        "print(\"Occurrences of\",occurance_element, \"in the tuple:\", count)\n"
      ],
      "metadata": {
        "colab": {
          "base_uri": "https://localhost:8080/"
        },
        "id": "OO-J9kpne0xh",
        "outputId": "abf9c8f5-cc7b-4e2a-a54f-74f087a14f45"
      },
      "execution_count": null,
      "outputs": [
        {
          "output_type": "stream",
          "name": "stdout",
          "text": [
            "Occurrences of 2 in the tuple: 3\n"
          ]
        }
      ]
    },
    {
      "cell_type": "code",
      "source": [
        "#Find the index of the first occurrence of an element in a tuple.\n",
        "my_tuple = (1, 2, 3, 4, 2, 5, 2)\n",
        "element_to_find = 2\n",
        "index = my_tuple.index(element_to_find)\n",
        "print(\"Index of the first occurrence of\", element_to_find, \"in the tuple:\", index)\n"
      ],
      "metadata": {
        "id": "2S7E0nvke0vW"
      },
      "execution_count": null,
      "outputs": []
    },
    {
      "cell_type": "code",
      "source": [
        "#Check if an element exists in a tuple.\n",
        "tuple1=(1,2,3,4,5,6,7)\n",
        "exitited_element=3\n",
        "if exitited_element in tuple1:\n",
        "   print (\"existed\")\n",
        "else:\n",
        "  print(\"not existed\")\n",
        "\n"
      ],
      "metadata": {
        "colab": {
          "base_uri": "https://localhost:8080/"
        },
        "id": "_UeVKW7Nmt5j",
        "outputId": "246d2951-14e7-4726-f0b0-2f1dc48353be"
      },
      "execution_count": null,
      "outputs": [
        {
          "output_type": "stream",
          "name": "stdout",
          "text": [
            "existed\n"
          ]
        }
      ]
    },
    {
      "cell_type": "code",
      "source": [
        "#7. Convert a tuple to a list.\n",
        "tuple1 = (1, 2, 3, 4, 5, 6)\n",
        "list1=[]\n",
        "for i in tuple1:\n",
        "  list1.append(i)\n",
        "\n",
        "\n",
        "print(list1)\n"
      ],
      "metadata": {
        "colab": {
          "base_uri": "https://localhost:8080/"
        },
        "id": "yoGil0zaqtKq",
        "outputId": "c48d4270-47bc-408e-8b00-eed7b7a550f3"
      },
      "execution_count": null,
      "outputs": [
        {
          "output_type": "stream",
          "name": "stdout",
          "text": [
            "[1, 2, 3, 4, 5, 6]\n"
          ]
        }
      ]
    },
    {
      "cell_type": "code",
      "source": [
        "#. Convert a list to a tuple.\n",
        "list1=[1,2,3,4,5]\n",
        "b=tuple(list1)\n",
        "b\n"
      ],
      "metadata": {
        "colab": {
          "base_uri": "https://localhost:8080/"
        },
        "id": "k4yQn-QTmtth",
        "outputId": "08e39460-3788-4f5f-d25d-50657d0b3a2c"
      },
      "execution_count": null,
      "outputs": [
        {
          "output_type": "execute_result",
          "data": {
            "text/plain": [
              "(1, 2, 3, 4, 5)"
            ]
          },
          "metadata": {},
          "execution_count": 74
        }
      ]
    },
    {
      "cell_type": "code",
      "source": [
        "#Unpack the elements of a tuple into variables\n",
        "my_tuple=(1,2,3,4)\n",
        "a, b, c, d= my_tuple\n",
        "print(\"a:\",a)\n",
        "print(\"b:\",b)\n",
        "print(\"c:\",c)\n",
        "print(\"d:\",d)\n"
      ],
      "metadata": {
        "colab": {
          "base_uri": "https://localhost:8080/"
        },
        "id": "KuC6LxtGmtqs",
        "outputId": "b64630f8-78d8-4d41-bd69-13a4e3865b74"
      },
      "execution_count": null,
      "outputs": [
        {
          "output_type": "stream",
          "name": "stdout",
          "text": [
            "a: 1\n",
            "b: 2\n",
            "c: 3\n",
            "d: 4\n"
          ]
        }
      ]
    },
    {
      "cell_type": "code",
      "source": [
        "#Create a tuple of even numbers from 1 to 10.\n",
        "a=tuple(i for i in range(2,11,2))\n",
        "print(a)\n"
      ],
      "metadata": {
        "colab": {
          "base_uri": "https://localhost:8080/"
        },
        "id": "ZiX2GHKmtIwP",
        "outputId": "5b9d587c-9b7a-4d35-dea3-b8754b6f0beb"
      },
      "execution_count": null,
      "outputs": [
        {
          "output_type": "stream",
          "name": "stdout",
          "text": [
            "(2, 4, 6, 8, 10)\n"
          ]
        }
      ]
    },
    {
      "cell_type": "code",
      "source": [
        "#Create a tuple of odd numbers from 1 to 10.\n",
        "odd_numbers_tuple = tuple(x for x in range(1, 11, 2))\n",
        "print(odd_numbers_tuple)"
      ],
      "metadata": {
        "colab": {
          "base_uri": "https://localhost:8080/"
        },
        "id": "_HdpSutVtI4I",
        "outputId": "4286ed25-ecd3-43d9-a391-72122c7fdf77"
      },
      "execution_count": null,
      "outputs": [
        {
          "output_type": "stream",
          "name": "stdout",
          "text": [
            "(1, 3, 5, 7, 9)\n"
          ]
        }
      ]
    },
    {
      "cell_type": "code",
      "source": [
        "#Concatenate two tuples\n",
        "tuple1=(1,2,3,4)\n",
        "tuple2=(5,6,7,8)\n",
        "concatenat=tuple1 + tuple2\n",
        "print(concatenat)"
      ],
      "metadata": {
        "colab": {
          "base_uri": "https://localhost:8080/"
        },
        "id": "58Xq4ABwtI6t",
        "outputId": "08a9a9f4-2e2c-4095-a96f-75492166a393"
      },
      "execution_count": null,
      "outputs": [
        {
          "output_type": "stream",
          "name": "stdout",
          "text": [
            "(1, 2, 3, 4, 5, 6, 7, 8)\n"
          ]
        }
      ]
    },
    {
      "cell_type": "code",
      "source": [
        "# Repeat a tuple three times.\n",
        "teple1=(1,2,3,4)\n",
        "a=teple1 * 3\n",
        "print(a)\n"
      ],
      "metadata": {
        "colab": {
          "base_uri": "https://localhost:8080/"
        },
        "id": "zmsSbrOztI9R",
        "outputId": "1194c0d3-6c06-443a-9c2a-b6eb6c8efba5"
      },
      "execution_count": null,
      "outputs": [
        {
          "output_type": "stream",
          "name": "stdout",
          "text": [
            "(1, 2, 3, 4, 1, 2, 3, 4, 1, 2, 3, 4)\n"
          ]
        }
      ]
    },
    {
      "cell_type": "code",
      "source": [
        "#Check if a tuple is empty\n",
        "empty_tuple=()\n",
        "if not empty_tuple:\n",
        "  print(\"the tuple is empty\")\n",
        "else:\n",
        "  print(\"the tuple is not empty\")"
      ],
      "metadata": {
        "colab": {
          "base_uri": "https://localhost:8080/"
        },
        "id": "kpRMVwN5tJAx",
        "outputId": "197c147a-5ef2-471f-d927-acccb3ccc5a0"
      },
      "execution_count": null,
      "outputs": [
        {
          "output_type": "stream",
          "name": "stdout",
          "text": [
            "the tuple is not empty\n"
          ]
        }
      ]
    },
    {
      "cell_type": "code",
      "source": [
        "#Create a nested tuple\n",
        "nested_tuple=((1,2,3),(3,2,1),(3,4,4))\n",
        "print(nested_tuple)"
      ],
      "metadata": {
        "colab": {
          "base_uri": "https://localhost:8080/"
        },
        "id": "UljukofA0Ghu",
        "outputId": "7420f8c3-a9ae-4aa2-8121-db89b2fb79b9"
      },
      "execution_count": null,
      "outputs": [
        {
          "output_type": "stream",
          "name": "stdout",
          "text": [
            "((1, 2, 3), (3, 2, 1), (3, 4, 4))\n"
          ]
        }
      ]
    },
    {
      "cell_type": "code",
      "source": [
        "#. Access the first element of a nested tuple.\n",
        "my_tuple=(1,2,3,4,5)\n",
        "a= my_tuple[0]\n",
        "a"
      ],
      "metadata": {
        "colab": {
          "base_uri": "https://localhost:8080/"
        },
        "id": "V7lTNzKH0Gj-",
        "outputId": "f18c1640-f7eb-4733-dbfb-06b89beae077"
      },
      "execution_count": null,
      "outputs": [
        {
          "output_type": "execute_result",
          "data": {
            "text/plain": [
              "1"
            ]
          },
          "metadata": {},
          "execution_count": 98
        }
      ]
    },
    {
      "cell_type": "code",
      "source": [
        "#17. Create a tuple with a single element.\n",
        "tuple1=(1,)\n",
        "print(tuple1)"
      ],
      "metadata": {
        "colab": {
          "base_uri": "https://localhost:8080/"
        },
        "id": "IjJeKQrW2Ctx",
        "outputId": "aa39c4e1-595f-4c58-abb9-9a8dcd92bbe3"
      },
      "execution_count": null,
      "outputs": [
        {
          "output_type": "stream",
          "name": "stdout",
          "text": [
            "(1,)\n"
          ]
        }
      ]
    },
    {
      "cell_type": "code",
      "source": [
        "#18. Compare two tuples.\n",
        "t1=(1,2,3,4)\n",
        "t2=(4,3,2,1)\n",
        "if t1==t1:\n",
        "  print (\"this is are equal\")\n",
        "else:\n",
        "  print(\"this is print nothing \")"
      ],
      "metadata": {
        "colab": {
          "base_uri": "https://localhost:8080/"
        },
        "id": "TZgqYzS42A-C",
        "outputId": "3d9a00be-dc97-4b99-8023-d02bdd0d5507"
      },
      "execution_count": null,
      "outputs": [
        {
          "output_type": "stream",
          "name": "stdout",
          "text": [
            "this is are equal\n"
          ]
        }
      ]
    },
    {
      "cell_type": "code",
      "source": [
        "#7. Convert a tuple to a list.\n",
        "# Example tuple\n",
        "tuple1 = (1, 2, 3, 4, 5, 6)\n",
        "list1 = list(tuple1)\n",
        "list1.clear()\n",
        "print(list1)"
      ],
      "metadata": {
        "colab": {
          "base_uri": "https://localhost:8080/"
        },
        "id": "rDp28WUy2BdN",
        "outputId": "a5f27406-aa50-4b24-c05e-d8d1edd42842"
      },
      "execution_count": null,
      "outputs": [
        {
          "output_type": "stream",
          "name": "stdout",
          "text": [
            "[]\n"
          ]
        }
      ]
    },
    {
      "cell_type": "code",
      "source": [
        "#Slice a tuple\n",
        "t1=(1,3,2,3,4,6)\n",
        "a=t1[2:5]\n",
        "a"
      ],
      "metadata": {
        "colab": {
          "base_uri": "https://localhost:8080/"
        },
        "id": "QokdNphK0Gmm",
        "outputId": "1dc64619-04b4-492c-a838-0cf766ec738c"
      },
      "execution_count": null,
      "outputs": [
        {
          "output_type": "execute_result",
          "data": {
            "text/plain": [
              "(2, 3, 4)"
            ]
          },
          "metadata": {},
          "execution_count": 127
        }
      ]
    },
    {
      "cell_type": "code",
      "source": [
        "# Find the maximum value in a tuple\n",
        "tuple1=(1,2,4,5,6,77)\n",
        "print(max(tuple1))"
      ],
      "metadata": {
        "id": "6kMQliBt0GpQ",
        "colab": {
          "base_uri": "https://localhost:8080/"
        },
        "outputId": "6d23ac60-785b-4f1e-b716-7c7111453889"
      },
      "execution_count": null,
      "outputs": [
        {
          "output_type": "stream",
          "name": "stdout",
          "text": [
            "77\n"
          ]
        }
      ]
    },
    {
      "cell_type": "code",
      "source": [
        "# Find the minimum value in a tuple.\n",
        "tuple1=(1,2,4,5,6,77)\n",
        "print(min(tuple1))"
      ],
      "metadata": {
        "id": "RpMUkcZ90GsT",
        "colab": {
          "base_uri": "https://localhost:8080/"
        },
        "outputId": "5df7bf3f-01ca-4ab0-c6de-5496fa3dd68d"
      },
      "execution_count": null,
      "outputs": [
        {
          "output_type": "stream",
          "name": "stdout",
          "text": [
            "1\n"
          ]
        }
      ]
    },
    {
      "cell_type": "code",
      "source": [
        "#onvert a string to a tuple of characters.\n",
        "# Using tuple() constructor\n",
        "string = \"hello\"\n",
        "tuple_of_chars = tuple(string)\n",
        "print(tuple_of_chars)  # Output: ('h', 'e', 'l', 'l', 'o')\n",
        "\n",
        "# Using parentheses\n",
        "string = \"world\"\n",
        "tuple_of_chars = tuple(string)\n",
        "print(tuple_of_chars)  # Output: ('w', 'o', 'r', 'l', 'd')\n"
      ],
      "metadata": {
        "id": "5Wm_aixVYTRC",
        "colab": {
          "base_uri": "https://localhost:8080/"
        },
        "outputId": "28d08b61-0e69-4c55-efd8-490128694e8e"
      },
      "execution_count": 6,
      "outputs": [
        {
          "output_type": "stream",
          "name": "stdout",
          "text": [
            "('h', 'e', 'l', 'l', 'o')\n",
            "('w', 'o', 'r', 'l', 'd')\n"
          ]
        }
      ]
    },
    {
      "cell_type": "code",
      "source": [
        "#Convert a tuple of characters to a string.\n",
        "v=('h', 'e', 'l', 'l', 'o')\n",
        "b=' '.join(v)\n",
        "print(b)"
      ],
      "metadata": {
        "id": "YrmGfLYdYTNq",
        "colab": {
          "base_uri": "https://localhost:8080/"
        },
        "outputId": "13c831d6-9e6e-4173-b437-909471dde551"
      },
      "execution_count": 9,
      "outputs": [
        {
          "output_type": "stream",
          "name": "stdout",
          "text": [
            "h e l l o\n"
          ]
        }
      ]
    },
    {
      "cell_type": "code",
      "source": [
        "#. Create a tuple from multiple data types.\n",
        "tuple1=(10,\"vamsi\",19.5)\n",
        "print(\"mixed_tuple:\",tuple1)\n"
      ],
      "metadata": {
        "id": "k_i7muSRYTLb",
        "colab": {
          "base_uri": "https://localhost:8080/"
        },
        "outputId": "f0e09e94-2d8a-4789-bd9b-9910b9ef0ec0"
      },
      "execution_count": 12,
      "outputs": [
        {
          "output_type": "stream",
          "name": "stdout",
          "text": [
            "mixed_tuple: (10, 'vamsi', 19.5)\n"
          ]
        }
      ]
    },
    {
      "cell_type": "code",
      "source": [
        "#. Check if two tuples are identical.\n",
        "tuple1=(1,2,3,4)\n",
        "tuple2=(1,2,3,4)\n",
        "if tuple1 == tuple2:\n",
        "  print(\"tuples are identical\")\n",
        "else:\n",
        "  print(\"tuples are not identical\")\n"
      ],
      "metadata": {
        "id": "3gSh8JqFYTI4",
        "colab": {
          "base_uri": "https://localhost:8080/"
        },
        "outputId": "af1c9ecd-4684-4f91-ff16-b1124ff28f4a"
      },
      "execution_count": 15,
      "outputs": [
        {
          "output_type": "stream",
          "name": "stdout",
          "text": [
            "tuples are identical\n"
          ]
        }
      ]
    },
    {
      "cell_type": "code",
      "source": [
        "#Sort the elements of a tuple.\n",
        "elements = (1, 44, 6, 7, 2, 3, 4)\n",
        "# Sort the elements of the tuple\n",
        "sorted_elements = sorted(elements)\n",
        "print(sorted_elements)"
      ],
      "metadata": {
        "id": "dq0J-S-pYTGU",
        "colab": {
          "base_uri": "https://localhost:8080/"
        },
        "outputId": "5d4b28e9-d464-483e-bceb-ed3c92fa5553"
      },
      "execution_count": 17,
      "outputs": [
        {
          "output_type": "stream",
          "name": "stdout",
          "text": [
            "[1, 2, 3, 4, 6, 7, 44]\n"
          ]
        }
      ]
    },
    {
      "cell_type": "code",
      "source": [
        "#. Convert a tuple of integers to a tuple of strings.\n",
        "# Define a tuple of integers\n",
        "tuple_of_integers = (1, 2, 3, 4, 5)\n",
        "\n",
        "# Convert each integer to a string using list comprehension\n",
        "tuple_of_strings = tuple(str(i) for i in tuple_of_integers)\n",
        "\n",
        "print(tuple_of_strings)\n"
      ],
      "metadata": {
        "id": "fxoP9zkvYTD1",
        "colab": {
          "base_uri": "https://localhost:8080/"
        },
        "outputId": "7d64dda4-bac5-4e64-e1f2-f89eec986b7c"
      },
      "execution_count": 18,
      "outputs": [
        {
          "output_type": "stream",
          "name": "stdout",
          "text": [
            "('1', '2', '3', '4', '5')\n"
          ]
        }
      ]
    },
    {
      "cell_type": "code",
      "source": [
        "#. Merge two tuples.\n",
        "tuple1=(1,2,3,5,6)\n",
        "tuple2=(7,8,9,10)\n",
        "merge_string=tuple1 + tuple2\n",
        "print(merge_string)"
      ],
      "metadata": {
        "id": "5IXvGwMtYTBO",
        "colab": {
          "base_uri": "https://localhost:8080/"
        },
        "outputId": "9f45240b-ba01-4402-8506-4c7fbbf46c20"
      },
      "execution_count": 19,
      "outputs": [
        {
          "output_type": "stream",
          "name": "stdout",
          "text": [
            "(1, 2, 3, 5, 6, 7, 8, 9, 10)\n"
          ]
        }
      ]
    },
    {
      "cell_type": "code",
      "source": [
        "# Flatten a nested tuple.\n",
        "# Example nested tuple\n",
        "nested_tuple = (1, 2, (3, 4), (5, (6, 7), 8), 9)\n",
        "\n",
        "# Flatten the nested tuple\n",
        "flattened_tuple = ()\n",
        "for item in nested_tuple:\n",
        "    if isinstance(item, tuple):\n",
        "        for subitem in item:\n",
        "            if isinstance(subitem, tuple):\n",
        "                flattened_tuple += subitem\n",
        "            else:\n",
        "                flattened_tuple += (subitem,)\n",
        "    else:\n",
        "        flattened_tuple += (item,)\n",
        "\n",
        "print(flattened_tuple)\n"
      ],
      "metadata": {
        "id": "OyVOEmbMYS-r",
        "colab": {
          "base_uri": "https://localhost:8080/"
        },
        "outputId": "3d392ee5-ae0a-4d83-f961-f52c37e9f31a"
      },
      "execution_count": 20,
      "outputs": [
        {
          "output_type": "stream",
          "name": "stdout",
          "text": [
            "(1, 2, 3, 4, 5, 6, 7, 8, 9)\n"
          ]
        }
      ]
    },
    {
      "cell_type": "code",
      "source": [
        "#Create a tuple of the first 5 prime numbers\n",
        "# Initialize a list to store prime numbers\n",
        "primes = []\n",
        "\n",
        "# Initialize a number to check for prime\n",
        "number = 2\n",
        "\n",
        "# Check for the first 5 prime numbers\n",
        "while len(primes) < 5:\n",
        "    is_prime = True\n",
        "    for i in range(2, int(number ** 0.5) + 1):\n",
        "        if number % i == 0:\n",
        "            is_prime = False\n",
        "            break\n",
        "    if is_prime:\n",
        "        primes.append(number)\n",
        "    number += 1\n",
        "\n",
        "# Convert the list of primes to a tuple\n",
        "tuple_of_primes = tuple(primes)\n",
        "\n",
        "print(tuple_of_primes)\n"
      ],
      "metadata": {
        "id": "LIyvvhmfYS8L",
        "colab": {
          "base_uri": "https://localhost:8080/"
        },
        "outputId": "1d19b12d-2199-4470-c4c1-cb47103fed13"
      },
      "execution_count": 21,
      "outputs": [
        {
          "output_type": "stream",
          "name": "stdout",
          "text": [
            "(2, 3, 5, 7, 11)\n"
          ]
        }
      ]
    },
    {
      "cell_type": "code",
      "source": [
        "#Check if a tuple is a palindrome\n",
        "# Define a tuple\n",
        "input_tuple = (1, 2, 3, 2, 1)\n",
        "a=input_tuple == input_tuple[::-1]\n",
        "print(a)\n"
      ],
      "metadata": {
        "colab": {
          "base_uri": "https://localhost:8080/"
        },
        "id": "dst3b-0Th6ct",
        "outputId": "e17b0a73-fdd2-41d0-a5a0-8720f465c906"
      },
      "execution_count": 23,
      "outputs": [
        {
          "output_type": "stream",
          "name": "stdout",
          "text": [
            "True\n"
          ]
        }
      ]
    },
    {
      "cell_type": "code",
      "source": [
        "# Create a tuple of squares of numbers from 1 to 5.\n",
        "tuples=tuple(i**2 for i in range (0,6))\n",
        "print(tuples)"
      ],
      "metadata": {
        "colab": {
          "base_uri": "https://localhost:8080/"
        },
        "id": "g9kT81hKh6ZA",
        "outputId": "0fb1984d-3dcd-461a-cb64-2131386527ec"
      },
      "execution_count": 24,
      "outputs": [
        {
          "output_type": "stream",
          "name": "stdout",
          "text": [
            "(0, 1, 4, 9, 16, 25)\n"
          ]
        }
      ]
    },
    {
      "cell_type": "code",
      "source": [
        "#Filter out all even numbers from a tuple.\n",
        "tuples = (1, 2, 3, 4, 5, 6, 7, 8, 9, 10)\n",
        "\n",
        "# Filter even numbers from the tuple\n",
        "even_numbers = tuple(num for num in tuples if num % 2 == 0)\n",
        "\n",
        "# Check if there are any even numbers in the tuple\n",
        "if even_numbers:\n",
        "    print(\"The even numbers:\", even_numbers)\n",
        "else:\n",
        "    print(\"Nothing\")\n"
      ],
      "metadata": {
        "colab": {
          "base_uri": "https://localhost:8080/"
        },
        "id": "7Xlbl7fah6V2",
        "outputId": "828381d1-8ef1-4428-8797-f9c960b5d7f6"
      },
      "execution_count": 29,
      "outputs": [
        {
          "output_type": "stream",
          "name": "stdout",
          "text": [
            "The even numbers: (2, 4, 6, 8, 10)\n"
          ]
        }
      ]
    },
    {
      "cell_type": "code",
      "source": [
        "#. Multiply all elements in a tuple by 2\n",
        "original_tuple = (1, 2, 3, 4, 5)\n",
        "multiplied_tuple = tuple(x * 2 for x in original_tuple)\n",
        "print(multiplied_tuple)\n"
      ],
      "metadata": {
        "colab": {
          "base_uri": "https://localhost:8080/"
        },
        "id": "3dXCKl8Gh6TL",
        "outputId": "8c435393-023d-4675-f44e-d84b06910a03"
      },
      "execution_count": 32,
      "outputs": [
        {
          "output_type": "stream",
          "name": "stdout",
          "text": [
            "(2, 4, 6, 8, 10)\n"
          ]
        }
      ]
    },
    {
      "cell_type": "code",
      "source": [
        "# Create a tuple of random numbers\n",
        "import random\n",
        "tuple_length = 5\n",
        "random_numbers_tuple = tuple(random.randint(1, 100) for _ in range(tuple_length))\n",
        "print(random_numbers_tuple)\n"
      ],
      "metadata": {
        "colab": {
          "base_uri": "https://localhost:8080/"
        },
        "id": "4scc_TMoh6Qv",
        "outputId": "569fb065-6a14-4051-8cbf-eb36fb676ad1"
      },
      "execution_count": 33,
      "outputs": [
        {
          "output_type": "stream",
          "name": "stdout",
          "text": [
            "(87, 69, 58, 50, 13)\n"
          ]
        }
      ]
    },
    {
      "cell_type": "code",
      "source": [
        "#8. Check if a tuple is sorted.\n",
        "\n",
        "ele=(1,3,34,54,5547,89)\n",
        "a=sorted(ele)\n",
        "print(a)"
      ],
      "metadata": {
        "colab": {
          "base_uri": "https://localhost:8080/"
        },
        "id": "iC5udlGUh6OM",
        "outputId": "4156494e-0f88-430e-fc66-730bce8a2ac7"
      },
      "execution_count": 34,
      "outputs": [
        {
          "output_type": "stream",
          "name": "stdout",
          "text": [
            "[1, 3, 34, 54, 89, 5547]\n"
          ]
        }
      ]
    },
    {
      "cell_type": "code",
      "source": [
        "#. Rotate a tuple to the left by `n` positions\n",
        "ele=(1,2,3,4,5)\n",
        "n=2\n",
        "stuple=ele[n:]+ele[:n]\n",
        "print(stuple)"
      ],
      "metadata": {
        "colab": {
          "base_uri": "https://localhost:8080/"
        },
        "id": "d2apYDbah6Ln",
        "outputId": "30024141-585a-4ebc-87ac-c5ac93ebc40e"
      },
      "execution_count": 35,
      "outputs": [
        {
          "output_type": "stream",
          "name": "stdout",
          "text": [
            "(3, 4, 5, 1, 2)\n"
          ]
        }
      ]
    },
    {
      "cell_type": "code",
      "source": [
        "#Rotate a tuple to the right by `n` positions.\n",
        "ele=(1,2,3,4,5)\n",
        "n=2\n",
        "sorted_tuple=ele[:n]+ele[n:]\n",
        "print(sorted_tuple)"
      ],
      "metadata": {
        "colab": {
          "base_uri": "https://localhost:8080/"
        },
        "id": "pXwxh_OcoWvQ",
        "outputId": "03edaee1-d4c9-4138-ab34-dae0a3f87f7c"
      },
      "execution_count": 36,
      "outputs": [
        {
          "output_type": "stream",
          "name": "stdout",
          "text": [
            "(1, 2, 3, 4, 5)\n"
          ]
        }
      ]
    },
    {
      "cell_type": "code",
      "source": [
        "# Create a tuple of the first 5 Fibonacci numbers\n",
        "# Initialize a list to store Fibonacci numbers\n",
        "fibonacci = [0, 1]\n",
        "\n",
        "# Generate the Fibonacci sequence\n",
        "while len(fibonacci) < 5:\n",
        "    next_number = fibonacci[-1] + fibonacci[-2]\n",
        "    fibonacci.append(next_number)\n",
        "\n",
        "# Convert the list of Fibonacci numbers to a tuple\n",
        "tuple_of_fibonacci = tuple(fibonacci)\n",
        "\n",
        "print(tuple_of_fibonacci)\n"
      ],
      "metadata": {
        "colab": {
          "base_uri": "https://localhost:8080/"
        },
        "id": "X_jb3gJQoWrp",
        "outputId": "fdde5a8a-d25d-4685-be27-aab05c402f3a"
      },
      "execution_count": 37,
      "outputs": [
        {
          "output_type": "stream",
          "name": "stdout",
          "text": [
            "(0, 1, 1, 2, 3)\n"
          ]
        }
      ]
    },
    {
      "cell_type": "code",
      "source": [
        "# Create a tuple from user input.\n",
        "a=int(input(\"eneter the tupes:\",))"
      ],
      "metadata": {
        "colab": {
          "base_uri": "https://localhost:8080/"
        },
        "id": "eU-exB2poWpR",
        "outputId": "3c35ac3d-5a7a-46aa-e4e4-05af74e33c6a"
      },
      "execution_count": 39,
      "outputs": [
        {
          "name": "stdout",
          "output_type": "stream",
          "text": [
            "eneter the tupes:6\n"
          ]
        }
      ]
    },
    {
      "cell_type": "code",
      "source": [
        "#. Swap two elements in a tu\n",
        "# Define the original tuple\n",
        "original_tuple = (1, 2, 3, 4, 5)\n",
        "\n",
        "# Convert the tuple to a list to make modifications\n",
        "modified_list = list(original_tuple)\n",
        "\n",
        "# Swap the elements at indices 1 and 3\n",
        "modified_list[1], modified_list[3] = modified_list[3], modified_list[1]\n",
        "\n",
        "# Convert the modified list back to a tuple\n",
        "swapped_tuple = tuple(modified_list)\n",
        "\n",
        "print(swapped_tuple)\n",
        "\n"
      ],
      "metadata": {
        "colab": {
          "base_uri": "https://localhost:8080/"
        },
        "id": "U9YeuAk3oWmn",
        "outputId": "d2b47e46-e57c-47b2-abc2-b3cb2d85aec7"
      },
      "execution_count": 48,
      "outputs": [
        {
          "output_type": "stream",
          "name": "stdout",
          "text": [
            "(1, 4, 3, 2, 5)\n"
          ]
        }
      ]
    },
    {
      "cell_type": "code",
      "source": [
        "#Reverse the elements of a tuple.\n",
        "ele=(1,2,3,4,5,6,7)\n",
        "a=ele[::-1]\n",
        "a"
      ],
      "metadata": {
        "colab": {
          "base_uri": "https://localhost:8080/"
        },
        "id": "7wS17EraoWj1",
        "outputId": "3ef25dde-4f41-4f41-8b59-60904cf1e78b"
      },
      "execution_count": 52,
      "outputs": [
        {
          "output_type": "execute_result",
          "data": {
            "text/plain": [
              "(7, 6, 5, 4, 3, 2, 1)"
            ]
          },
          "metadata": {},
          "execution_count": 52
        }
      ]
    },
    {
      "cell_type": "code",
      "source": [
        "# Create a tuple of the first `n` powers of 2\n",
        "# Define the value of n\n",
        "n = 5\n",
        "\n",
        "# Create a tuple of the first n powers of 2\n",
        "powers_of_2_tuple = tuple(2 ** i for i in range(n))\n",
        "\n",
        "print(powers_of_2_tuple)\n"
      ],
      "metadata": {
        "colab": {
          "base_uri": "https://localhost:8080/"
        },
        "id": "t_ISt3ZeoWhg",
        "outputId": "16313e68-9a37-4472-8537-a2b4fcc1e206"
      },
      "execution_count": 53,
      "outputs": [
        {
          "output_type": "stream",
          "name": "stdout",
          "text": [
            "(1, 2, 4, 8, 16)\n"
          ]
        }
      ]
    },
    {
      "cell_type": "code",
      "source": [
        "# Find the longest string in a tuple of strings.\n",
        "ele= (\"apple\", \"banana\", \"orange\", \"strawberry\", \"kiwi\")\n",
        "longest_string = max(tuple_of_strings, key=len)\n",
        "print(longest_string)"
      ],
      "metadata": {
        "colab": {
          "base_uri": "https://localhost:8080/"
        },
        "id": "UsCLYlLjtEex",
        "outputId": "e45daa3e-9de0-43dc-fb5c-c0f0d87a5e29"
      },
      "execution_count": 54,
      "outputs": [
        {
          "output_type": "stream",
          "name": "stdout",
          "text": [
            "1\n"
          ]
        }
      ]
    },
    {
      "cell_type": "code",
      "source": [
        "#7. Find the shortest string in a tuple of strings\n",
        "ele= (\"apple\", \"banana\", \"orange\", \"strawberry\", \"kiwi\")\n",
        "shortest_string = min(tuple_of_strings, key=len)\n",
        "print(shortest_string)"
      ],
      "metadata": {
        "colab": {
          "base_uri": "https://localhost:8080/"
        },
        "id": "fEbYE2XQtEhq",
        "outputId": "9a75211b-e659-4c0f-a470-b20ae829c6e8"
      },
      "execution_count": 55,
      "outputs": [
        {
          "output_type": "stream",
          "name": "stdout",
          "text": [
            "1\n"
          ]
        }
      ]
    },
    {
      "cell_type": "code",
      "source": [
        "#create a tuple of the first `n` triangular numbers.\n",
        "# Define the value of n\n",
        "n = 5\n",
        "\n",
        "# Create a tuple of the first n triangular numbers\n",
        "triangular_numbers_tuple = tuple(i * (i + 1) // 2 for i in range(1, n + 1))\n",
        "\n",
        "print(triangular_numbers_tuple)\n"
      ],
      "metadata": {
        "colab": {
          "base_uri": "https://localhost:8080/"
        },
        "id": "dhh6fMGgtEko",
        "outputId": "29eb112b-ec1f-4ee5-f8e8-6572069709d6"
      },
      "execution_count": 56,
      "outputs": [
        {
          "output_type": "stream",
          "name": "stdout",
          "text": [
            "(1, 3, 6, 10, 15)\n"
          ]
        }
      ]
    },
    {
      "cell_type": "code",
      "source": [
        "# Check if a tuple contains another tuple as a subsequence.\n",
        "# Define the larger tuple\n",
        "larger_tuple = (1, 2, 3, 4, 5, 6, 7)\n",
        "\n",
        "# Define the smaller tuple\n",
        "smaller_tuple = (3, 4, 5)\n",
        "\n",
        "# Check if the smaller tuple is a subsequence of the larger tuple\n",
        "def is_subsequence(larger, smaller):\n",
        "    n = len(smaller)\n",
        "    for i in range(len(larger) - n + 1):\n",
        "        if larger[i:i+n] == smaller:\n",
        "            return True\n",
        "    return False\n",
        "\n",
        "# Check if smaller_tuple is a subsequence of larger_tuple\n",
        "if is_subsequence(larger_tuple, smaller_tuple):\n",
        "    print(\"The smaller tuple is a subsequence of the larger tuple.\")\n",
        "else:\n",
        "    print(\"The smaller tuple is not a subsequence of the larger tuple.\")\n"
      ],
      "metadata": {
        "colab": {
          "base_uri": "https://localhost:8080/"
        },
        "id": "1T-ieXvutEoJ",
        "outputId": "bd9eaf0c-445c-4475-9de8-049faf8e7c31"
      },
      "execution_count": 57,
      "outputs": [
        {
          "output_type": "stream",
          "name": "stdout",
          "text": [
            "The smaller tuple is a subsequence of the larger tuple.\n"
          ]
        }
      ]
    },
    {
      "cell_type": "code",
      "source": [
        "# Create a tuple of alternating 1s and 0s of length `n`\n",
        "n = 6\n",
        "alternating_tuple = tuple(1 if i % 2 == 0 else 0 for i in range(n))\n",
        "print(alternating_tuple)\n"
      ],
      "metadata": {
        "id": "ytcA0sEktEyH"
      },
      "execution_count": null,
      "outputs": []
    },
    {
      "cell_type": "markdown",
      "source": [
        "Set Based Practice Problem :\n",
        "\n",
        "\n",
        "\n",
        "\n"
      ],
      "metadata": {
        "id": "G_AFiuzEvYyK"
      }
    },
    {
      "cell_type": "code",
      "source": [
        "## Create a set with integers from 1 to 5 using curly braces\n",
        "number_set = {1, 2, 3, 4, 5}\n",
        "\n",
        "print(number_set)\n"
      ],
      "metadata": {
        "colab": {
          "base_uri": "https://localhost:8080/"
        },
        "id": "r0J3Z5eUveYM",
        "outputId": "7b11b022-84f9-4ed9-ab2d-ac8fdaf81ef5"
      },
      "execution_count": 58,
      "outputs": [
        {
          "output_type": "stream",
          "name": "stdout",
          "text": [
            "{1, 2, 3, 4, 5}\n"
          ]
        }
      ]
    },
    {
      "cell_type": "code",
      "source": [
        "# Add an element to a set.\n",
        "set1={1,2,3,4}\n",
        "set1.add(5)\n",
        "print(set1)"
      ],
      "metadata": {
        "colab": {
          "base_uri": "https://localhost:8080/"
        },
        "id": "2SrQLjZgvx2D",
        "outputId": "f6ff32fe-7918-497a-8cf1-379351109b24"
      },
      "execution_count": 61,
      "outputs": [
        {
          "output_type": "stream",
          "name": "stdout",
          "text": [
            "{1, 2, 3, 4, 5}\n"
          ]
        }
      ]
    },
    {
      "cell_type": "code",
      "source": [
        "#3. Remove an element from a set.\n",
        "set1={1,2,3,4}\n",
        "set1.remove(2)\n",
        "print(set1)"
      ],
      "metadata": {
        "colab": {
          "base_uri": "https://localhost:8080/"
        },
        "id": "pIFUSozPvx4g",
        "outputId": "022f8682-7754-48e9-88f5-c9f1088fcb6c"
      },
      "execution_count": 62,
      "outputs": [
        {
          "output_type": "stream",
          "name": "stdout",
          "text": [
            "{1, 3, 4}\n"
          ]
        }
      ]
    },
    {
      "cell_type": "code",
      "source": [
        "#. Check if an element exists in a set.\n",
        "set1={1,2,3,5,6,67}\n",
        "exested_element=67\n",
        "if exested_element in set1:\n",
        "  print(\"excisted\")\n",
        "else:\n",
        "  print(\"not execisted\")"
      ],
      "metadata": {
        "colab": {
          "base_uri": "https://localhost:8080/"
        },
        "id": "8JrMU13Rvx7O",
        "outputId": "7daf7117-3ff3-40a9-d01d-d57bf13895e2"
      },
      "execution_count": 63,
      "outputs": [
        {
          "output_type": "stream",
          "name": "stdout",
          "text": [
            "excisted\n"
          ]
        }
      ]
    },
    {
      "cell_type": "code",
      "source": [
        "#Find the length of a set without using the `len()` functio\n",
        "set1 = {1, 2, 3, 4, 5}\n",
        "count = 0\n",
        "for _ in set1:\n",
        "    count += 1\n",
        "print(\"Length of the set:\", count)"
      ],
      "metadata": {
        "colab": {
          "base_uri": "https://localhost:8080/"
        },
        "id": "AqzMX_nSvx99",
        "outputId": "36c233b9-df96-48be-b3ed-2c5d9dc6c19d"
      },
      "execution_count": 64,
      "outputs": [
        {
          "output_type": "stream",
          "name": "stdout",
          "text": [
            "Length of the set: 5\n"
          ]
        }
      ]
    },
    {
      "cell_type": "code",
      "source": [
        "#clear all elements from a set.\n",
        "set1 = {1, 2, 3, 4, 5}\n",
        "\n",
        "# Clear all elements from the set\n",
        "set1.clear()\n",
        "\n",
        "print(\"Set after clearing:\", set1)\n"
      ],
      "metadata": {
        "colab": {
          "base_uri": "https://localhost:8080/"
        },
        "id": "Jv9gbdAxvyAr",
        "outputId": "d8cab7a1-85c0-4089-ed83-857509582900"
      },
      "execution_count": 66,
      "outputs": [
        {
          "output_type": "stream",
          "name": "stdout",
          "text": [
            "Set after clearing: set()\n"
          ]
        }
      ]
    },
    {
      "cell_type": "code",
      "source": [
        "# Create a set of even numbers from 1 to 10 using a set comprehension\n",
        "even_numbers_set = {x for x in range(1, 11) if x % 2 == 0}\n",
        "\n",
        "print(even_numbers_set)"
      ],
      "metadata": {
        "colab": {
          "base_uri": "https://localhost:8080/"
        },
        "id": "kgocl7VEvyDV",
        "outputId": "624ce92d-761c-4055-b655-851b1b44d3e7"
      },
      "execution_count": 67,
      "outputs": [
        {
          "output_type": "stream",
          "name": "stdout",
          "text": [
            "{2, 4, 6, 8, 10}\n"
          ]
        }
      ]
    },
    {
      "cell_type": "code",
      "source": [
        "\n",
        "# Create a set of odd numbers from 1 to 10 using a set comprehension\n",
        "odd_numbers_set = {x for x in range(1, 11) if x % 2 != 0}\n",
        "\n",
        "print(odd_numbers_set)\n"
      ],
      "metadata": {
        "colab": {
          "base_uri": "https://localhost:8080/"
        },
        "id": "wdyJA8CPvyGO",
        "outputId": "2df6b80f-83a1-4d56-a6de-42fe477ed759"
      },
      "execution_count": 68,
      "outputs": [
        {
          "output_type": "stream",
          "name": "stdout",
          "text": [
            "{1, 3, 5, 7, 9}\n"
          ]
        }
      ]
    },
    {
      "cell_type": "code",
      "source": [
        "#. Find the union of two sets\n",
        "# Define the sets\n",
        "set1 = {1, 2, 3}\n",
        "set2 = {3, 4, 5}\n",
        "\n",
        "# Find the union of the two sets using the union() method\n",
        "union_set = set1.union(set2)\n",
        "\n",
        "print(union_set)\n"
      ],
      "metadata": {
        "colab": {
          "base_uri": "https://localhost:8080/"
        },
        "id": "-2we2iCkvyI5",
        "outputId": "122569f4-3c0e-4713-e688-d0e4ae650007"
      },
      "execution_count": 69,
      "outputs": [
        {
          "output_type": "stream",
          "name": "stdout",
          "text": [
            "{1, 2, 3, 4, 5}\n"
          ]
        }
      ]
    },
    {
      "cell_type": "code",
      "source": [
        "#intergation of sets\n",
        "a={1,2,3,4,6}\n",
        "b={9,8,7,6.5}\n",
        "c=a.union(b)\n",
        "print(c)"
      ],
      "metadata": {
        "colab": {
          "base_uri": "https://localhost:8080/"
        },
        "id": "nOumleK4vyMS",
        "outputId": "e88eda7e-a668-4dc6-d73b-c8da193e3810"
      },
      "execution_count": 72,
      "outputs": [
        {
          "output_type": "stream",
          "name": "stdout",
          "text": [
            "{1, 2, 3, 4, 6, 6.5, 8, 9, 7}\n"
          ]
        }
      ]
    },
    {
      "cell_type": "code",
      "source": [
        "# Find the difference between two sets.\n",
        "# Define the sets\n",
        "set1 = {1, 2, 3, 4, 5}\n",
        "set2 = {3, 4, 5, 6, 7}\n",
        "\n",
        "# Find the difference between set1 and set2 using the difference() method\n",
        "difference_set = set1.difference(set2)\n",
        "\n",
        "print(difference_set)\n"
      ],
      "metadata": {
        "colab": {
          "base_uri": "https://localhost:8080/"
        },
        "id": "5MG-uwO6zSmt",
        "outputId": "94f2151c-1717-427b-9cf6-9b67cd9a19a6"
      },
      "execution_count": 73,
      "outputs": [
        {
          "output_type": "stream",
          "name": "stdout",
          "text": [
            "{1, 2}\n"
          ]
        }
      ]
    },
    {
      "cell_type": "code",
      "source": [
        "# Check if a set is a subset of another set.\n",
        "# Define the sets\n",
        "set1 = {1, 2, 3}\n",
        "set2 = {1, 2, 3, 4, 5}\n",
        "\n",
        "# Check if set1 is a subset of set2\n",
        "if set1.issubset(set2):\n",
        "    print(\"set1 is a subset of set2\")\n",
        "else:\n",
        "    print(\"set1 is not a subset of set2\")\n"
      ],
      "metadata": {
        "colab": {
          "base_uri": "https://localhost:8080/"
        },
        "id": "GEFUE7c5zSjW",
        "outputId": "9e6a43b6-305a-4f99-9ded-1cd4698c3a56"
      },
      "execution_count": 74,
      "outputs": [
        {
          "output_type": "stream",
          "name": "stdout",
          "text": [
            "set1 is a subset of set2\n"
          ]
        }
      ]
    },
    {
      "cell_type": "code",
      "source": [
        "#. Check if a set is a superset of another set.\n",
        "# Define the sets\n",
        "set1 = {1, 2, 3, 4, 5}\n",
        "set2 = {1, 2, 3}\n",
        "\n",
        "# Check if set1 is a superset of set2\n",
        "if set1.issuperset(set2):\n",
        "    print(\"set1 is a superset of set2\")\n",
        "else:\n",
        "    print(\"set1 is not a superset of set2\")\n"
      ],
      "metadata": {
        "colab": {
          "base_uri": "https://localhost:8080/"
        },
        "id": "7gdJz1hSzShj",
        "outputId": "4de57765-fc4d-4980-baae-d9c3ee85dcc7"
      },
      "execution_count": 75,
      "outputs": [
        {
          "output_type": "stream",
          "name": "stdout",
          "text": [
            "set1 is a superset of set2\n"
          ]
        }
      ]
    },
    {
      "cell_type": "code",
      "source": [
        "# Create a set from a list.\n",
        "\n",
        "my_list = [1, 2, 3, 4, 5]\n",
        "\n",
        "my_set = set(my_list)\n",
        "\n",
        "print(my_set)\n"
      ],
      "metadata": {
        "colab": {
          "base_uri": "https://localhost:8080/"
        },
        "id": "Hj02Am8ZzSf6",
        "outputId": "8f5e4088-0a19-41ec-ddb5-3423402d36f1"
      },
      "execution_count": 76,
      "outputs": [
        {
          "output_type": "stream",
          "name": "stdout",
          "text": [
            "{1, 2, 3, 4, 5}\n"
          ]
        }
      ]
    },
    {
      "cell_type": "code",
      "source": [
        "#. Convert a set to a list.\n",
        "# Define the set\n",
        "my_set = {1, 2, 3, 4, 5}\n",
        "\n",
        "# Convert the set to a list\n",
        "my_list = list(my_set)\n",
        "\n",
        "print(my_list)\n"
      ],
      "metadata": {
        "colab": {
          "base_uri": "https://localhost:8080/"
        },
        "id": "jUmjCnlNzSd3",
        "outputId": "0cf42387-395a-419d-8af1-9757090b0d9f"
      },
      "execution_count": 77,
      "outputs": [
        {
          "output_type": "stream",
          "name": "stdout",
          "text": [
            "[1, 2, 3, 4, 5]\n"
          ]
        }
      ]
    },
    {
      "cell_type": "code",
      "source": [
        "# remove a random element from a set\n",
        "import random\n",
        "\n",
        "# Define the set\n",
        "my_set = {1, 2, 3, 4, 5}\n",
        "\n",
        "# Remove a random element from the set\n",
        "removed_element = my_set.pop()\n",
        "\n",
        "print(\"Removed element:\", removed_element)\n",
        "print(\"Set after removal:\", my_set)\n"
      ],
      "metadata": {
        "colab": {
          "base_uri": "https://localhost:8080/"
        },
        "id": "mtz2amqAzSbO",
        "outputId": "244be583-cd74-46cd-b2e6-b6d1b4edbe7a"
      },
      "execution_count": 78,
      "outputs": [
        {
          "output_type": "stream",
          "name": "stdout",
          "text": [
            "Removed element: 1\n",
            "Set after removal: {2, 3, 4, 5}\n"
          ]
        }
      ]
    },
    {
      "cell_type": "code",
      "source": [
        "#Pop an element from a set.\n",
        "my = {1, 2, 3, 4, 5}\n",
        "my.pop()\n",
        "print(my)"
      ],
      "metadata": {
        "colab": {
          "base_uri": "https://localhost:8080/"
        },
        "id": "1ZJwFIbgzSYw",
        "outputId": "e3d39356-6f2f-456a-a00d-8673d431fd78"
      },
      "execution_count": 79,
      "outputs": [
        {
          "output_type": "stream",
          "name": "stdout",
          "text": [
            "{2, 3, 4, 5}\n"
          ]
        }
      ]
    },
    {
      "cell_type": "code",
      "source": [
        "#18. Check if two sets have no elements in common.\n",
        "\n",
        "# Define the sets\n",
        "set1 = {1, 2, 3}\n",
        "set2 = {4, 5, 6}\n",
        "\n",
        "# Check if the sets have no elements in common\n",
        "if set1.isdisjoint(set2):\n",
        "    print(\"The sets have no elements in common\")\n",
        "else:\n",
        "    print(\"The sets have elements in common\")\n"
      ],
      "metadata": {
        "colab": {
          "base_uri": "https://localhost:8080/"
        },
        "id": "mhwMrs-WzSWA",
        "outputId": "800cfe1d-84f3-408a-de4f-b415effec7aa"
      },
      "execution_count": 80,
      "outputs": [
        {
          "output_type": "stream",
          "name": "stdout",
          "text": [
            "The sets have no elements in common\n"
          ]
        }
      ]
    },
    {
      "cell_type": "code",
      "source": [
        "#symmetic defference\n",
        "# Define the sets\n",
        "set1 = {1, 2, 3, 4}\n",
        "set2 = {3, 4, 5, 6}\n",
        "\n",
        "# Find the symmetric difference between set1 and set2 using the symmetric_difference() method\n",
        "symmetric_difference_set = set1.symmetric_difference(set2)\n",
        "\n",
        "print(symmetric_difference_set)\n"
      ],
      "metadata": {
        "id": "2ZIbG3Kb1k-s"
      },
      "execution_count": null,
      "outputs": []
    },
    {
      "cell_type": "code",
      "source": [
        "#Update a set with elements from another set.\n",
        "set1 = {1, 2, 3}\n",
        "set2 = {3, 4, 5}\n",
        "\n",
        "set1 |= set2\n",
        "print(set1)\n"
      ],
      "metadata": {
        "colab": {
          "base_uri": "https://localhost:8080/"
        },
        "id": "8hfMBi8q1lBy",
        "outputId": "1e753ac9-1cef-421e-df6f-178a3e834104"
      },
      "execution_count": 81,
      "outputs": [
        {
          "output_type": "stream",
          "name": "stdout",
          "text": [
            "{1, 2, 3, 4, 5}\n"
          ]
        }
      ]
    },
    {
      "cell_type": "code",
      "source": [
        "#Create a set of the first 5 prime numbers.\n",
        "prime_numbers = {2, 3, 5, 7, 11}\n",
        "print(prime_numbers)\n"
      ],
      "metadata": {
        "colab": {
          "base_uri": "https://localhost:8080/"
        },
        "id": "uZutmzV11lEi",
        "outputId": "d89f39bf-1a58-4761-e049-e5ffcb08b759"
      },
      "execution_count": 82,
      "outputs": [
        {
          "output_type": "stream",
          "name": "stdout",
          "text": [
            "{2, 3, 5, 7, 11}\n"
          ]
        }
      ]
    },
    {
      "cell_type": "code",
      "source": [
        "#22. Check if two sets are identical.\n",
        "set1 = {1, 2, 3}\n",
        "set2 = {3, 2, 1}\n",
        "\n",
        "if set1 == set2:\n",
        "    print(\"The sets are identical.\")\n",
        "else:\n",
        "    print(\"The sets are not identical.\")\n"
      ],
      "metadata": {
        "colab": {
          "base_uri": "https://localhost:8080/"
        },
        "id": "SRQjhHFJ1lHj",
        "outputId": "00d74955-8ecb-47ee-ee99-4b8495a0c943"
      },
      "execution_count": 83,
      "outputs": [
        {
          "output_type": "stream",
          "name": "stdout",
          "text": [
            "The sets are identical.\n"
          ]
        }
      ]
    },
    {
      "cell_type": "code",
      "source": [
        "#Create a frozen set.\n",
        "my_set = {1, 2, 3, 4, 5}\n",
        "frozen_set = frozenset(my_set)\n",
        "print(frozen_set)\n",
        "\n"
      ],
      "metadata": {
        "colab": {
          "base_uri": "https://localhost:8080/"
        },
        "id": "PtDscqDo1lJj",
        "outputId": "a1c81a83-a5fc-48e6-d447-cfb3a5a87ecc"
      },
      "execution_count": 84,
      "outputs": [
        {
          "output_type": "stream",
          "name": "stdout",
          "text": [
            "frozenset({1, 2, 3, 4, 5})\n"
          ]
        }
      ]
    },
    {
      "cell_type": "code",
      "source": [
        "# Check if a set is disjoint with another set.\n",
        "set1 = {1, 2, 3}\n",
        "set2 = {4, 5, 6}\n",
        "set3 = {3, 4, 5}\n",
        "\n",
        "if set1.isdisjoint(set2):\n",
        "    print(\"set1 and set2 are disjoint.\")\n",
        "else:\n",
        "    print(\"set1 and set2 are not disjoint.\")\n",
        "\n",
        "if set1.isdisjoint(set3):\n",
        "    print(\"set1 and set3 are disjoint.\")\n",
        "else:\n",
        "    print(\"set1 and set3 are not disjoint.\")\n"
      ],
      "metadata": {
        "colab": {
          "base_uri": "https://localhost:8080/"
        },
        "id": "pMMVA2qw1lNG",
        "outputId": "05853e7f-3d48-48b9-f5ef-793f882d2752"
      },
      "execution_count": 85,
      "outputs": [
        {
          "output_type": "stream",
          "name": "stdout",
          "text": [
            "set1 and set2 are disjoint.\n",
            "set1 and set3 are not disjoint.\n"
          ]
        }
      ]
    },
    {
      "cell_type": "code",
      "source": [
        "#Create a set of squares of numbers from 1 to 5\n",
        "squares_set = {x ** 2 for x in range(1, 6)}\n",
        "print(squares_set)\n",
        "\n"
      ],
      "metadata": {
        "colab": {
          "base_uri": "https://localhost:8080/"
        },
        "id": "6tKy6s6p3JrZ",
        "outputId": "0bb319b2-75ca-4e27-8464-5831723d16e5"
      },
      "execution_count": 86,
      "outputs": [
        {
          "output_type": "stream",
          "name": "stdout",
          "text": [
            "{1, 4, 9, 16, 25}\n"
          ]
        }
      ]
    },
    {
      "cell_type": "code",
      "source": [
        "#. Filter out all even numbers from a set.\n",
        "original_set = {1, 2, 3, 4, 5, 6, 7, 8, 9, 10}\n",
        "filtered_set = {x for x in original_set if x % 2 != 0}\n",
        "print(filtered_set)\n"
      ],
      "metadata": {
        "colab": {
          "base_uri": "https://localhost:8080/"
        },
        "id": "ySjFSj_93J08",
        "outputId": "f32237b7-2cf4-465e-b219-4230323bf800"
      },
      "execution_count": 87,
      "outputs": [
        {
          "output_type": "stream",
          "name": "stdout",
          "text": [
            "{1, 3, 5, 7, 9}\n"
          ]
        }
      ]
    },
    {
      "cell_type": "code",
      "source": [
        "#. Multiply all elements in a set by 2\n",
        "original_set = {1, 2, 3, 4, 5}\n",
        "doubled_set = {x * 2 for x in original_set}\n",
        "print(doubled_set)\n"
      ],
      "metadata": {
        "colab": {
          "base_uri": "https://localhost:8080/"
        },
        "id": "gIGArIC93KG7",
        "outputId": "07363825-70a6-4086-cb31-668a6813f5fb"
      },
      "execution_count": 88,
      "outputs": [
        {
          "output_type": "stream",
          "name": "stdout",
          "text": [
            "{2, 4, 6, 8, 10}\n"
          ]
        }
      ]
    },
    {
      "cell_type": "code",
      "source": [
        "# Create a set of random numbers\n",
        "import random\n",
        "\n",
        "# Set the range and size of the set\n",
        "set_size = 5\n",
        "min_value = 1\n",
        "max_value = 10\n",
        "\n",
        "# Generate a set of random numbers\n",
        "random_set = {random.randint(min_value, max_value) for _ in range(set_size)}\n",
        "\n",
        "print(random_set)\n"
      ],
      "metadata": {
        "colab": {
          "base_uri": "https://localhost:8080/"
        },
        "id": "E_zV-pqF341g",
        "outputId": "c487891a-6b52-45b1-f0ef-aaad8e7e6f5d"
      },
      "execution_count": 89,
      "outputs": [
        {
          "output_type": "stream",
          "name": "stdout",
          "text": [
            "{2, 4, 5, 6, 7}\n"
          ]
        }
      ]
    },
    {
      "cell_type": "code",
      "source": [
        "#. Check if a set is empty.\n",
        "my_set = set()\n",
        "\n",
        "# Method 1: Using a conditional statement\n",
        "if not my_set:\n",
        "    print(\"The set is empty.\")\n",
        "else:\n",
        "    print(\"The set is not empty.\")\n",
        "\n",
        "# Method 2: Using the bool() function\n",
        "if bool(my_set) == False:\n",
        "    print(\"The set is empty.\")\n",
        "else:\n",
        "    print(\"The set is not empty.\")\n"
      ],
      "metadata": {
        "colab": {
          "base_uri": "https://localhost:8080/"
        },
        "id": "oWhYPguz345D",
        "outputId": "97d835c5-0a04-4d8e-98ea-fce7d91fc3cf"
      },
      "execution_count": 90,
      "outputs": [
        {
          "output_type": "stream",
          "name": "stdout",
          "text": [
            "The set is empty.\n",
            "The set is empty.\n"
          ]
        }
      ]
    },
    {
      "cell_type": "code",
      "source": [
        "#. Create a nested set (hint: use frozenset).\n",
        "\n",
        "nested_set = {frozenset({1, 2, 3}), frozenset({'a', 'b', 'c'})}\n",
        "print(nested_set)\n"
      ],
      "metadata": {
        "colab": {
          "base_uri": "https://localhost:8080/"
        },
        "id": "ld2Vp7y2348K",
        "outputId": "69a94f99-9ab2-44ea-b05b-6d13527913be"
      },
      "execution_count": 91,
      "outputs": [
        {
          "output_type": "stream",
          "name": "stdout",
          "text": [
            "{frozenset({1, 2, 3}), frozenset({'a', 'b', 'c'})}\n"
          ]
        }
      ]
    },
    {
      "cell_type": "code",
      "source": [
        "#. Compare two sets\n",
        "set1 = {1, 2, 3}\n",
        "set2 = {3, 2, 1}\n",
        "set3 = {1, 2, 3, 4}\n",
        "\n",
        "# Check if two sets are equal\n",
        "if set1 == set2:\n",
        "    print(\"set1 and set2 are equal.\")\n",
        "else:\n",
        "    print(\"set1 and set2 are not equal.\")\n",
        "\n",
        "# Check if two sets are not equal\n",
        "if set1 != set3:\n",
        "    print(\"set1 and set3 are not equal.\")\n",
        "else:\n",
        "    print(\"set1 and set3 are equal.\")\n",
        "\n",
        "# Check if a set is a subset of another set\n",
        "if set1 <= set3:\n",
        "    print(\"set1 is a subset of set3.\")\n",
        "else:\n",
        "    print(\"set1 is not a subset of set3.\")\n",
        "\n",
        "# Check if a set is a superset of another set\n",
        "if set3 >= set1:\n",
        "    print(\"set3 is a superset of set1.\")\n"
      ],
      "metadata": {
        "colab": {
          "base_uri": "https://localhost:8080/"
        },
        "id": "CTE3Y-0e4qxp",
        "outputId": "bc6ac4be-cd4a-44a8-8a4e-4c73c4a39090"
      },
      "execution_count": 93,
      "outputs": [
        {
          "output_type": "stream",
          "name": "stdout",
          "text": [
            "set1 and set2 are equal.\n",
            "set1 and set3 are not equal.\n",
            "set1 is a subset of set3.\n",
            "set3 is a superset of set1.\n"
          ]
        }
      ]
    },
    {
      "cell_type": "code",
      "source": [
        "#Create a set from a string\n",
        "my_string = \"hello\"\n",
        "my_set = set(my_string)\n",
        "print(my_set)\n"
      ],
      "metadata": {
        "colab": {
          "base_uri": "https://localhost:8080/"
        },
        "id": "_KPGLonq4q07",
        "outputId": "96e6788d-70ac-47c2-8a01-3070adda5fdb"
      },
      "execution_count": 94,
      "outputs": [
        {
          "output_type": "stream",
          "name": "stdout",
          "text": [
            "{'h', 'o', 'e', 'l'}\n"
          ]
        }
      ]
    },
    {
      "cell_type": "code",
      "source": [
        "#Convert a set of strings to a set of integers\n",
        "set_of_strings = {\"1\", \"2\", \"3\", \"4\", \"5\"}\n",
        "set_of_integers = {int(x) for x in set_of_strings}\n",
        "print(set_of_integers)\n"
      ],
      "metadata": {
        "colab": {
          "base_uri": "https://localhost:8080/"
        },
        "id": "ozbd6voI4q4E",
        "outputId": "10c69421-798d-4e9a-844d-fb553056f48b"
      },
      "execution_count": 95,
      "outputs": [
        {
          "output_type": "stream",
          "name": "stdout",
          "text": [
            "{1, 2, 3, 4, 5}\n"
          ]
        }
      ]
    },
    {
      "cell_type": "code",
      "source": [
        "#. Convert a set of integers to a set of strings\n",
        "set_of_integers = {1, 2, 3, 4, 5}\n",
        "set_of_strings = {str(x) for x in set_of_integers}\n",
        "print(set_of_strings)"
      ],
      "metadata": {
        "colab": {
          "base_uri": "https://localhost:8080/"
        },
        "id": "lH0ZHF-U4q7m",
        "outputId": "2629f560-8828-4dea-85ee-138aad132c29"
      },
      "execution_count": 96,
      "outputs": [
        {
          "output_type": "stream",
          "name": "stdout",
          "text": [
            "{'4', '3', '2', '5', '1'}\n"
          ]
        }
      ]
    },
    {
      "cell_type": "code",
      "source": [
        "#. Create a set from a tuple.\n",
        "set_of_integers = {1, 2, 3, 4, 5}\n",
        "set_of_strings = {str(x) for x in set_of_integers}\n",
        "print(set_of_strings)\n"
      ],
      "metadata": {
        "colab": {
          "base_uri": "https://localhost:8080/"
        },
        "id": "rNEE9Xgq34_y",
        "outputId": "862d8907-ec5b-4e19-8a40-50ba0ef6f08a"
      },
      "execution_count": 97,
      "outputs": [
        {
          "output_type": "stream",
          "name": "stdout",
          "text": [
            "{'4', '3', '2', '5', '1'}\n"
          ]
        }
      ]
    },
    {
      "cell_type": "code",
      "source": [
        "# Convert a set to a tuple\n",
        "my_set = {1, 2, 3, 4, 5}\n",
        "my_tuple = tuple(my_set)\n",
        "print(my_tuple)\n"
      ],
      "metadata": {
        "colab": {
          "base_uri": "https://localhost:8080/"
        },
        "id": "GhkCMNV56OYo",
        "outputId": "295d54fb-b2f8-4246-b6f4-019f79ce1355"
      },
      "execution_count": 98,
      "outputs": [
        {
          "output_type": "stream",
          "name": "stdout",
          "text": [
            "(1, 2, 3, 4, 5)\n"
          ]
        }
      ]
    },
    {
      "cell_type": "code",
      "source": [
        "# Find the maximum value in a set.\n",
        "my_set = {1, 5, 3, 8, 2, 6}\n",
        "max_value = max(my_set)\n",
        "print(\"The maximum value in the set is:\", max_value)\n"
      ],
      "metadata": {
        "colab": {
          "base_uri": "https://localhost:8080/"
        },
        "id": "tHZHOCUQ6OVF",
        "outputId": "6bdf77dd-3b4a-4f3c-deec-0cf7897c0717"
      },
      "execution_count": 99,
      "outputs": [
        {
          "output_type": "stream",
          "name": "stdout",
          "text": [
            "The maximum value in the set is: 8\n"
          ]
        }
      ]
    },
    {
      "cell_type": "code",
      "source": [
        "#Find the minimum value in a set.\n",
        "my_set = {1, 5, 3, 8, 2, 6}\n",
        "max_value = min(my_set)\n",
        "print(\"The maximum value in the set is:\", min_value)"
      ],
      "metadata": {
        "id": "hzujWrjI6OR_"
      },
      "execution_count": null,
      "outputs": []
    },
    {
      "cell_type": "code",
      "source": [
        "\n",
        "# Collect user input as a string\n",
        "user_input = input(\"Enter elements separated by spaces: \")\n",
        "\n",
        "# Split the input string into a list of elements\n",
        "input_list = user_input.split()\n",
        "\n",
        "# Convert the list of elements into a set\n",
        "user_set = set(input_list)\n",
        "\n",
        "print(\"Set created from user input:\", user_set)\n"
      ],
      "metadata": {
        "colab": {
          "base_uri": "https://localhost:8080/"
        },
        "id": "hjRQY_NQ6OOx",
        "outputId": "3162299c-5169-4c11-8943-358fe70708ff"
      },
      "execution_count": 100,
      "outputs": [
        {
          "output_type": "stream",
          "name": "stdout",
          "text": [
            "Enter elements separated by spaces: 45\n",
            "Set created from user input: {'45'}\n"
          ]
        }
      ]
    },
    {
      "cell_type": "code",
      "source": [
        "#2. Create a set of the first 5 Fibonacci numbers.\n",
        "# Function to generate Fibonacci numbers\n",
        "def generate_fibonacci(n):\n",
        "    fibonacci_set = set()\n",
        "    a, b = 0, 1\n",
        "    while len(fibonacci_set) < n:\n",
        "        fibonacci_set.add(a)\n",
        "        a, b = b, a + b\n",
        "    return fibonacci_set\n",
        "\n",
        "# Create a set of the first 5 Fibonacci numbers\n",
        "fibonacci_set = generate_fibonacci(5)\n",
        "print(\"Set of the first 5 Fibonacci numbers:\", fibonacci_set)\n"
      ],
      "metadata": {
        "colab": {
          "base_uri": "https://localhost:8080/"
        },
        "id": "YdUR8O606OLO",
        "outputId": "f2b4f180-add8-43fa-8dae-e7381fe979bc"
      },
      "execution_count": 101,
      "outputs": [
        {
          "output_type": "stream",
          "name": "stdout",
          "text": [
            "Set of the first 5 Fibonacci numbers: {0, 1, 2, 3, 5}\n"
          ]
        }
      ]
    },
    {
      "cell_type": "code",
      "source": [
        "#Remove duplicates from a list using sets.\n",
        "# Original list with duplicates\n",
        "original_list = [1, 2, 3, 4, 2, 3, 5, 6, 1]\n",
        "\n",
        "# Convert the list to a set to remove duplicates\n",
        "unique_set = set(original_list)\n",
        "\n",
        "# Convert the set back to a list\n",
        "unique_list = list(unique_set)\n",
        "\n",
        "print(\"Original list:\", original_list)\n",
        "print(\"List after removing duplicates:\", unique_list)\n"
      ],
      "metadata": {
        "colab": {
          "base_uri": "https://localhost:8080/"
        },
        "id": "e6KzrD_Z6OIH",
        "outputId": "c3d37ac8-ae67-4398-a905-d3d5e27794da"
      },
      "execution_count": 102,
      "outputs": [
        {
          "output_type": "stream",
          "name": "stdout",
          "text": [
            "Original list: [1, 2, 3, 4, 2, 3, 5, 6, 1]\n",
            "List after removing duplicates: [1, 2, 3, 4, 5, 6]\n"
          ]
        }
      ]
    },
    {
      "cell_type": "code",
      "source": [
        "#. Check if two sets have the same elements, regardless of their count.\n",
        "set1 = {1, 2, 3, 4, 5}\n",
        "set2 = {5, 4, 3, 2, 1}\n",
        "set3 = {1, 2, 2, 3, 3, 4, 5}\n",
        "\n",
        "if set1 == set2:\n",
        "    print(\"set1 and set2 have the same elements.\")\n",
        "else:\n",
        "    print(\"set1 and set2 do not have the same elements.\")\n",
        "\n",
        "if set1 == set3:\n",
        "    print(\"set1 and set3 have the same elements.\")\n",
        "else:\n",
        "    print(\"set1 and set3 do not have the same elements.\")\n"
      ],
      "metadata": {
        "colab": {
          "base_uri": "https://localhost:8080/"
        },
        "id": "09ClfzMw805O",
        "outputId": "c441d6e3-d1d7-4ec2-da52-c876f1bd435d"
      },
      "execution_count": 103,
      "outputs": [
        {
          "output_type": "stream",
          "name": "stdout",
          "text": [
            "set1 and set2 have the same elements.\n",
            "set1 and set3 have the same elements.\n"
          ]
        }
      ]
    },
    {
      "cell_type": "code",
      "source": [
        "# Create a set of the first `n` powers of 2.\n",
        "n = 5\n",
        "powers_of_2_set = {2 ** i for i in range(n)}\n",
        "print(powers_of_2_set)\n"
      ],
      "metadata": {
        "colab": {
          "base_uri": "https://localhost:8080/"
        },
        "id": "6NTCH3B-808t",
        "outputId": "541027be-1711-414a-dfcf-6c7ac7606f47"
      },
      "execution_count": 104,
      "outputs": [
        {
          "output_type": "stream",
          "name": "stdout",
          "text": [
            "{1, 2, 4, 8, 16}\n"
          ]
        }
      ]
    },
    {
      "cell_type": "code",
      "source": [
        "#. Find the common elements between a set and a list.\n",
        "my_set = {1, 2, 3, 4, 5}\n",
        "my_list = [4, 5, 6, 7, 8]\n",
        "\n",
        "common_elements = my_set & set(my_list)\n",
        "print(\"Common elements:\", common_elements)\n"
      ],
      "metadata": {
        "colab": {
          "base_uri": "https://localhost:8080/"
        },
        "id": "opbL8zk781AU",
        "outputId": "a8d68307-d35c-4a51-d06a-995d8d0f209c"
      },
      "execution_count": 105,
      "outputs": [
        {
          "output_type": "stream",
          "name": "stdout",
          "text": [
            "Common elements: {4, 5}\n"
          ]
        }
      ]
    },
    {
      "cell_type": "code",
      "source": [
        "#Create a set of the first `n` triangular numbers.\n",
        "n = 5  # Number of triangular numbers\n",
        "triangular_numbers_set = {i * (i + 1) // 2 for i in range(1, n + 1)}\n",
        "print(triangular_numbers_set)\n"
      ],
      "metadata": {
        "id": "suGowUGm9NVl"
      },
      "execution_count": null,
      "outputs": []
    },
    {
      "cell_type": "code",
      "source": [
        "#. Check if a set contains another set as a subset.\n",
        "# Define sets\n",
        "set1 = {1, 2, 3, 4, 5}\n",
        "set2 = {2, 3}\n",
        "set3 = {6, 7, 8}\n",
        "\n",
        "# Using issubset() method\n",
        "if set2.issubset(set1):\n",
        "    print(\"set2 is a subset of set1\")\n",
        "else:\n",
        "    print(\"set2 is not a subset of set1\")\n",
        "\n",
        "if set3.issubset(set1):\n",
        "    print(\"set3 is a subset of set1\")\n",
        "else:\n",
        "    print(\"set3 is not a subset of set1\")\n",
        "\n",
        "# Using subset operator\n",
        "if set2 <= set1:\n",
        "    print(\"set2 is a subset of set1\")\n",
        "else:\n",
        "    print(\"set2 is not a subset of set1\")\n",
        "\n",
        "if set3 <= set1:\n",
        "    print(\"set3 is a subset of set1\")\n",
        "else:\n",
        "    print(\"set3 is not a subset of set1\")\n"
      ],
      "metadata": {
        "colab": {
          "base_uri": "https://localhost:8080/"
        },
        "id": "dvgj1hxm9NSF",
        "outputId": "ffee0817-fc85-4aa7-aa9b-b5ab94a22809"
      },
      "execution_count": 106,
      "outputs": [
        {
          "output_type": "stream",
          "name": "stdout",
          "text": [
            "set2 is a subset of set1\n",
            "set3 is not a subset of set1\n",
            "set2 is a subset of set1\n",
            "set3 is not a subset of set1\n"
          ]
        }
      ]
    },
    {
      "cell_type": "code",
      "source": [
        "#9. Create a set of alternating 1s and 0s of length `n`.\n",
        "n = 10  # Length of the set\n",
        "alternating_set = {i % 2 for i in range(n)}\n",
        "print(alternating_set)\n"
      ],
      "metadata": {
        "colab": {
          "base_uri": "https://localhost:8080/"
        },
        "id": "RihtVjZF9NPW",
        "outputId": "8b8e8b0c-13ae-4e7d-cec8-1c530be8f5ef"
      },
      "execution_count": 107,
      "outputs": [
        {
          "output_type": "stream",
          "name": "stdout",
          "text": [
            "{0, 1}\n"
          ]
        }
      ]
    },
    {
      "cell_type": "code",
      "source": [
        "#merge multiplr dets into one\n",
        "s1={1,2,3}\n",
        "s2={4,5,6,7,8,9,10,11,12}\n",
        "d= s1.union(s2)\n",
        "print(d)"
      ],
      "metadata": {
        "colab": {
          "base_uri": "https://localhost:8080/"
        },
        "id": "nj6usebo9NKw",
        "outputId": "dcdba409-f182-4493-e252-a1257d441679"
      },
      "execution_count": 110,
      "outputs": [
        {
          "output_type": "stream",
          "name": "stdout",
          "text": [
            "{1, 2, 3, 4, 5, 6, 7, 8, 9, 10, 11, 12}\n"
          ]
        }
      ]
    },
    {
      "cell_type": "code",
      "source": [],
      "metadata": {
        "id": "AEBk8kgG9NHV"
      },
      "execution_count": null,
      "outputs": []
    },
    {
      "cell_type": "code",
      "source": [],
      "metadata": {
        "id": "p6paC_HN9NEI"
      },
      "execution_count": null,
      "outputs": []
    }
  ],
  "metadata": {
    "colab": {
      "provenance": [],
      "authorship_tag": "ABX9TyP0g+HolQyLmfEr8gQGIF+z",
      "include_colab_link": true
    },
    "kernelspec": {
      "display_name": "Python 3",
      "name": "python3"
    },
    "language_info": {
      "name": "python"
    }
  },
  "nbformat": 4,
  "nbformat_minor": 0
}