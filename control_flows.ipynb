{
  "cells": [
    {
      "cell_type": "markdown",
      "metadata": {
        "id": "view-in-github",
        "colab_type": "text"
      },
      "source": [
        "<a href=\"https://colab.research.google.com/github/VAMSIKOLLURI01/pwskills/blob/main/control_flows.ipynb\" target=\"_parent\"><img src=\"https://colab.research.google.com/assets/colab-badge.svg\" alt=\"Open In Colab\"/></a>"
      ]
    },
    {
      "cell_type": "code",
      "execution_count": null,
      "metadata": {
        "colab": {
          "base_uri": "https://localhost:8080/"
        },
        "id": "2TQpoNrSbgN1",
        "outputId": "d325e1a6-5660-44a5-e15b-2851daf4867d"
      },
      "outputs": [
        {
          "name": "stdout",
          "output_type": "stream",
          "text": [
            "enter the string:56\n",
            "postive number\n"
          ]
        }
      ],
      "source": [
        "# Write a Python program to check if a given number is positive or negative\n",
        "num=int(input(\"enter the string:\"))\n",
        "if num>0:\n",
        "   print(\"postive number\")\n",
        "elif num<0:\n",
        "  print(\"negative number\")\n",
        "else:\n",
        "  print(\"the number is zero\")"
      ]
    },
    {
      "cell_type": "code",
      "execution_count": null,
      "metadata": {
        "colab": {
          "base_uri": "https://localhost:8080/"
        },
        "id": "zf7PLSsEj6DI",
        "outputId": "6e69e7de-c219-49b5-cd6a-4af65559214d"
      },
      "outputs": [
        {
          "name": "stdout",
          "output_type": "stream",
          "text": [
            "enter the string:65\n",
            "eligible to vote\n"
          ]
        }
      ],
      "source": [
        "#Create a program that determines if a person is eligible to vote based on their age\n",
        "age=int(input(\"enter the string:\"))\n",
        "if age>18:\n",
        "  print(\"eligible to vote\")\n",
        "elif age<18:\n",
        "  print(\"not eligible to vote\")\n",
        "else:\n",
        "  print(\"nothing\")\n"
      ]
    },
    {
      "cell_type": "code",
      "execution_count": null,
      "metadata": {
        "colab": {
          "base_uri": "https://localhost:8080/"
        },
        "id": "gk69S96KlluU",
        "outputId": "b5d03a12-c185-4f0b-abd8-d9c7d6e3c4a2"
      },
      "outputs": [
        {
          "name": "stdout",
          "output_type": "stream",
          "text": [
            "Enter the first number: 6\n",
            "Enter the second number: 9\n",
            "The maximum of 6 and 9 is: 9\n"
          ]
        }
      ],
      "source": [
        "# Develop a program to find the maximum of two numbers using if-else statement\n",
        "# Input two numbers from the user\n",
        "num1 = int(input(\"Enter the first number: \"))\n",
        "num2 = int(input(\"Enter the second number: \"))\n",
        "\n",
        "# Check which number is greater using if-else statements\n",
        "if num1 > num2:\n",
        "    maximum = num1\n",
        "else:\n",
        "    maximum = num2\n",
        "\n",
        "# Print the maximum number\n",
        "print(\"The maximum of\", num1, \"and\", num2, \"is:\", maximum)\n",
        "\n",
        "\n",
        "\n"
      ]
    },
    {
      "cell_type": "code",
      "execution_count": null,
      "metadata": {
        "colab": {
          "base_uri": "https://localhost:8080/"
        },
        "id": "w744Ro5zu4-5",
        "outputId": "cfe8112d-aee3-4e5b-f262-361bd6faa231"
      },
      "outputs": [
        {
          "name": "stdout",
          "output_type": "stream",
          "text": [
            "Enter a year: 2024\n",
            "The 2024 is leap year\n"
          ]
        }
      ],
      "source": [
        "# Write a Python script to classify a given year as a leap year or not.\n",
        "year = int(input(\"Enter a year: \"))\n",
        "\n",
        "if year % 100 != 0 and year % 4 ==0:\n",
        "      print(\"The\", year, \"is leap year\")\n",
        "else:\n",
        "    print(\"The\", year, \"is not a leap year\")\n",
        "\n"
      ]
    },
    {
      "cell_type": "code",
      "execution_count": null,
      "metadata": {
        "colab": {
          "base_uri": "https://localhost:8080/"
        },
        "id": "K3ecY2Ms36tC",
        "outputId": "22bea1a0-906c-463f-a843-d2e507b857f4"
      },
      "outputs": [
        {
          "name": "stdout",
          "output_type": "stream",
          "text": [
            "Enter a character: vamsi\n",
            "Please enter only a single character\n"
          ]
        }
      ],
      "source": [
        "#Create a program that checks whether a character is a vowel or a consonant\n",
        "# Input a character from the user\n",
        "char = input(\"Enter a character: \")\n",
        "\n",
        "# Convert the character to lowercase to handle both uppercase and lowercase input\n",
        "char = char.lower()\n",
        "\n",
        "# Check if the input is a single character\n",
        "if len(char) == 1:\n",
        "    # Check if the input is a letter\n",
        "    if char.isalpha():\n",
        "        # Check if the character is a vowel\n",
        "        if char in 'aeiou':\n",
        "            print(char, \"is a vowel\")\n",
        "        else:\n",
        "            print(char, \"is a consonant\")\n",
        "    else:\n",
        "        print(\"Please enter a valid letter\")\n",
        "else:\n",
        "    print(\"Please enter only a single character\")\n",
        "\n"
      ]
    },
    {
      "cell_type": "code",
      "execution_count": null,
      "metadata": {
        "colab": {
          "base_uri": "https://localhost:8080/"
        },
        "id": "ZzLB3-vQ_32D",
        "outputId": "5755d882-9d71-4192-c711-ab73ab89e104"
      },
      "outputs": [
        {
          "name": "stdout",
          "output_type": "stream",
          "text": [
            "enter the the number:6\n",
            "6 is even number\n"
          ]
        }
      ],
      "source": [
        "#implement a program to determine whether a given number is even or odd\n",
        "num=int(input(\"enter the the number:\"))\n",
        "if num%2==0:\n",
        "  print(num,\"is even number\")\n",
        "else:\n",
        "  print(num,\"is odd numbers\")"
      ]
    },
    {
      "cell_type": "code",
      "execution_count": null,
      "metadata": {
        "colab": {
          "base_uri": "https://localhost:8080/"
        },
        "id": "AzWt_sIX3cns",
        "outputId": "777dda61-aef4-4a5e-f49c-b6e353696546"
      },
      "outputs": [
        {
          "name": "stdout",
          "output_type": "stream",
          "text": [
            "Enter a number: 5\n",
            "Absolute value of 5.0 is 5.0\n"
          ]
        }
      ],
      "source": [
        "#. Write a Python function to calculate the absolute value of a number without using the `abs()` function\n",
        "def absolute_value(num):\n",
        "    if num < 0:\n",
        "        return -num\n",
        "    else:\n",
        "        return num\n",
        "\n",
        "# Example usage:\n",
        "number = float(input(\"Enter a number: \"))\n",
        "print(\"Absolute value of\", number, \"is\", absolute_value(number))\n"
      ]
    },
    {
      "cell_type": "code",
      "execution_count": null,
      "metadata": {
        "colab": {
          "base_uri": "https://localhost:8080/"
        },
        "id": "BQ5xn7aIBtAv",
        "outputId": "0dc840e1-1242-4890-91f8-74d44e20daea"
      },
      "outputs": [
        {
          "name": "stdout",
          "output_type": "stream",
          "text": [
            "the largest number in the given: 33\n"
          ]
        }
      ],
      "source": [
        "# Develop a program that determines the largest of three given numbers using if-else statements\n",
        "num1=1\n",
        "num2=22\n",
        "num3=33\n",
        "if num1>=num2 and num1>=3:\n",
        "  largest=num1\n",
        "elif num2>=num1 and num2>=num3:\n",
        "  largest=num2\n",
        "else:\n",
        "  largest=num3\n",
        "\n",
        "print(\"the largest number in the given:\",largest)"
      ]
    },
    {
      "cell_type": "code",
      "execution_count": null,
      "metadata": {
        "colab": {
          "base_uri": "https://localhost:8080/"
        },
        "id": "hK1dE9ZA3WA_",
        "outputId": "a631adda-69a8-4f4d-811d-f08dfef79475"
      },
      "outputs": [
        {
          "name": "stdout",
          "output_type": "stream",
          "text": [
            "enter a string :sos\n",
            "the string is palindrom\n"
          ]
        }
      ],
      "source": [
        "#. Create a program that checks if a given string is a palindrome.\n",
        "a=input(\"enter a string :\")\n",
        "if a==a[::-1]:\n",
        "  print(\"the string is palindrom\")\n",
        "else:\n",
        "  print(\"the string not in palindrom\")\n"
      ]
    },
    {
      "cell_type": "code",
      "execution_count": null,
      "metadata": {
        "colab": {
          "base_uri": "https://localhost:8080/"
        },
        "id": "itGPnjla7R1I",
        "outputId": "2dfaae91-82ad-4ef5-df0b-bf0a55705a8f"
      },
      "outputs": [
        {
          "name": "stdout",
          "output_type": "stream",
          "text": [
            "enter the grade percentage :87\n",
            "87 is B grade\n"
          ]
        }
      ],
      "source": [
        "#Write a Python program to calculate the grade based on a student's score.\n",
        "grade=int(input(\"enter the grade percentage :\"))\n",
        "if grade>=90:\n",
        "  print(grade,\"is A grade\")\n",
        "elif grade>=75:\n",
        "   print(grade,\"is B grade\")\n",
        "elif grade>=50:\n",
        "  print(grade,\"is c grade\")\n",
        "else:\n",
        "  print(\"FAIL\")\n"
      ]
    },
    {
      "cell_type": "markdown",
      "metadata": {
        "id": "V2Fpjs1hC2rF"
      },
      "source": [
        "Nested If-Else Statements:"
      ]
    },
    {
      "cell_type": "code",
      "execution_count": null,
      "metadata": {
        "colab": {
          "base_uri": "https://localhost:8080/"
        },
        "id": "2ZMxcX9FC2TG",
        "outputId": "71d17759-44c4-479c-93ba-99d661037b19"
      },
      "outputs": [
        {
          "name": "stdout",
          "output_type": "stream",
          "text": [
            "Enter first number: 67\n",
            "Enter second number: 09\n",
            "Enter third number: 78\n",
            "The largest number is: 78.0\n"
          ]
        }
      ],
      "source": [
        "#Write a program to find the largest among three numbers using nested if-else statements.\n",
        "num1 = float(input(\"Enter first number: \"))\n",
        "num2 = float(input(\"Enter second number: \"))\n",
        "num3 = float(input(\"Enter third number: \"))\n",
        "\n",
        "if num1 >= num2:\n",
        "    if num1 >= num3:\n",
        "        largest = num1\n",
        "    else:\n",
        "        largest = num3\n",
        "else:\n",
        "    if num2 >= num3:\n",
        "        largest = num2\n",
        "    else:\n",
        "        largest = num3\n",
        "\n",
        "print(\"The largest number is:\", largest)\n"
      ]
    },
    {
      "cell_type": "code",
      "execution_count": null,
      "metadata": {
        "colab": {
          "base_uri": "https://localhost:8080/"
        },
        "id": "uhqMhE1GCspr",
        "outputId": "a8e755ab-ff7d-4035-d56b-6445f189a53b"
      },
      "outputs": [
        {
          "name": "stdout",
          "output_type": "stream",
          "text": [
            "Enter the length of side 1: 35.4\n",
            "Enter the length of side 2: 35.4\n",
            "Enter the length of side 3: 34\n",
            "the triangle is isosceles\n"
          ]
        }
      ],
      "source": [
        "#Implement a program to determine if a triangle is equilateral, isosceles, or scalene.\n",
        "from re import S\n",
        "s1 = float(input(\"Enter the length of side 1: \"))\n",
        "s2 = float(input(\"Enter the length of side 2: \"))\n",
        "s3 = float(input(\"Enter the length of side 3: \"))\n",
        "if s1==s2==s3:\n",
        "  print(\"the triangle is equletrial\")\n",
        "elif s1==s2 or s1==s3 or s2==s3:\n",
        "  print(\"the triangle is isosceles\")\n",
        "else:\n",
        "  print(\"the triangle is scalene\")\n"
      ]
    },
    {
      "cell_type": "code",
      "execution_count": null,
      "metadata": {
        "colab": {
          "base_uri": "https://localhost:8080/"
        },
        "id": "xkqX8CVUJF_s",
        "outputId": "eb200606-edfc-4c76-ca88-1d9be49ab3ad"
      },
      "outputs": [
        {
          "name": "stdout",
          "output_type": "stream",
          "text": [
            "Enter the year: 1900\n",
            "1900 is not a leap year.\n",
            "1900 is a century year.\n"
          ]
        }
      ],
      "source": [
        "# Develop a program that checks if a year is a leap year and also if it is a century year\n",
        "year = int(input(\"Enter the year: \"))\n",
        "\n",
        "if (year % 4 == 0  or year % 400 == 0)and year % 100 != 0:\n",
        "    print(year, \"is a leap year.\")\n",
        "else:\n",
        "    print(year, \"is not a leap year.\")\n",
        "\n",
        "if year % 100 == 0:\n",
        "    print(year, \"is a century year.\")\n",
        "else:\n",
        "    print(year, \"is not a century year.\")\n"
      ]
    },
    {
      "cell_type": "code",
      "execution_count": null,
      "metadata": {
        "colab": {
          "base_uri": "https://localhost:8080/"
        },
        "id": "vbWBI1IVQ0Pb",
        "outputId": "9b717a93-cb44-4c0c-bc16-b11ddcc39473"
      },
      "outputs": [
        {
          "name": "stdout",
          "output_type": "stream",
          "text": [
            "enter a number :67\n",
            "the number is positive\n"
          ]
        }
      ],
      "source": [
        "#Write a Python script to determine if a number is positive, negative, or zero\n",
        "num=int(input(\"enter a number :\"))\n",
        "if num>0:\n",
        "  print(\"the number is positive\")\n",
        "else:\n",
        "  if num<0:\n",
        "    print(\"the number is negative\")\n",
        "  else:\n",
        "    print(\"the number is 0\")\n"
      ]
    },
    {
      "cell_type": "code",
      "execution_count": null,
      "metadata": {
        "colab": {
          "base_uri": "https://localhost:8080/"
        },
        "id": "ODC2fvfARwvT",
        "outputId": "3a148c4f-71ef-46b3-d4ae-d4adcfcc261d"
      },
      "outputs": [
        {
          "name": "stdout",
          "output_type": "stream",
          "text": [
            "enter the age of the person:56\n",
            "adult age\n"
          ]
        }
      ],
      "source": [
        "#Create a program to check if a person is a teenager (between 13 and 19 years old)\n",
        "a=int(input(\"enter the age of the person:\"))\n",
        "if a>=13:\n",
        "  if a<=19:\n",
        "      print(\"the person is teenager \")\n",
        "  else:\n",
        "      print(\"adult age\")\n",
        "else:\n",
        "  print(\"the person is not a teenager\")\n"
      ]
    },
    {
      "cell_type": "code",
      "execution_count": null,
      "metadata": {
        "colab": {
          "base_uri": "https://localhost:8080/"
        },
        "id": "my0LwesATlmP",
        "outputId": "06ac6e18-7f71-47b3-fbc0-e57e1041f8b5"
      },
      "outputs": [
        {
          "name": "stdout",
          "output_type": "stream",
          "text": [
            "Enter the angle: 132\n",
            "Obtuse angle\n"
          ]
        }
      ],
      "source": [
        "# Develop a program that determi;nes the type of angle based on its measure (acute, obtuse, or right\n",
        "angle = int(input(\"Enter the angle: \"))\n",
        "\n",
        "if angle == 90:\n",
        "    print(\"Right angle\")\n",
        "else:\n",
        "    if angle > 90 and angle < 180:\n",
        "        print(\"Obtuse angle\")\n",
        "    else:\n",
        "        print(\"Acute angle\")\n",
        "\n"
      ]
    },
    {
      "cell_type": "code",
      "execution_count": null,
      "metadata": {
        "colab": {
          "base_uri": "https://localhost:8080/"
        },
        "id": "LpMEckRTolPQ",
        "outputId": "3434974c-1585-4e35-be15-ebe58b497e86"
      },
      "outputs": [
        {
          "name": "stdout",
          "output_type": "stream",
          "text": [
            "Enter coefficient a: 6\n",
            "Enter coefficient b: 6\n",
            "Enter coefficient c: 7\n",
            "Root 1: (-0.5+0.9574271077563381j)\n",
            "Root 2: (-0.5-0.9574271077563381j)\n"
          ]
        }
      ],
      "source": [
        "#Write a Python program to calculate the roots of a quadratic equation\n",
        "import math\n",
        "\n",
        "def quadratic_roots(a, b, c):\n",
        "    discriminant = b**2 - 4*a*c\n",
        "\n",
        "    if discriminant > 0:\n",
        "        root1 = (-b + math.sqrt(discriminant)) / (2*a)\n",
        "        root2 = (-b - math.sqrt(discriminant)) / (2*a)\n",
        "        return root1, root2\n",
        "    elif discriminant == 0:\n",
        "        root = -b / (2*a)\n",
        "        return root, root\n",
        "    else:\n",
        "        real_part = -b / (2*a)\n",
        "        imaginary_part = math.sqrt(abs(discriminant)) / (2*a)\n",
        "        root1 = complex(real_part, imaginary_part)\n",
        "        root2 = complex(real_part, -imaginary_part)\n",
        "        return root1, root2\n",
        "\n",
        "# Example usage\n",
        "a = float(input(\"Enter coefficient a: \"))\n",
        "b = float(input(\"Enter coefficient b: \"))\n",
        "c = float(input(\"Enter coefficient c: \"))\n",
        "\n",
        "roots = quadratic_roots(a, b, c)\n",
        "\n",
        "if isinstance(roots[0], complex):\n",
        "    print(\"Root 1:\", roots[0])\n",
        "    print(\"Root 2:\", roots[1])\n",
        "else:\n",
        "    print(\"Root 1:\", roots[0])\n",
        "    print(\"Root 2:\", roots[1])\n"
      ]
    },
    {
      "cell_type": "code",
      "execution_count": null,
      "metadata": {
        "colab": {
          "base_uri": "https://localhost:8080/"
        },
        "id": "Ln-IHXn8nNbb",
        "outputId": "7ea212d3-628e-42ec-b975-ebfcac6fb23a"
      },
      "outputs": [
        {
          "name": "stdout",
          "output_type": "stream",
          "text": [
            "Enter the number: 5\n",
            "Friday\n"
          ]
        }
      ],
      "source": [
        "'''Implement a program to determine the day of the week based on a user-provided number (1 for Monday, 2\n",
        "for Tuesday, etc.)'''\n",
        "\n",
        "number = int(input(\"Enter the number: \"))\n",
        "\n",
        "if number == 1:\n",
        "    print(\"Monday\")\n",
        "elif number == 2:\n",
        "    print(\"Tuesday\")\n",
        "elif number == 3:\n",
        "    print(\"Wednesday\")\n",
        "elif number == 4:\n",
        "    print(\"Thursday\")\n",
        "elif number == 5:\n",
        "    print(\"Friday\")\n",
        "elif number == 6:\n",
        "    print(\"Saturday\")\n",
        "elif number == 7:\n",
        "    print(\"Sunday\")\n",
        "else:\n",
        "    print(\"Invalid input. Please enter a number between 1 and 7.\")\n"
      ]
    },
    {
      "cell_type": "code",
      "execution_count": null,
      "metadata": {
        "colab": {
          "base_uri": "https://localhost:8080/"
        },
        "id": "juTq-ZUoJS_3",
        "outputId": "b41ca3ee-3521-4391-9b30-1c8f26bb626c"
      },
      "outputs": [
        {
          "name": "stdout",
          "output_type": "stream",
          "text": [
            "Enter a number: 8\n",
            "8 is not a prime number\n",
            "2 times 4 is 8\n"
          ]
        }
      ],
      "source": [
        "#Develop a program that checks if a given number is prime or not using nested if-else statements.\n",
        "num = int(input(\"Enter a number: \"))\n",
        "\n",
        "if num > 1:\n",
        "    for i in range(2, num):\n",
        "        if (num % i) == 0:\n",
        "            print(num, \"is not a prime number\")\n",
        "            print(i, \"times\", num // i, \"is\", num)\n",
        "            break\n",
        "    else:\n",
        "        print(num, \"is a prime number\")\n",
        "else:\n",
        "    print(num, \"is not a prime number\")\n",
        "\n"
      ]
    },
    {
      "cell_type": "markdown",
      "metadata": {
        "id": "UC1M0GLILZcp"
      },
      "source": [
        "Elif Statements:"
      ]
    },
    {
      "cell_type": "code",
      "execution_count": null,
      "metadata": {
        "colab": {
          "base_uri": "https://localhost:8080/"
        },
        "id": "sIrPWI4xKuk_",
        "outputId": "593e00a8-80c2-40d7-aec1-b2bb3e64b0b0"
      },
      "outputs": [
        {
          "name": "stdout",
          "output_type": "stream",
          "text": [
            "enter the grade percentage :34\n",
            "FAIL\n"
          ]
        }
      ],
      "source": [
        "#Write a Python program to assign grades based on different ranges of scores using elif statements.\n",
        "grade=int(input(\"enter the grade percentage :\"))\n",
        "if grade>=90:\n",
        "\n",
        "  print(grade,\"is A grade\")\n",
        "elif grade>=75:\n",
        "   print(grade,\"is B grade\")\n",
        "elif grade>=50:\n",
        "  print(grade,\"is c grade\")\n",
        "else:\n",
        "  print(\"FAIL\")\n"
      ]
    },
    {
      "cell_type": "code",
      "execution_count": null,
      "metadata": {
        "colab": {
          "base_uri": "https://localhost:8080/"
        },
        "id": "MAtRm23-Lq6X",
        "outputId": "dc9d5766-9d5f-4356-9a8b-4668b0fe905d"
      },
      "outputs": [
        {
          "name": "stdout",
          "output_type": "stream",
          "text": [
            "Enter the length of side 1: 56\n",
            "Enter the length of side 2: 56\n",
            "Enter the length of side 3: 56\n",
            "the triangle is equletrial\n"
          ]
        }
      ],
      "source": [
        "#Implement a program to determine the type of a triangle based on its angles.\n",
        "from re import S\n",
        "s1 = float(input(\"Enter the length of side 1: \"))\n",
        "s2 = float(input(\"Enter the length of side 2: \"))\n",
        "s3 = float(input(\"Enter the length of side 3: \"))\n",
        "if s1==s2==s3:\n",
        "  print(\"the triangle is equletrial\")\n",
        "elif s1==s2 or s1==s3 or s2==s3:\n",
        "  print(\"the triangle is isosceles\")\n",
        "else:\n",
        "  print(\"the triangle is scalene\")\n",
        "\n"
      ]
    },
    {
      "cell_type": "code",
      "execution_count": null,
      "metadata": {
        "colab": {
          "base_uri": "https://localhost:8080/"
        },
        "id": "HtJfEvi3Ml5z",
        "outputId": "bf6410b9-1448-443d-9ceb-ece374319599"
      },
      "outputs": [
        {
          "name": "stdout",
          "output_type": "stream",
          "text": [
            "Enter the weight in kilograms: 67\n",
            "Enter the height in meters: 7.2\n",
            "BMI: 1.2924382716049383 - Underweight\n"
          ]
        }
      ],
      "source": [
        "''' Develop a program to categorize a given person's BMI into underweight, normal, overweight, or obese using\n",
        "elif statements.'''\n",
        "weight = float(input(\"Enter the weight in kilograms: \"))\n",
        "height = float(input(\"Enter the height in meters: \"))\n",
        "\n",
        "bmi = weight / (height ** 2)\n",
        "\n",
        "if bmi >= 30:\n",
        "    print(\"BMI:\", bmi, \"- Obese\")\n",
        "elif bmi >= 25:\n",
        "    print(\"BMI:\", bmi, \"- Overweight\")\n",
        "elif bmi >= 18.5:\n",
        "    print(\"BMI:\", bmi, \"- Normal weight\")\n",
        "else:\n",
        "    print(\"BMI:\", bmi, \"- Underweight\")"
      ]
    },
    {
      "cell_type": "code",
      "execution_count": null,
      "metadata": {
        "colab": {
          "base_uri": "https://localhost:8080/"
        },
        "id": "8PJtAV0NNyBc",
        "outputId": "2655edfc-81a4-40c5-8dbb-339ab9a514ab"
      },
      "outputs": [
        {
          "name": "stdout",
          "output_type": "stream",
          "text": [
            "enter a number 55\n",
            "positive\n"
          ]
        }
      ],
      "source": [
        "'''Create a program that determines whether a given number is positive, negative, or zero using elif\n",
        "statement'''\n",
        "num=int(input(\"enter a number \"))\n",
        "if num>0:\n",
        "  print(\"positive\")\n",
        "elif num<0:\n",
        "  print(\"negative\")\n",
        "else:\n",
        "  print(\"the number is zero\")"
      ]
    },
    {
      "cell_type": "code",
      "execution_count": null,
      "metadata": {
        "colab": {
          "base_uri": "https://localhost:8080/"
        },
        "id": "P7wC2N6zPf59",
        "outputId": "8c5087ee-6397-4f65-cf72-34c6b042c6a2"
      },
      "outputs": [
        {
          "name": "stdout",
          "output_type": "stream",
          "text": [
            "enter the string :VASI\n",
            "upper case\n"
          ]
        }
      ],
      "source": [
        "'''Write a Python script to determine the type of a character (uppercase, lowercase, or special) using elif\n",
        "statements.'''\n",
        "string=input(\"enter the string :\")\n",
        "if string.isupper():\n",
        "  print(\"upper case\")\n",
        "elif string.islower():\n",
        "  print(\"lower case\")\n",
        "else:\n",
        "  print(\"specia,\")\n"
      ]
    },
    {
      "cell_type": "code",
      "execution_count": null,
      "metadata": {
        "colab": {
          "base_uri": "https://localhost:8080/"
        },
        "id": "XFfml0akT6aE",
        "outputId": "0bb4ab75-1515-4b3f-ace0-0e153d1a6b81"
      },
      "outputs": [
        {
          "name": "stdout",
          "output_type": "stream",
          "text": [
            "Enter the purchase amount: 500\n",
            "Original Price: 500.0\n",
            "Discount Rate: 5 %\n",
            "Discounted Price: 497.5\n"
          ]
        }
      ],
      "source": [
        "'''. Implement a program to calculate the discounted price based on different purchase amounts using elif\n",
        "statements.'''\n",
        "purchase_amount = float(input(\"Enter the purchase amount: \"))\n",
        "\n",
        "if purchase_amount>=1000:\n",
        "  descount_rate = 10\n",
        "elif purchase_amount>=500:\n",
        "  descount_rate = 5\n",
        "elif purchase_amount>=200:\n",
        "  descount_rate = 3\n",
        "else:\n",
        "  print(\"no descount aviable\")\n",
        "descount_price=purchase_amount-(purchase_amount*(descount_rate/1000))\n",
        "print(\"Original Price:\", purchase_amount)\n",
        "print(\"Discount Rate:\", descount_rate, \"%\")\n",
        "print(\"Discounted Price:\", descount_price)\n"
      ]
    },
    {
      "cell_type": "code",
      "execution_count": null,
      "metadata": {
        "colab": {
          "base_uri": "https://localhost:8080/"
        },
        "id": "JnmKWnepXUPH",
        "outputId": "3761c2f4-3dee-4962-be56-5511bf92006c"
      },
      "outputs": [
        {
          "name": "stdout",
          "output_type": "stream",
          "text": [
            "enter the bill :4567\n",
            "normal\n"
          ]
        }
      ],
      "source": [
        "'''Develop a program to calculate the electricity bill based on different consumption slabs using elif\n",
        "statements'''\n",
        "bill=int(input(\"enter the bill :\"))\n",
        "if bill >= 1000:\n",
        "  print(\"normal\")\n",
        "elif bill >= 2000:\n",
        "  print(\"above avrerage \")\n",
        "elif bill >= 5000:\n",
        "  print(\"over consumed\")\n",
        "else:\n",
        "  print(\"resenable\")"
      ]
    },
    {
      "cell_type": "code",
      "execution_count": null,
      "metadata": {
        "colab": {
          "base_uri": "https://localhost:8080/"
        },
        "id": "dMeutDi8a7Cm",
        "outputId": "f99def88-07f3-40f6-b7bd-8b57271de503"
      },
      "outputs": [
        {
          "name": "stdout",
          "output_type": "stream",
          "text": [
            "Enter the angle: 56\n",
            "Acute angle\n"
          ]
        }
      ],
      "source": [
        "'''#. Create a program to determine the type of quadrilateral based on its angles and sides using elif\n",
        "statements.'''\n",
        "angle = int(input(\"Enter the angle: \"))\n",
        "\n",
        "if angle == 90:\n",
        "    print(\"Right angle\")\n",
        "else:\n",
        "    if angle > 90 and angle < 180:\n",
        "        print(\"Obtuse angle\")\n",
        "    else:\n",
        "        print(\"Acute angle\")"
      ]
    },
    {
      "cell_type": "code",
      "execution_count": null,
      "metadata": {
        "colab": {
          "base_uri": "https://localhost:8080/"
        },
        "id": "lIwRFGTTcZGo",
        "outputId": "8916f354-6ee1-4a55-b540-8af604506072"
      },
      "outputs": [
        {
          "name": "stdout",
          "output_type": "stream",
          "text": [
            "enter the month : june\n",
            "winter\n"
          ]
        }
      ],
      "source": [
        "# Write a Python script to determine the season based on a user-provided month using elif statements\n",
        "a=[\"june\",\"july\",\"aguest\",\"september\"]\n",
        "b=[\"october\",\"november\",\"decmber\"]\n",
        "c=[\"january\",\"february\",\"march\",\"may\"]\n",
        "month=str(input(\"enter the month : \"))\n",
        "if month in a:\n",
        "  print(\"winter\")\n",
        "elif month in b:\n",
        "  print(\"rainy\")\n",
        "else:\n",
        "  if month in c:\n",
        "    print(\"summer\")\n",
        "  else:\n",
        "    print(\"spring\")\n",
        "\n"
      ]
    },
    {
      "cell_type": "code",
      "execution_count": null,
      "metadata": {
        "colab": {
          "base_uri": "https://localhost:8080/"
        },
        "id": "MgGCSpX6eT8g",
        "outputId": "c5029f82-a6f2-4c21-f04a-676253c3e250"
      },
      "outputs": [
        {
          "name": "stdout",
          "output_type": "stream",
          "text": [
            "Enter the year: 2024\n",
            "Enter the month (as a number): 7\n",
            "2024 is a leap year\n",
            "The month has 31 days\n"
          ]
        }
      ],
      "source": [
        "'''#Implement a program to determine the type of a year (leap or common) and month (30 or 31 days) using\n",
        "elif statements'''\n",
        "# Get user input for the year and month\n",
        "year = int(input(\"Enter the year: \"))\n",
        "month = int(input(\"Enter the month (as a number): \"))\n",
        "\n",
        "# Check if it's a leap year\n",
        "if (year % 4 == 0 and year % 100 != 0) or (year % 400 == 0):\n",
        "    print(year, \"is a leap year\")\n",
        "else:\n",
        "    print(year, \"is a common year\")\n",
        "\n",
        "# Check the number of days in the month\n",
        "if month == 2:  # If the month is February\n",
        "    if (year % 4 == 0 and year % 100 != 0) or (year % 400 == 0):\n",
        "        print(\"February has 29 days in a leap year\")\n",
        "    else:\n",
        "        print(\"February has 28 days in a common year\")\n",
        "elif month in [4, 6, 9, 11]:  # If the month has 30 days\n",
        "    print(\"The month has 30 days\")\n",
        "else:  # Otherwise, the month has 31 days\n",
        "    print(\"The month has 31 days\")\n"
      ]
    },
    {
      "cell_type": "markdown",
      "metadata": {
        "id": "5MMQpBu8fqQk"
      },
      "source": [
        "Basic Level:\n"
      ]
    },
    {
      "cell_type": "code",
      "execution_count": null,
      "metadata": {
        "colab": {
          "base_uri": "https://localhost:8080/"
        },
        "id": "0fcWyc8dfp2W",
        "outputId": "dd4c8e81-f516-4662-c278-ad69a7060afb"
      },
      "outputs": [
        {
          "name": "stdout",
          "output_type": "stream",
          "text": [
            "enter the number5\n",
            "positive\n"
          ]
        }
      ],
      "source": [
        "#Write a Python program that checks if a given number is positive, negative, or zero\n",
        "num=int(input(\"enter the number :\"))\n",
        "if num>0:\n",
        "  print(\"positive\")\n",
        "elif num<0:\n",
        "  print(\"negative\")\n",
        "else:\n",
        "  print(\"zero\")\n"
      ]
    },
    {
      "cell_type": "code",
      "execution_count": null,
      "metadata": {
        "colab": {
          "base_uri": "https://localhost:8080/"
        },
        "id": "CrsTHZNBtdKz",
        "outputId": "6307c8a1-6f48-448f-8b6f-14b2d7287d01"
      },
      "outputs": [
        {
          "name": "stdout",
          "output_type": "stream",
          "text": [
            "enter the string:56\n",
            "eligible to vote\n"
          ]
        }
      ],
      "source": [
        "#Create a program to determine if a person is eligible to vote based on their age\n",
        "age=int(input(\"enter the string:\"))\n",
        "if age>18:\n",
        "  print(\"eligible to vote\")\n",
        "elif age<18:\n",
        "  print(\"not eligible to vote\")\n",
        "else:\n",
        "  print(\"nothing\")\n"
      ]
    },
    {
      "cell_type": "code",
      "execution_count": null,
      "metadata": {
        "colab": {
          "base_uri": "https://localhost:8080/"
        },
        "id": "GFruLOUUtdHX",
        "outputId": "6286a161-aa94-489a-c08a-906102a4c99f"
      },
      "outputs": [
        {
          "name": "stdout",
          "output_type": "stream",
          "text": [
            "Enter the first number: 5\n",
            "Enter the second number: 6\n",
            "The maximum of 5 and 6 is: 6\n"
          ]
        }
      ],
      "source": [
        "#Write a program to find the maximum of two given numbers using conditional statements\n",
        "num1 = int(input(\"Enter the first number: \"))\n",
        "num2 = int(input(\"Enter the second number: \"))\n",
        "\n",
        "# Check which number is greater using if-else statements\n",
        "if num1 > num2:\n",
        "    maximum = num1\n",
        "else:\n",
        "    maximum = num2\n",
        "\n",
        "# Print the maximum number\n",
        "print(\"The maximum of\", num1, \"and\", num2, \"is:\", maximum)\n",
        "\n"
      ]
    },
    {
      "cell_type": "code",
      "execution_count": null,
      "metadata": {
        "colab": {
          "base_uri": "https://localhost:8080/"
        },
        "id": "8SrcZbSKtdFe",
        "outputId": "0affa380-17d5-4a79-ddaa-5c447af015ba"
      },
      "outputs": [
        {
          "name": "stdout",
          "output_type": "stream",
          "text": [
            "enter the marks for grade :92\n",
            "A grade\n"
          ]
        }
      ],
      "source": [
        "#Develop a program that calculates the grade of a student based on their exam score.\n",
        "marks=int(input(\"enter the marks for grade :\"))\n",
        "if marks>90:\n",
        "  print(\"A grade\")\n",
        "elif marks>75:\n",
        "  print(\"B grade\")\n",
        "elif marks>50:\n",
        "  print(\"C grade\")\n",
        "else:\n",
        "  print(\"fail\")"
      ]
    },
    {
      "cell_type": "code",
      "execution_count": null,
      "metadata": {
        "colab": {
          "base_uri": "https://localhost:8080/"
        },
        "id": "xDmy2gO4tdDQ",
        "outputId": "b624b842-33c9-495e-9ecf-0bcf2a2a8154"
      },
      "outputs": [
        {
          "name": "stdout",
          "output_type": "stream",
          "text": [
            "enter the year :2023\n",
            "not a leap year\n"
          ]
        }
      ],
      "source": [
        "# Create a program that checks if a year is a leap year or not.\n",
        "year=int(input(\"enter the year :\"))\n",
        "if (year%4==0 or year%400==0) and year%100 !=0:\n",
        "  print(\"leap year\")\n",
        "else:\n",
        "  print(\"not a leap year\")\n"
      ]
    },
    {
      "cell_type": "code",
      "execution_count": null,
      "metadata": {
        "colab": {
          "base_uri": "https://localhost:8080/"
        },
        "id": "ytWvlQYOtdAz",
        "outputId": "a605efac-73c6-41a4-a97e-7c01d9826f46"
      },
      "outputs": [
        {
          "name": "stdout",
          "output_type": "stream",
          "text": [
            "Enter the length of side 1: 55\n",
            "Enter the length of side 2: 55\n",
            "Enter the length of side 3: 78\n",
            "Isosceles triangle\n"
          ]
        }
      ],
      "source": [
        "#. Write a program to classify a triangle based on its sides' lengths\n",
        "# Get the lengths of the sides from the user\n",
        "side1 = float(input(\"Enter the length of side 1: \"))\n",
        "side2 = float(input(\"Enter the length of side 2: \"))\n",
        "side3 = float(input(\"Enter the length of side 3: \"))\n",
        "if side1 == side2 == side3:\n",
        "    print(\"Equilateral triangle\")\n",
        "elif side1 == side2 or side1 == side3 or side2 == side3:\n",
        "    print(\"Isosceles triangle\")\n",
        "else:\n",
        "    print(\"Scalene triangle\")"
      ]
    },
    {
      "cell_type": "code",
      "execution_count": null,
      "metadata": {
        "colab": {
          "base_uri": "https://localhost:8080/"
        },
        "id": "TPD3ed85tc-f",
        "outputId": "ce46db83-a852-4402-d0de-3d6b59bc68cc"
      },
      "outputs": [
        {
          "name": "stdout",
          "output_type": "stream",
          "text": [
            "Enter the first number: 56\n",
            "Enter the second number: 7\n",
            "Enter the third number: 766\n",
            "The largest number is: 766.0\n"
          ]
        }
      ],
      "source": [
        "#Build a program that determines the largest of three given numbers.\n",
        "# Get three numbers from the user\n",
        "num1 = float(input(\"Enter the first number: \"))\n",
        "num2 = float(input(\"Enter the second number: \"))\n",
        "num3 = float(input(\"Enter the third number: \"))\n",
        "\n",
        "# Compare the numbers to find the largest one\n",
        "largest = num1\n",
        "\n",
        "if num2 > largest:\n",
        "    largest = num2\n",
        "\n",
        "if num3 > largest:\n",
        "    largest = num3\n",
        "\n",
        "print(\"The largest number is:\", largest)\n"
      ]
    },
    {
      "cell_type": "code",
      "execution_count": null,
      "metadata": {
        "colab": {
          "base_uri": "https://localhost:8080/"
        },
        "id": "eain7q71z1Je",
        "outputId": "dd52ffa3-c481-48b2-b430-20d7656d7f20"
      },
      "outputs": [
        {
          "name": "stdout",
          "output_type": "stream",
          "text": [
            "enter the string :vamsi\n",
            "chreters are un vowels\n",
            "chreters are un vowels\n",
            "chreters are un vowels\n",
            "chreters are un vowels\n",
            "chreters are un vowels\n",
            "chreters are un vowels\n",
            "chreters are un vowels\n",
            "chreters are un vowels\n",
            "chreters are un vowels\n",
            "chreters are un vowels\n"
          ]
        }
      ],
      "source": [
        "#Develop a program that checks whether a character is a vowel or a consonant.\n",
        "string=input(\"enter the string :\")\n",
        "vowels=['a','e','i','o','u','A','E','I','O','U']\n",
        "for char in vowels:\n",
        "  if char in vowels:\n",
        "     print(\"chreters are un vowels\")\n",
        "  else:\n",
        "     print(\"chrecters are in consonents\")"
      ]
    },
    {
      "cell_type": "code",
      "execution_count": null,
      "metadata": {
        "colab": {
          "base_uri": "https://localhost:8080/"
        },
        "id": "R-jTspA-3J2B",
        "outputId": "1c21269d-a90f-4012-fde0-51a6a47bfed3"
      },
      "outputs": [
        {
          "name": "stdout",
          "output_type": "stream",
          "text": [
            "Total cost of the shopping cart: $ 7.75\n"
          ]
        }
      ],
      "source": [
        "#Create a program to calculate the total cost of a shopping cart based on discounts.\n",
        "# Shopping cart items and their prices\n",
        "shopping_cart = {\n",
        "    \"apple\": 1.00,\n",
        "    \"banana\": 0.50,\n",
        "    \"orange\": 0.75,\n",
        "    \"grapes\": 2.00,\n",
        "    \"watermelon\": 3.50\n",
        "}\n",
        "\n",
        "# Calculate total cost of the shopping cart\n",
        "total_cost = 0\n",
        "\n",
        "# Iterate through each item in the shopping cart\n",
        "for item, price in shopping_cart.items():\n",
        "    total_cost += price\n",
        "\n",
        "# Apply discount based on total cost\n",
        "if total_cost >= 100:\n",
        "    total_cost *= 0.9  # 10% discount for total cost >= $100\n",
        "\n",
        "print(\"Total cost of the shopping cart: $\", round(total_cost, 2))\n",
        "\n"
      ]
    },
    {
      "cell_type": "code",
      "execution_count": null,
      "metadata": {
        "colab": {
          "base_uri": "https://localhost:8080/"
        },
        "id": "yC5iNPU00_Kb",
        "outputId": "7cf91489-6798-45fb-d2b7-6792a6e3ed86"
      },
      "outputs": [
        {
          "name": "stdout",
          "output_type": "stream",
          "text": [
            "enter a number : 9\n",
            "9 is odd\n"
          ]
        }
      ],
      "source": [
        "#Write a program that checks if a given number is even or odd.\n",
        "num=int(input(\"enter a number : \"))\n",
        "if num%2==0:\n",
        "  print(num,\"is even\")\n",
        "else:\n",
        "  print(num,\"is odd\")\n"
      ]
    },
    {
      "cell_type": "markdown",
      "metadata": {
        "id": "3HGEdMDkHbzE"
      },
      "source": [
        "\n",
        "\n",
        "Intermediate Level:"
      ]
    },
    {
      "cell_type": "markdown",
      "metadata": {
        "id": "x7E70V0oJB2L"
      },
      "source": [
        "**quadratic function **"
      ]
    },
    {
      "cell_type": "code",
      "execution_count": null,
      "metadata": {
        "colab": {
          "base_uri": "https://localhost:8080/"
        },
        "id": "8xJai0xd26K7",
        "outputId": "b1bb6662-078e-4ea2-b674-e82d02e50cb0"
      },
      "outputs": [
        {
          "name": "stdout",
          "output_type": "stream",
          "text": [
            "Enter the coefficient of x^2: 55\n",
            "Enter the coefficient of x: 5\n",
            "Enter the constant term: 4\n",
            "Root 1: (-0.045454545454545456+0.2658216639493354j) \n",
            "Root 2: (-0.045454545454545456-0.2658216639493354j)\n"
          ]
        }
      ],
      "source": [
        "#Write a program that calculates the roots of a quadratic equation\n",
        "import math\n",
        "\n",
        "a = float(input(\"Enter the coefficient of x^2: \"))\n",
        "b = float(input(\"Enter the coefficient of x: \"))\n",
        "c = float(input(\"Enter the constant term: \"))\n",
        "\n",
        "d = b**2 - 4*a*c\n",
        "\n",
        "if d > 0:\n",
        "    r1 = (-b + math.sqrt(d)) / (2*a)\n",
        "    r2 = (-b - math.sqrt(d)) / (2*a)\n",
        "    print(\"Root 1:\", r1, \"\\nRoot 2:\", r2)\n",
        "elif d == 0:\n",
        "    r = -b / (2*a)\n",
        "    print(\"Root:\", r)\n",
        "else:\n",
        "    r1 = complex(-b / (2*a), math.sqrt(abs(d)) / (2*a))\n",
        "    r2 = complex(-b / (2*a), -math.sqrt(abs(d)) / (2*a))\n",
        "    print(\"Root 1:\", r1, \"\\nRoot 2:\", r2)\n",
        "\n",
        "2"
      ]
    },
    {
      "cell_type": "code",
      "execution_count": null,
      "metadata": {
        "colab": {
          "base_uri": "https://localhost:8080/"
        },
        "id": "WK36OGzxipYK",
        "outputId": "7d8af109-c44f-4928-b794-37d94f7893a8"
      },
      "outputs": [
        {
          "name": "stdout",
          "output_type": "stream",
          "text": [
            "enter the days in digits :6\n",
            "friday\n"
          ]
        }
      ],
      "source": [
        "#Create a program that determines the day of the week based on the day number (1-7\n",
        "day=int(input(\"enter the days in digits :\"))\n",
        "if day == 1:\n",
        "  print(\"sunday\")\n",
        "elif day == 2:\n",
        "  print(\"monday\")\n",
        "elif day == 3:\n",
        "  print(\"tuesday\")\n",
        "elif day == 4:\n",
        "  print(\"wenday\")\n",
        "elif day == 5:\n",
        "  print(\"thuesday\")\n",
        "elif day == 6:\n",
        "  print(\"friday\")\n",
        "else:\n",
        "  print(\"saturday\")\n"
      ]
    },
    {
      "cell_type": "code",
      "execution_count": null,
      "metadata": {
        "colab": {
          "base_uri": "https://localhost:8080/"
        },
        "id": "zReN4wK0ipUr",
        "outputId": "d62cc488-e4b7-4155-e72c-1e0465ac8436"
      },
      "outputs": [
        {
          "name": "stdout",
          "output_type": "stream",
          "text": [
            "Enter a number: 6\n",
            "Factorial of 6 is 720\n"
          ]
        }
      ],
      "source": [
        "#Develop a program that calculates the factorial of a given number using recursion\n",
        "def factorial(n):\n",
        "    if n == 0:\n",
        "        return 1\n",
        "    else:\n",
        "        return n * factorial(n - 1)\n",
        "\n",
        "num = int(input(\"Enter a number: \"))\n",
        "\n",
        "if num < 0:\n",
        "    print(\"Factorial is not defined for negative numbers.\")\n",
        "else:\n",
        "    print(\"Factorial of\", num, \"is\", factorial(num))\n"
      ]
    },
    {
      "cell_type": "code",
      "execution_count": null,
      "metadata": {
        "colab": {
          "base_uri": "https://localhost:8080/"
        },
        "id": "_6SxzbZDipRK",
        "outputId": "4d9d2bbe-8bcb-4dac-e2d6-6b49afca7f84"
      },
      "outputs": [
        {
          "name": "stdout",
          "output_type": "stream",
          "text": [
            "Enter the first number: 67\n",
            "Enter the second number: 7\n",
            "Enter the third number: 899\n",
            "899 is the largest.\n"
          ]
        }
      ],
      "source": [
        "#Write a program to find the largest among three numbers without using the `max()` function.\n",
        "num = int(input(\"Enter the first number: \"))\n",
        "num1 = int(input(\"Enter the second number: \"))\n",
        "num2 = int(input(\"Enter the third number: \"))\n",
        "\n",
        "if num > num1 and num > num2:\n",
        "    print(num, \"is the largest.\")\n",
        "elif num1 > num and num1 > num2:\n",
        "    print(num1, \"is the largest.\")\n",
        "else:\n",
        "    print(num2, \"is the largest.\")\n",
        "\n"
      ]
    },
    {
      "cell_type": "code",
      "execution_count": null,
      "metadata": {
        "colab": {
          "base_uri": "https://localhost:8080/"
        },
        "id": "OnMSUwxsipNY",
        "outputId": "a0108881-998c-4de8-da85-2ab33c137110"
      },
      "outputs": [
        {
          "name": "stdout",
          "output_type": "stream",
          "text": [
            "Welcome to the ATM\n",
            "\n",
            "Menu:\n",
            "1. Check Balance\n",
            "2. Deposit\n",
            "3. Withdraw\n",
            "4. Exit\n",
            "Enter your choice (1-4): 3\n",
            "Enter the amount to withdraw: 770\n",
            "Withdrawal successful. Your new balance is: 230.0\n"
          ]
        }
      ],
      "source": [
        "#Create a program that simulates a basic ATM transaction menu.\n",
        "balance = 1000  # Initial balance\n",
        "\n",
        "print(\"Welcome to the ATM\")\n",
        "\n",
        "print(\"\\nMenu:\")\n",
        "print(\"1. Check Balance\")\n",
        "print(\"2. Deposit\")\n",
        "print(\"3. Withdraw\")\n",
        "print(\"4. Exit\")\n",
        "\n",
        "choice = input(\"Enter your choice (1-4): \")\n",
        "\n",
        "if choice == '1':\n",
        "    print(\"Your balance is:\", balance)\n",
        "elif choice == '2':\n",
        "    amount = float(input(\"Enter the amount to deposit: \"))\n",
        "    balance += amount\n",
        "    print(\"Deposit successful. Your new balance is:\", balance)\n",
        "elif choice == '3':\n",
        "    amount = float(input(\"Enter the amount to withdraw: \"))\n",
        "    if amount > balance:\n",
        "        print(\"Insufficient funds!\")\n",
        "    else:\n",
        "        balance -= amount\n",
        "        print(\"Withdrawal successful. Your new balance is:\", balance)\n",
        "elif choice == '4':\n",
        "    print(\"Thank you for using the ATM. Goodbye!\")\n",
        "else:\n",
        "    print(\"Invalid choice. Please enter a number from 1 to 4.\")\n",
        "\n",
        "\n"
      ]
    },
    {
      "cell_type": "code",
      "execution_count": null,
      "metadata": {
        "colab": {
          "base_uri": "https://localhost:8080/"
        },
        "id": "-IzN4t3hipLn",
        "outputId": "11d86508-1095-4ef8-b79a-53180fd4840f"
      },
      "outputs": [
        {
          "name": "stdout",
          "output_type": "stream",
          "text": [
            "enter the string : sos\n",
            "the string is palindrome\n"
          ]
        }
      ],
      "source": [
        "#. Build a program that checks if a given string is a palindrome or not.\n",
        "a=input(\"enter the string : \")\n",
        "if a==a[::-1]:\n",
        "  print(\"the string is palindrome\")\n",
        "else:\n",
        "  print(\"the not a palindrome string\")\n",
        "\n"
      ]
    },
    {
      "cell_type": "code",
      "execution_count": null,
      "metadata": {
        "colab": {
          "base_uri": "https://localhost:8080/"
        },
        "id": "leZOLqzMipJc",
        "outputId": "c7306eff-b5f5-42aa-8253-c027de21f560"
      },
      "outputs": [
        {
          "name": "stdout",
          "output_type": "stream",
          "text": [
            "Enter a list of numbers separated by spaces: 67\n",
            "The average of the list (excluding smallest and largest values) is: 67.0\n"
          ]
        }
      ],
      "source": [
        "# Write a program that calculates the average of a list of numbers, excluding the smallest and largest values\n",
        "# Input list of numbers\n",
        "numbers = input(\"Enter a list of numbers separated by spaces: \").split()\n",
        "\n",
        "# Convert the input strings to integers\n",
        "numbers = [int(num) for num in numbers]\n",
        "\n",
        "# Exclude the smallest and largest values\n",
        "if len(numbers) > 2:\n",
        "    numbers.remove(min(numbers))\n",
        "    numbers.remove(max(numbers))\n",
        "\n",
        "# Calculate the average\n",
        "average = sum(numbers) / len(numbers)\n",
        "\n",
        "print(\"The average of the list (excluding smallest and largest values) is:\", average)\n"
      ]
    },
    {
      "cell_type": "code",
      "execution_count": null,
      "metadata": {
        "colab": {
          "base_uri": "https://localhost:8080/"
        },
        "id": "tZDDXh8PzI7r",
        "outputId": "1beae453-1a3c-4294-a4fd-f0e1dc327239"
      },
      "outputs": [
        {
          "name": "stdout",
          "output_type": "stream",
          "text": [
            "enter celsius here: 67.8\n",
            "fahrenheitn is : 154.04\n"
          ]
        }
      ],
      "source": [
        "#. Develop a program that converts a given temperature from Celsius to Fahrenheit.\n",
        "celsius=float(input(\"enter celsius here: \"))\n",
        "fahrenheit=(celsius * 9/5 ) + 32\n",
        "print(\"fahrenheitn is :\",fahrenheit)"
      ]
    },
    {
      "cell_type": "code",
      "execution_count": null,
      "metadata": {
        "colab": {
          "base_uri": "https://localhost:8080/",
          "height": 106
        },
        "id": "9qv-G56gipG6",
        "outputId": "72d48c6e-8b9f-402b-c797-cb13c9b83892"
      },
      "outputs": [
        {
          "ename": "IndentationError",
          "evalue": "unexpected indent (<ipython-input-26-2a80df495bf8>, line 4)",
          "output_type": "error",
          "traceback": [
            "\u001b[0;36m  File \u001b[0;32m\"<ipython-input-26-2a80df495bf8>\"\u001b[0;36m, line \u001b[0;32m4\u001b[0m\n\u001b[0;31m    print(\"\\nMenu:\")\u001b[0m\n\u001b[0m    ^\u001b[0m\n\u001b[0;31mIndentationError\u001b[0m\u001b[0;31m:\u001b[0m unexpected indent\n"
          ]
        }
      ],
      "source": [
        "#Create a program that simulates a basic calculator for addition, subtraction, multiplication, and division.\n",
        "print(\"Welcome to the Basic Calculator\")\n",
        "\n",
        "print(\"\\nMenu:\")\n",
        "print(\"1. Addition\")\n",
        "print(\"2. Subtraction\")\n",
        "print(\"3. Multiplication\")\n",
        "print(\"4. Division\")\n",
        "print(\"5. Exit\")\n",
        "\n",
        "choice = input(\"Enter your choice (1-5): \")\n",
        "\n",
        "    if choice == '5':\n",
        "        print(\"Thank you for using the calculator. Goodbye!\")\n",
        "        break\n",
        "\n",
        "    num1 = float(input(\"Enter the first number: \"))\n",
        "    num2 = float(input(\"Enter the second number: \"))\n",
        "\n",
        "    if choice == '1':\n",
        "        print(\"Result:\", num1 + num2)\n",
        "    elif choice == '2':\n",
        "        print(\"Result:\", num1 - num2)\n",
        "    elif choice == '3':\n",
        "        print(\"Result:\", num1 * num2)\n",
        "    elif choice == '4':\n",
        "        if num2 != 0:\n",
        "            print(\"Result:\", num1 / num2)\n",
        "        else:\n",
        "            print(\"Error: Division by zero!\")\n",
        "    else:\n",
        "        print(\"Invalid choice. Please enter a number from 1 to 5.\")\n"
      ]
    },
    {
      "cell_type": "code",
      "execution_count": null,
      "metadata": {
        "colab": {
          "base_uri": "https://localhost:8080/"
        },
        "id": "_Acw0S5vipE2",
        "outputId": "fc37a8e8-cfce-4c68-8b77-2189d4dcda2d"
      },
      "outputs": [
        {
          "name": "stdout",
          "output_type": "stream",
          "text": [
            "3.0 1.0 2.0\n"
          ]
        }
      ],
      "source": [
        " #Write a program that determines the roots of a cubic equation using the Cardano formula\n",
        "import math\n",
        "\n",
        "a = 1\n",
        "b = -6\n",
        "c = 11\n",
        "d = -6\n",
        "\n",
        "if a == 0:\n",
        "    print(\"Not a cubic equation.\")\n",
        "else:\n",
        "    p = (3 * a * c - b**2) / (3 * a**2)\n",
        "    q = (2 * b**3 - 9 * a * b * c + 27 * a**2 * d) / (27 * a**3)\n",
        "    discriminant = (q/2)**2 + (p/3)**3\n",
        "\n",
        "    if discriminant < 0:\n",
        "        rho = math.sqrt((-p/3)**3)\n",
        "        theta = math.acos(-q / (2 * math.sqrt((-p/3)**3)))\n",
        "\n",
        "        root1 = 2 * math.sqrt(-p/3) * math.cos(theta/3) - b / (3 * a)\n",
        "        root2 = 2 * math.sqrt(-p/3) * math.cos((theta + 2 * math.pi) / 3) - b / (3 * a)\n",
        "        root3 = 2 * math.sqrt(-p/3) * math.cos((theta - 2 * math.pi) / 3) - b / (3 * a)\n",
        "\n",
        "        print(root1, root2, root3)\n",
        "\n",
        "    elif discriminant == 0:\n",
        "        root1 = (2 * math.sqrt(-p/3)) - b / (3 * a)\n",
        "        root2 = -(math.sqrt(-p/3)) - b / (3 * a)\n",
        "        print(root1, root2, root2)\n",
        "\n",
        "    else:\n",
        "        r = -(q / 2) + math.sqrt(discriminant)\n",
        "        s = -(q / 2) - math.sqrt(discriminant)\n",
        "\n",
        "        root1 = (r**(1/3) + s**(1/3)) - b / (3 * a)\n",
        "        print(root1)\n"
      ]
    },
    {
      "cell_type": "markdown",
      "metadata": {
        "id": "hBjbX0FJbz5L"
      },
      "source": [
        "ADVANCED LEVEL"
      ]
    },
    {
      "cell_type": "code",
      "execution_count": null,
      "metadata": {
        "colab": {
          "base_uri": "https://localhost:8080/"
        },
        "id": "pMrRbbE2ipCw",
        "outputId": "552ebf4b-7540-4b49-e92b-44bdba7b8828"
      },
      "outputs": [
        {
          "name": "stdout",
          "output_type": "stream",
          "text": [
            "Enter your income: 50000\n",
            "Income Tax: $ 10000.0\n"
          ]
        }
      ],
      "source": [
        "#Create a program that calculates the income tax based on the user's income and tax brackets\n",
        "try:\n",
        "    income = float(input(\"Enter your income: \"))\n",
        "    if income < 0:\n",
        "        print(\"Income cannot be negative.\")\n",
        "    else:\n",
        "        tax_brackets = [\n",
        "            (10000, 0.10),\n",
        "            (30000, 0.20),\n",
        "            (70000, 0.30),\n",
        "            (float('inf'), 0.40)\n",
        "        ]\n",
        "\n",
        "        tax = 0\n",
        "        taxable_income = income\n",
        "\n",
        "        for bracket, rate in tax_brackets:\n",
        "            if taxable_income <= 0:\n",
        "                break\n",
        "            if taxable_income <= bracket:\n",
        "                tax += taxable_income * rate\n",
        "                break\n",
        "            else:\n",
        "                tax += bracket * rate\n",
        "                taxable_income -= bracket\n",
        "\n",
        "        print(\"Income Tax: $\", tax)\n",
        "except ValueError:\n",
        "    print(\"Please enter a valid number for income.\")\n",
        "\n"
      ]
    },
    {
      "cell_type": "code",
      "execution_count": null,
      "metadata": {
        "id": "--sj5p3ZJssX"
      },
      "outputs": [],
      "source": [
        "# Write a program that simulates a rock-paper-scissors game against the computer\n",
        "import random\n",
        "\n",
        "choices = ['rock', 'paper', 'scissors']\n",
        "\n",
        "user_choice = input(\"Enter your choice (rock, paper, scissors): \").lower()\n",
        "computer_choice = random.choice(choices)\n",
        "\n",
        "print(\"You chose:\", user_choice)\n",
        "print(\"Computer chose:\", computer_choice)\n",
        "\n",
        "if user_choice == computer_choice:\n",
        "    print(\"It's a tie!\")\n",
        "elif (user_choice == 'rock' and computer_choice == 'scissors') or \\\n",
        "     (user_choice == 'scissors' and computer_choice == 'paper') or \\\n",
        "     (user_choice == 'paper' and computer_choice == 'rock'):\n",
        "    print(\"You win!\")\n",
        "else:\n",
        "    print(\"Computer wins!\")\n"
      ]
    },
    {
      "cell_type": "code",
      "execution_count": null,
      "metadata": {
        "colab": {
          "base_uri": "https://localhost:8080/"
        },
        "id": "flEVKf1AdR_h",
        "outputId": "4305b233-e582-4269-d0e1-4f696907cec9"
      },
      "outputs": [
        {
          "name": "stdout",
          "output_type": "stream",
          "text": [
            "Enter the length of the password: 8\n",
            "Enter the complexity of the password (easy, medium, hard): easy\n",
            "Generated Password: KwFeORug\n"
          ]
        }
      ],
      "source": [
        "# Develop a program that generates a random password based on user preferences (length, complexity).\n",
        "import random\n",
        "import string\n",
        "\n",
        "# Prompt the user for password length\n",
        "while True:\n",
        "    try:\n",
        "        length = int(input(\"Enter the length of the password: \"))\n",
        "        if length <= 0:\n",
        "            print(\"Please enter a positive integer for the password length.\")\n",
        "        else:\n",
        "            break\n",
        "    except ValueError:\n",
        "        print(\"Invalid input. Please enter a valid integer for the password length.\")\n",
        "\n",
        "# Prompt the user for password complexity\n",
        "while True:\n",
        "    complexity = input(\"Enter the complexity of the password (easy, medium, hard): \").lower()\n",
        "    if complexity in ['easy', 'medium', 'hard']:\n",
        "        break\n",
        "    else:\n",
        "        print(\"Invalid complexity level. Please choose easy, medium, or hard.\")\n",
        "\n",
        "# Define character sets based on complexity\n",
        "if complexity == \"easy\":\n",
        "    chars = string.ascii_letters + string.digits\n",
        "elif complexity == \"medium\":\n",
        "    chars = string.ascii_letters + string.digits + string.punctuation\n",
        "else:  # Hard complexity\n",
        "    chars = string.ascii_letters + string.digits + string.punctuation + string.ascii_uppercase\n",
        "\n",
        "# Generate the password\n",
        "password = ''.join(random.choice(chars) for _ in range(length))\n",
        "\n",
        "# Print the generated password\n",
        "\n",
        "print(\"Generated Password:\", password)\n",
        "1/8811"
      ]
    },
    {
      "cell_type": "code",
      "execution_count": null,
      "metadata": {
        "colab": {
          "base_uri": "https://localhost:8080/"
        },
        "id": "oTrR390dXldA",
        "outputId": "fb03d8c6-2833-4f80-ac57-7fc7f6fe4c46"
      },
      "outputs": [
        {
          "name": "stdout",
          "output_type": "stream",
          "text": [
            "Welcome to the Adventure Game!\n",
            "Enter your name: vamsi\n",
            "Hello, vamsi! Let's begin.\n",
            "\n",
            "You find yourself standing at a crossroad.\n",
            "Do you want to go left or right?\n",
            "Enter 'left' or 'right': right\n",
            "\n",
            "You chose to go right.\n",
            "You find a cave entrance. Do you want to enter?\n",
            "Enter 'yes' or 'no': yes\n",
            "\n",
            "You enter the cave and find a treasure chest!\n",
            "You win the game! Congratulations!\n"
          ]
        }
      ],
      "source": [
        "#Create a program that implements a simple text-based adventure game with branching scenarios\n",
        "print(\"Welcome to the Adventure Game!\")\n",
        "\n",
        "name = input(\"Enter your name: \")\n",
        "print(f\"Hello, {name}! Let's begin.\")\n",
        "\n",
        "print(\"\\nYou find yourself standing at a crossroad.\")\n",
        "print(\"Do you want to go left or right?\")\n",
        "\n",
        "choice = input(\"Enter 'left' or 'right': \")\n",
        "\n",
        "if choice == \"left\":\n",
        "    print(\"\\nYou chose to go left.\")\n",
        "    print(\"You encounter a bridge. Do you want to cross it?\")\n",
        "\n",
        "    bridge_choice = input(\"Enter 'yes' or 'no': \")\n",
        "\n",
        "    if bridge_choice == \"yes\":\n",
        "        print(\"\\nYou cross the bridge and reach the other side safely.\")\n",
        "        print(\"You win the game! Congratulations!\")\n",
        "    else:\n",
        "        print(\"\\nYou decide not to cross the bridge and turn back.\")\n",
        "        print(\"You wander around for a while and get lost.\")\n",
        "        print(\"Game over. Better luck next time!\")\n",
        "\n",
        "elif choice == \"right\":\n",
        "    print(\"\\nYou chose to go right.\")\n",
        "    print(\"You find a cave entrance. Do you want to enter?\")\n",
        "\n",
        "    cave_choice = input(\"Enter 'yes' or 'no': \")\n",
        "\n",
        "    if cave_choice == \"yes\":\n",
        "        print(\"\\nYou enter the cave and find a treasure chest!\")\n",
        "        print(\"You win the game! Congratulations!\")\n",
        "    else:\n",
        "        print(\"\\nYou decide not to enter the cave and continue walking.\")\n",
        "        print(\"You come across a friendly group of travelers who guide you home.\")\n",
        "        print(\"You win the game! Congratulations!\")\n",
        "\n",
        "else:\n",
        "    print(\"\\nInvalid choice. Game over.\")\n"
      ]
    },
    {
      "cell_type": "code",
      "execution_count": null,
      "metadata": {
        "colab": {
          "base_uri": "https://localhost:8080/"
        },
        "id": "HMy4aUGso9Bw",
        "outputId": "a29dbde0-85fc-4552-ab00-28a35e2faa52"
      },
      "outputs": [
        {
          "name": "stdout",
          "output_type": "stream",
          "text": [
            "Linear Equation Solver\n",
            "Enter your equation in the form 'ax + b = c'\n",
            "Enter the equation: 56\n",
            "Invalid equation format. Please enter the equation in the form 'ax + b = c'\n"
          ]
        }
      ],
      "source": [
        "#Build a program that solves a linear equation  for x, considering different cases\n",
        "print(\"Linear Equation Solver\")\n",
        "print(\"Enter your equation in the form 'ax + b = c'\")\n",
        "\n",
        "equation = input(\"Enter the equation: \")\n",
        "\n",
        "# Splitting the equation into its components\n",
        "parts = equation.split()\n",
        "\n",
        "if len(parts) != 5 or parts[1] != 'x' or parts[3] != '=':\n",
        "    print(\"Invalid equation format. Please enter the equation in the form 'ax + b = c'\")\n",
        "else:\n",
        "    try:\n",
        "        a = float(parts[0])\n",
        "        b = float(parts[2])\n",
        "        c = float(parts[4])\n",
        "\n",
        "        if a == 0:\n",
        "            if b == c:\n",
        "                print(\"The equation is satisfied for all values of x.\")\n",
        "            else:\n",
        "                print(\"The equation has no solution.\")\n",
        "        else:\n",
        "            x = (c - b) / a\n",
        "            print(\"Solution:\")\n",
        "            print(\"x =\", x)\n",
        "    except ValueError:\n",
        "        print(\"Invalid input. Please enter valid numbers.\")\n"
      ]
    },
    {
      "cell_type": "code",
      "execution_count": null,
      "metadata": {
        "colab": {
          "base_uri": "https://localhost:8080/"
        },
        "id": "KUTgLvuPpuXL",
        "outputId": "1b2d5d12-9951-4180-f4bb-1abd7e967ef3"
      },
      "outputs": [
        {
          "name": "stdout",
          "output_type": "stream",
          "text": [
            "Question 1\n",
            "What is the capital of France?\n",
            "(a) Paris\n",
            "(b) London\n",
            "(c) Berlin\n",
            "(d) Rome\n",
            "\n",
            "Enter your answer (a, b, c, d): b\n",
            "Incorrect.\n",
            "\n",
            "Question 2\n",
            "What is 2 + 2?\n",
            "(a) 3\n",
            "(b) 4\n",
            "(c) 5\n",
            "(d) 6\n",
            "\n",
            "Enter your answer (a, b, c, d): b\n",
            "Correct!\n",
            "\n",
            "Question 3\n",
            "Who wrote 'Romeo and Juliet'?\n",
            "(a) Shakespeare\n",
            "(b) Dickens\n",
            "(c) Twain\n",
            "(d) Hemingway\n",
            "\n",
            "Enter your answer (a, b, c, d): b\n",
            "Incorrect.\n",
            "\n",
            "Quiz completed! Your score is 1/3.\n"
          ]
        }
      ],
      "source": [
        "#Write a program that simulates a basic quiz game with multiple-choice questions and scoring\n",
        "# Define questions and answers\n",
        "questions = [\n",
        "    \"What is the capital of France?\\n(a) Paris\\n(b) London\\n(c) Berlin\\n(d) Rome\\n\",\n",
        "    \"What is 2 + 2?\\n(a) 3\\n(b) 4\\n(c) 5\\n(d) 6\\n\",\n",
        "    \"Who wrote 'Romeo and Juliet'?\\n(a) Shakespeare\\n(b) Dickens\\n(c) Twain\\n(d) Hemingway\\n\"\n",
        "]\n",
        "answers = ['a', 'b', 'a']\n",
        "\n",
        "# Initialize score\n",
        "score = 0\n",
        "\n",
        "# Quiz loop\n",
        "for i, question in enumerate(questions):\n",
        "    print(\"Question\", i + 1)\n",
        "    print(question)\n",
        "    user_answer = input(\"Enter your answer (a, b, c, d): \").lower()\n",
        "    if user_answer == answers[i]:\n",
        "        print(\"Correct!\")\n",
        "        score += 1\n",
        "    else:\n",
        "        print(\"Incorrect.\")\n",
        "    print()\n",
        "\n",
        "# Display final score\n",
        "print(\"Quiz completed! Your score is {}/{}.\".format(score, len(questions)))\n"
      ]
    },
    {
      "cell_type": "code",
      "execution_count": null,
      "metadata": {
        "colab": {
          "base_uri": "https://localhost:8080/"
        },
        "id": "BO53rTwSqcNI",
        "outputId": "cbfa68a2-5b92-4578-c1a7-b83043144975"
      },
      "outputs": [
        {
          "name": "stdout",
          "output_type": "stream",
          "text": [
            "Enter a year to check if it's prime: 2004\n",
            "2004 is not a prime number.\n"
          ]
        }
      ],
      "source": [
        "#Develop a program that determines whether a given year is a prime number or not\n",
        "def is_prime(year):\n",
        "    if year <= 1:\n",
        "        return False\n",
        "    if year <= 3:\n",
        "        return True\n",
        "    if year % 2 == 0 or year % 3 == 0:\n",
        "        return False\n",
        "\n",
        "    i = 5\n",
        "    while i * i <= year:\n",
        "        if year % i == 0 or year % (i + 2) == 0:\n",
        "            return False\n",
        "        i += 6\n",
        "\n",
        "    return True\n",
        "\n",
        "def main():\n",
        "    try:\n",
        "        year = int(input(\"Enter a year to check if it's prime: \"))\n",
        "        if is_prime(year):\n",
        "            print(year, \"is a prime number.\")\n",
        "        else:\n",
        "            print(year, \"is not a prime number.\")\n",
        "    except ValueError:\n",
        "        print(\"Invalid input. Please enter a valid year.\")\n",
        "\n",
        "if __name__ == \"__main__\":\n",
        "    main()\n",
        "\n"
      ]
    },
    {
      "cell_type": "code",
      "execution_count": null,
      "metadata": {
        "colab": {
          "base_uri": "https://localhost:8080/"
        },
        "id": "0ZilKM4srURK",
        "outputId": "d0fdc510-212b-4e00-ced7-9d20b0785dd4"
      },
      "outputs": [
        {
          "name": "stdout",
          "output_type": "stream",
          "text": [
            "Enter the first number: 8\n",
            "Enter the second number: 9\n",
            "Enter the third number: 8\n",
            "Numbers in ascending order: (8.0, 8.0, 9.0)\n"
          ]
        }
      ],
      "source": [
        "#create a program that sorts three numbers in ascending order using conditional statements\n",
        "# Function to sort three numbers in ascending order\n",
        "def sort_numbers(num1, num2, num3):\n",
        "    if num1 <= num2 and num1 <= num3:\n",
        "        smallest = num1\n",
        "        if num2 <= num3:\n",
        "            middle = num2\n",
        "            largest = num3\n",
        "        else:\n",
        "            middle = num3\n",
        "            largest = num2\n",
        "    elif num2 <= num1 and num2 <= num3:\n",
        "        smallest = num2\n",
        "        if num1 <= num3:\n",
        "            middle = num1\n",
        "            largest = num3\n",
        "        else:\n",
        "            middle = num3\n",
        "            largest = num1\n",
        "    else:\n",
        "        smallest = num3\n",
        "        if num1 <= num2:\n",
        "            middle = num1\n",
        "            largest = num2\n",
        "        else:\n",
        "            middle = num2\n",
        "            largest = num1\n",
        "\n",
        "    return smallest, middle, largest\n",
        "\n",
        "# Test the function\n",
        "num1 = float(input(\"Enter the first number: \"))\n",
        "num2 = float(input(\"Enter the second number: \"))\n",
        "num3 = float(input(\"Enter the third number: \"))\n",
        "\n",
        "sorted_numbers = sort_numbers(num1, num2, num3)\n",
        "print(\"Numbers in ascending order:\", sorted_numbers)\n"
      ]
    },
    {
      "cell_type": "code",
      "execution_count": null,
      "metadata": {
        "colab": {
          "base_uri": "https://localhost:8080/"
        },
        "id": "YlabG5_gG6aJ",
        "outputId": "4615a5d1-38ca-4e81-c9b5-d71960ec5f5e"
      },
      "outputs": [
        {
          "name": "stdout",
          "output_type": "stream",
          "text": [
            "Enter the coefficient of x^4 (a): 68\n",
            "Enter the coefficient of x^3 (b): 89\n",
            "Enter the coefficient of x^2 (c): 8\n",
            "Enter the coefficient of x (d): 9\n",
            "Enter the constant term (e): 7\n",
            "Enter the initial guess for the root: 8\n",
            "Root found: -0.4252160806499351\n"
          ]
        }
      ],
      "source": [
        "#Build a program that determines the roots of a quartic equation using numerical methods\n",
        "a = float(input(\"Enter the coefficient of x^4 (a): \"))\n",
        "b = float(input(\"Enter the coefficient of x^3 (b): \"))\n",
        "c = float(input(\"Enter the coefficient of x^2 (c): \"))\n",
        "d = float(input(\"Enter the coefficient of x (d): \"))\n",
        "e = float(input(\"Enter the constant term (e): \"))\n",
        "\n",
        "x_guess = float(input(\"Enter the initial guess for the root: \"))\n",
        "\n",
        "max_iterations = 1000\n",
        "tolerance = 1e-6\n",
        "\n",
        "for i in range(max_iterations):\n",
        "    fx = a * x_guess**4 + b * x_guess**3 + c * x_guess**2 + d * x_guess + e\n",
        "    f_prime_x = 4 * a * x_guess**3 + 3 * b * x_guess**2 + 2 * c * x_guess + d\n",
        "    x_new = x_guess - fx / f_prime_x\n",
        "\n",
        "    if abs(x_new - x_guess) < tolerance:\n",
        "        print(\"Root found:\", x_new)\n",
        "        break\n",
        "\n",
        "    x_guess = x_new\n",
        "else:\n",
        "    print(\"Root not found within maximum iterations.\")\n",
        "\n"
      ]
    },
    {
      "cell_type": "code",
      "execution_count": null,
      "metadata": {
        "id": "80P3do1htdWT"
      },
      "outputs": [],
      "source": [
        "'''#Write a program that calculates the greatest common divisor (GCD) of two numbers using the Euclidean\n",
        "algorithm'''\n",
        "# Function to calculate BMI\n",
        "def calculate_bmi(weight, height):\n",
        "    return weight / (height * height)\n",
        "\n",
        "# Function to provide health recommendations based on BMI\n",
        "def provide_recommendations(bmi):\n",
        "    if bmi < 18.5:\n",
        "        return \"Underweight: You may need to gain some weight. Consider consulting a nutritionist.\"\n",
        "    elif 18.5 <= bmi < 25:\n",
        "        return \"Normal weight: Your weight is within the healthy range. Keep up the good work!\"\n",
        "    elif 25 <= bmi < 30:\n",
        "        return \"Overweight: You may need to lose some weight. Consider exercising and adopting a healthy diet.\"\n",
        "    else:\n",
        "        return \"Obese: You are at risk for various health issues. It's important to make lifestyle changes such as exercising regularly and eating a balanced diet.\"\n",
        "\n",
        "# Get user input for weight and height\n",
        "weight = float(input(\"Enter your weight in kilograms: \"))\n",
        "height = float(input(\"Enter your height in meters: \"))\n",
        "\n",
        "# Calculate BMI\n",
        "bmi = calculate_bmi(weight, height)\n",
        "\n",
        "# Provide health recommendations based on BMI\n",
        "recommendations = provide_recommendations(bmi)\n",
        "\n",
        "# Display results\n",
        "print(\"Your BMI is:\", bmi)\n",
        "print(\"Health recommendations:\", recommendations)\n"
      ]
    },
    {
      "cell_type": "markdown",
      "metadata": {
        "id": "AJgAknH-26D1"
      },
      "source": [
        "challenge level"
      ]
    },
    {
      "cell_type": "code",
      "source": [
        "def input_matrix(rows, cols):\n",
        "    matrix = []\n",
        "    print(\"Enter the elements row by row:\")\n",
        "    for i in range(rows):\n",
        "        row = []\n",
        "        for j in range(cols):\n",
        "            while True:\n",
        "                try:\n",
        "                    element = float(input(f\"Enter element at position ({i+1},{j+1}): \"))\n",
        "                    break\n",
        "                except ValueError:\n",
        "                    print(\"Invalid input. Please enter a valid number.\")\n",
        "            row.append(element)\n",
        "        matrix.append(row)\n",
        "    return matrix\n",
        "\n",
        "def print_matrix(matrix):\n",
        "    for row in matrix:\n",
        "        print(row)\n",
        "\n",
        "def matrix_multiplication(matrix1, matrix2):\n",
        "    result = []\n",
        "    for i in range(len(matrix1)):\n",
        "        row = []\n",
        "        for j in range(len(matrix2[0])):\n",
        "            element = 0\n",
        "            for k in range(len(matrix2)):\n",
        "                element += matrix1[i][k] * matrix2[k][j]\n",
        "            row.append(element)\n",
        "        result.append(row)\n",
        "    return result\n",
        "\n",
        "def main():\n",
        "    rows1 = int(input(\"Enter the number of rows for the first matrix: \"))\n",
        "    cols1 = int(input(\"Enter the number of columns for the first matrix: \"))\n",
        "    rows2 = int(input(\"Enter the number of rows for the second matrix: \"))\n",
        "    cols2 = int(input(\"Enter the number of columns for the second matrix: \"))\n",
        "\n",
        "    if cols1 != rows2:\n",
        "        print(\"Error: Number of columns in the first matrix must be equal to the number of rows in the second matrix for multiplication.\")\n",
        "        return\n",
        "\n",
        "    print(\"Enter the first matrix:\")\n",
        "    matrix1 = input_matrix(rows1, cols1)\n",
        "\n",
        "    print(\"Enter the second matrix:\")\n",
        "    matrix2 = input_matrix(rows2, cols2)\n",
        "\n",
        "    print(\"\\nMatrix 1:\")\n",
        "    print_matrix(matrix1)\n",
        "\n",
        "    print(\"\\nMatrix 2:\")\n",
        "    print_matrix(matrix2)\n",
        "\n",
        "    # Matrix multiplication\n",
        "    print(\"\\nMultiplication of matrices:\")\n",
        "    result = matrix_multiplication(matrix1, matrix2)\n",
        "    print_matrix(result)\n",
        "\n",
        "if __name__ == \"__main__\":\n",
        "    main()\n"
      ],
      "metadata": {
        "colab": {
          "base_uri": "https://localhost:8080/"
        },
        "id": "uaoM1gtH9aak",
        "outputId": "942e6818-54ce-4e45-8a3c-fb1141ee1e76"
      },
      "execution_count": 7,
      "outputs": [
        {
          "output_type": "stream",
          "name": "stdout",
          "text": [
            "Enter the number of rows for the first matrix: 3\n",
            "Enter the number of columns for the first matrix: 3\n",
            "Enter the number of rows for the second matrix: 4\n",
            "Enter the number of columns for the second matrix: 4\n",
            "Error: Number of columns in the first matrix must be equal to the number of rows in the second matrix for multiplication.\n"
          ]
        }
      ]
    },
    {
      "cell_type": "code",
      "source": [
        "import random\n",
        "\n",
        "# Print the board\n",
        "def print_board(board):\n",
        "    for row in board:\n",
        "        print(\" | \".join(row))\n",
        "        if row != board[-1]:\n",
        "            print(\"-\" * 5)\n",
        "\n",
        "# Check if a player has won\n",
        "def check_winner(board, player):\n",
        "    for row in board:\n",
        "        if all(cell == player for cell in row):\n",
        "            return True\n",
        "    for col in range(3):\n",
        "        if all(board[row][col] == player for row in range(3)):\n",
        "            return True\n",
        "    if all(board[i][i] == player for i in range(3)) or all(board[i][2 - i] == player for i in range(3)):\n",
        "        return True\n",
        "    return False\n",
        "\n",
        "# Perform the computer's move\n",
        "def computer_move(board, computer_char, player_char):\n",
        "    empty_cells = [(i, j) for i in range(3) for j in range(3) if board[i][j] == \" \"]\n",
        "    if empty_cells:\n",
        "        i, j = random.choice(empty_cells)\n",
        "        board[i][j] = computer_char\n",
        "\n",
        "player_char = \"X\"\n",
        "computer_char = \"O\"\n",
        "board = [[\" \"]*3 for _ in range(3)]\n",
        "\n",
        "print(\"Welcome to Tic-Tac-Toe!\")\n",
        "print_board(board)\n",
        "\n",
        "# Main game loop\n",
        "while True:\n",
        "    # Player's move\n",
        "    while True:\n",
        "        try:\n",
        "            row, col = map(int, input(\"Enter row and column (0-2) for your move (e.g., 0 1): \").split())\n",
        "            if board[row][col] == \" \":\n",
        "                board[row][col] = player_char\n",
        "                break\n",
        "            else:\n",
        "                print(\"Invalid move! Cell already occupied.\")\n",
        "        except ValueError:\n",
        "            print(\"Invalid input! Please enter both row and column values.\")\n",
        "        except IndexError:\n",
        "            print(\"Invalid input! Row and column values must be in the range 0-2.\")\n",
        "\n",
        "    # Check if player won\n",
        "    if check_winner(board, player_char):\n",
        "        print(\"Congratulations! You won!\")\n",
        "        break\n",
        "\n",
        "    # Check for a draw\n",
        "    if all(cell != \" \" for row in board for cell in row):\n",
        "        print(\"It's a draw!\")\n",
        "        break\n",
        "\n",
        "    # Computer's move\n",
        "    computer_move(board, computer_char, player_char)\n",
        "    print(\"Computer's move:\")\n",
        "    print_board(board)\n",
        "\n",
        "    # Check if computer won\n",
        "    if check_winner(board, computer_char):\n",
        "        print(\"Computer wins! Better luck next time.\")\n",
        "        break\n"
      ],
      "metadata": {
        "colab": {
          "base_uri": "https://localhost:8080/"
        },
        "id": "_cyVREfRB1l5",
        "outputId": "2a57123b-1ca6-4b95-95e4-59c6fb9c8360"
      },
      "execution_count": 15,
      "outputs": [
        {
          "output_type": "stream",
          "name": "stdout",
          "text": [
            "Welcome to Tic-Tac-Toe!\n",
            "  |   |  \n",
            "  |   |  \n",
            "  |   |  \n",
            "Enter row and column (0-2) for your move (e.g., 0 1): 2\n",
            "Invalid input! Please enter both row and column values.\n",
            "Enter row and column (0-2) for your move (e.g., 0 1): x\n",
            "Invalid input! Please enter both row and column values.\n",
            "Enter row and column (0-2) for your move (e.g., 0 1): 01\n",
            "Invalid input! Please enter both row and column values.\n",
            "Enter row and column (0-2) for your move (e.g., 0 1): 0 1\n",
            "Computer's move:\n",
            "  | X |  \n",
            "-----\n",
            "  | O |  \n",
            "-----\n",
            "  |   |  \n",
            "Enter row and column (0-2) for your move (e.g., 0 1): 1 1\n",
            "Invalid move! Cell already occupied.\n",
            "Enter row and column (0-2) for your move (e.g., 0 1): 0 0\n",
            "Computer's move:\n",
            "X | X |  \n",
            "-----\n",
            "  | O |  \n",
            "-----\n",
            "O |   |  \n",
            "Enter row and column (0-2) for your move (e.g., 0 1): 1 0\n",
            "Computer's move:\n",
            "X | X |  \n",
            "-----\n",
            "X | O | O\n",
            "-----\n",
            "O |   |  \n",
            "Enter row and column (0-2) for your move (e.g., 0 1): 1 1\n",
            "Invalid move! Cell already occupied.\n",
            "Enter row and column (0-2) for your move (e.g., 0 1): 0 1\n",
            "Invalid move! Cell already occupied.\n",
            "Enter row and column (0-2) for your move (e.g., 0 1): 2 1\n",
            "Computer's move:\n",
            "X | X |  \n",
            "-----\n",
            "X | O | O\n",
            "-----\n",
            "O | X | O\n",
            "Enter row and column (0-2) for your move (e.g., 0 1): 2 0\n",
            "Invalid move! Cell already occupied.\n",
            "Enter row and column (0-2) for your move (e.g., 0 1): 2 2\n",
            "Invalid move! Cell already occupied.\n",
            "Enter row and column (0-2) for your move (e.g., 0 1): 2 1\n",
            "Invalid move! Cell already occupied.\n",
            "Enter row and column (0-2) for your move (e.g., 0 1): 0 2\n",
            "Congratulations! You won!\n"
          ]
        }
      ]
    },
    {
      "cell_type": "code",
      "source": [
        "#Write a program that generates Fibonacci numbers up to a specified term using iterative methods\n",
        "def generate_fibonacci(n):\n",
        "    fib_sequence = [0, 1]  # Initialize the Fibonacci sequence with the first two terms\n",
        "\n",
        "    if n <= 0:\n",
        "        return \"Please enter a positive integer.\"\n",
        "    elif n == 1:\n",
        "        return [0]\n",
        "    elif n == 2:\n",
        "        return fib_sequence\n",
        "\n",
        "    # Generate Fibonacci numbers iteratively\n",
        "    while len(fib_sequence) < n:\n",
        "        next_fib = fib_sequence[-1] + fib_sequence[-2]\n",
        "        fib_sequence.append(next_fib)\n",
        "\n",
        "    return fib_sequence\n",
        "\n",
        "# Test the function\n",
        "term = int(input(\"Enter the number of Fibonacci terms to generate: \"))\n",
        "fibonacci_sequence = generate_fibonacci(term)\n",
        "print(\"Fibonacci Sequence:\", fibonacci_sequence)\n"
      ],
      "metadata": {
        "colab": {
          "base_uri": "https://localhost:8080/"
        },
        "id": "-xmx3FNdF3KW",
        "outputId": "48a091fc-a397-44d5-ddd0-9ed29a0c96e8"
      },
      "execution_count": 16,
      "outputs": [
        {
          "output_type": "stream",
          "name": "stdout",
          "text": [
            "Enter the number of Fibonacci terms to generate: 56\n",
            "Fibonacci Sequence: [0, 1, 1, 2, 3, 5, 8, 13, 21, 34, 55, 89, 144, 233, 377, 610, 987, 1597, 2584, 4181, 6765, 10946, 17711, 28657, 46368, 75025, 121393, 196418, 317811, 514229, 832040, 1346269, 2178309, 3524578, 5702887, 9227465, 14930352, 24157817, 39088169, 63245986, 102334155, 165580141, 267914296, 433494437, 701408733, 1134903170, 1836311903, 2971215073, 4807526976, 7778742049, 12586269025, 20365011074, 32951280099, 53316291173, 86267571272, 139583862445]\n"
          ]
        }
      ]
    },
    {
      "cell_type": "code",
      "source": [
        "# Develop a program that calculates the nth term of the Fibonacci sequence using memoization\n",
        "def fibonacci(n, memo={}):\n",
        "    if n in memo:\n",
        "        return memo[n]\n",
        "    if n <= 1:\n",
        "        return n\n",
        "    memo[n] = fibonacci(n-1, memo) + fibonacci(n-2, memo)\n",
        "    return memo[n]\n",
        "\n",
        "# Test the function\n",
        "n = int(input(\"Enter the value of n: \"))\n",
        "print(\"The nth term of the Fibonacci sequence is:\", fibonacci(n))\n"
      ],
      "metadata": {
        "colab": {
          "base_uri": "https://localhost:8080/"
        },
        "id": "8PTRFYhLHhjr",
        "outputId": "4b960f84-a46c-4f2e-8425-f1d5517b8572"
      },
      "execution_count": 17,
      "outputs": [
        {
          "output_type": "stream",
          "name": "stdout",
          "text": [
            "Enter the value of n: 7\n",
            "The nth term of the Fibonacci sequence is: 13\n"
          ]
        }
      ]
    },
    {
      "cell_type": "code",
      "source": [
        "#Create a program that generates a calendar for a given month and year using conditional statements\n",
        "import calendar\n",
        "\n",
        "def generate_calendar(month, year):\n",
        "    # Print the month and year\n",
        "    print(calendar.month_name[month], year)\n",
        "\n",
        "    # Print the header of the calendar\n",
        "    print(\"Mon  Tue  Wed  Thu  Fri  Sat  Sun\")\n",
        "\n",
        "    # Get the first day of the month\n",
        "    first_day_of_month = calendar.weekday(year, month, 1)\n",
        "\n",
        "    # Print leading spaces if the first day of the month is not Monday\n",
        "    for _ in range(first_day_of_month):\n",
        "        print(\"     \", end=\"\")\n",
        "\n",
        "    # Get the number of days in the month\n",
        "    num_days_in_month = calendar.monthrange(year, month)[1]\n",
        "\n",
        "    # Loop through the days of the month\n",
        "    for day in range(1, num_days_in_month + 1):\n",
        "        # Print the day\n",
        "        print(f\"{day:2}\", end=\"   \")\n",
        "\n",
        "        # Move to the next line if the day is Sunday\n",
        "        if (first_day_of_month + day) % 7 == 0:\n",
        "            print()\n",
        "\n",
        "    # Print a newline at the end of the calendar\n",
        "    print()\n",
        "\n",
        "# Get user input for month and year\n",
        "month = int(input(\"Enter the month (1-12): \"))\n",
        "year = int(input(\"Enter the year: \"))\n",
        "\n",
        "# Generate and print the calendar\n",
        "generate_calendar(month, year)\n"
      ],
      "metadata": {
        "colab": {
          "base_uri": "https://localhost:8080/"
        },
        "id": "LM2nUsYaHhgH",
        "outputId": "af0dc43c-9883-47a1-fcd9-6980eac7eccc"
      },
      "execution_count": 18,
      "outputs": [
        {
          "output_type": "stream",
          "name": "stdout",
          "text": [
            "Enter the month (1-12): 5\n",
            "Enter the year: 2004\n",
            "May 2004\n",
            "Mon  Tue  Wed  Thu  Fri  Sat  Sun\n",
            "                          1    2   \n",
            " 3    4    5    6    7    8    9   \n",
            "10   11   12   13   14   15   16   \n",
            "17   18   19   20   21   22   23   \n",
            "24   25   26   27   28   29   30   \n",
            "31   \n"
          ]
        }
      ]
    },
    {
      "cell_type": "code",
      "source": [
        "#40. Write a program that generates the prime factors of a given number using trial division\n",
        "def prime_factors(n):\n",
        "    factors = []\n",
        "    # Divide by 2 repeatedly while n is even\n",
        "    while n % 2 == 0:\n",
        "        factors.append(2)\n",
        "        n //= 2\n",
        "    # Try dividing by odd numbers starting from 3\n",
        "    for i in range(3, int(n**0.5) + 1, 2):\n",
        "        while n % i == 0:\n",
        "            factors.append(i)\n",
        "            n //= i\n",
        "    # If n is still greater than 2, it must be a prime number itself\n",
        "    if n > 2:\n",
        "        factors.append(n)\n",
        "    return factors\n",
        "\n",
        "# Test the function\n",
        "num = int(input(\"Enter a number: \"))\n",
        "print(\"Prime factors of\", num, \"are:\", prime_factors(num))\n"
      ],
      "metadata": {
        "colab": {
          "base_uri": "https://localhost:8080/"
        },
        "id": "XxY5HPr0Hhcy",
        "outputId": "25dc74bf-03fd-4152-8a55-f354f4b74381"
      },
      "execution_count": 19,
      "outputs": [
        {
          "output_type": "stream",
          "name": "stdout",
          "text": [
            "Enter a number: 67\n",
            "Prime factors of 67 are: [67]\n"
          ]
        }
      ]
    },
    {
      "cell_type": "code",
      "source": [],
      "metadata": {
        "id": "jaeSZ0QjHhZU"
      },
      "execution_count": null,
      "outputs": []
    }
  ],
  "metadata": {
    "colab": {
      "provenance": [],
      "authorship_tag": "ABX9TyPHJQqBbP8XKP/ZTyAcyyLH",
      "include_colab_link": true
    },
    "kernelspec": {
      "display_name": "Python 3",
      "name": "python3"
    },
    "language_info": {
      "name": "python"
    }
  },
  "nbformat": 4,
  "nbformat_minor": 0
}