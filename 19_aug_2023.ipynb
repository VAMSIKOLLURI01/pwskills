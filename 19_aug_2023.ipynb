{
  "nbformat": 4,
  "nbformat_minor": 0,
  "metadata": {
    "colab": {
      "provenance": [],
      "authorship_tag": "ABX9TyMgSy0CPM5yzMUXxDE++xn2",
      "include_colab_link": true
    },
    "kernelspec": {
      "name": "python3",
      "display_name": "Python 3"
    },
    "language_info": {
      "name": "python"
    }
  },
  "cells": [
    {
      "cell_type": "markdown",
      "metadata": {
        "id": "view-in-github",
        "colab_type": "text"
      },
      "source": [
        "<a href=\"https://colab.research.google.com/github/VAMSIKOLLURI01/pwskills/blob/main/19_aug_2023.ipynb\" target=\"_parent\"><img src=\"https://colab.research.google.com/assets/colab-badge.svg\" alt=\"Open In Colab\"/></a>"
      ]
    },
    {
      "cell_type": "code",
      "execution_count": null,
      "metadata": {
        "colab": {
          "base_uri": "https://localhost:8080/"
        },
        "id": "ukG-IWOw73fP",
        "outputId": "c2c21cae-4a47-4dd8-8b35-2538dae51b8f"
      },
      "outputs": [
        {
          "output_type": "stream",
          "name": "stdout",
          "text": [
            "After swapping x= 20\n",
            "After swapping y= 10\n"
          ]
        }
      ],
      "source": [
        "'''Declare two variables, `x` and `y`, and assign them integer values. Swap the\n",
        "values of these variables without using any temporary variable'''\n",
        "x=10\n",
        "y=20\n",
        "x=x+y\n",
        "y=x-y\n",
        "x=x-y\n",
        "print(\"After swapping x=\", x)\n",
        "print(\"After swapping y=\", y)"
      ]
    },
    {
      "cell_type": "code",
      "source": [
        "'''Create a program that calculates the area of a rectangle. Take the length and\n",
        "width as inputs from the user and store them in variables. Calculate and\n",
        "display the area'''\n",
        "length=(float(input(\"enter the length of the reactangle:\")))\n",
        "width=(float(input(\"enter the width of the reactangle:\")))\n",
        "area=length*width\n",
        "print(area)"
      ],
      "metadata": {
        "colab": {
          "base_uri": "https://localhost:8080/"
        },
        "id": "dTZSU9cmCQK9",
        "outputId": "80282f4c-ecb2-41ed-fdd5-df0b9c6f0a5f"
      },
      "execution_count": null,
      "outputs": [
        {
          "output_type": "stream",
          "name": "stdout",
          "text": [
            "enter the length of the reactangle:222\n",
            "enter the width of the reactangle:3\n",
            "666.0\n"
          ]
        }
      ]
    },
    {
      "cell_type": "code",
      "source": [
        "'''Write a Python program that converts temperatures from Celsius to\n",
        "Fahrenheit. Take the temperature in Celsius as input, store it in a variable,\n",
        "convert it to Fahrenheit, and display the result'''\n",
        "def celsius_to_fahrenheit(celsius):\n",
        "    fahrenheit = (celsius * 9/5) + 32\n",
        "    return fahrenheit\n",
        "celsius_temperature = float(input(\"Enter temperature in Celsius: \"))\n",
        "fahrenheit_temperature = celsius_to_fahrenheit(celsius_temperature)\n",
        "print(f\"{celsius_temperature} degrees Celsius is equal to {fahrenheit_temperature} degrees Fahrenheit.\")\n"
      ],
      "metadata": {
        "id": "cM_fC2-nE-GX",
        "colab": {
          "base_uri": "https://localhost:8080/"
        },
        "outputId": "3635749f-acaa-413e-ac9b-e5f879836b60"
      },
      "execution_count": null,
      "outputs": [
        {
          "output_type": "stream",
          "name": "stdout",
          "text": [
            "Enter temperature in Celsius: 9\n",
            "9.0 degrees Celsius is equal to 48.2 degrees Fahrenheit.\n"
          ]
        }
      ]
    },
    {
      "cell_type": "markdown",
      "source": [
        "STRING BASED QUESTIONS\n"
      ],
      "metadata": {
        "id": "McW7tIdopfdi"
      }
    },
    {
      "cell_type": "code",
      "source": [
        "'''Write a Python program that takes a string as input and prints the length of\n",
        "the string'''\n",
        "v=\"vamsikrishna\"\n",
        "len1=len(v)\n",
        "print(len1)"
      ],
      "metadata": {
        "id": "1r0XlJIrplKu",
        "colab": {
          "base_uri": "https://localhost:8080/"
        },
        "outputId": "0f77758a-3041-40b1-b524-549e79f19e11"
      },
      "execution_count": 1,
      "outputs": [
        {
          "output_type": "stream",
          "name": "stdout",
          "text": [
            "12\n"
          ]
        }
      ]
    },
    {
      "cell_type": "code",
      "source": [
        "# prompt: Write a Python program that takes a string as input and prints the length of the string\n",
        "\n",
        "def string_length(string):\n",
        "  return len(string)\n",
        "\n",
        "input_string = input(\"Enter a string: \")\n",
        "length = string_length(input_string)\n",
        "print(f\"The length of the string '{input_string}' is {length}\")\n"
      ],
      "metadata": {
        "id": "7Fu7I8piqv9h",
        "colab": {
          "base_uri": "https://localhost:8080/"
        },
        "outputId": "2e73010b-e8e5-4915-9a28-a8675414cc52"
      },
      "execution_count": 1,
      "outputs": [
        {
          "output_type": "stream",
          "name": "stdout",
          "text": [
            "Enter a string: vamsj\n",
            "The length of the string 'vamsj' is 5\n"
          ]
        }
      ]
    },
    {
      "cell_type": "code",
      "source": [
        "'''Create a program that takes a sentence from the user and counts the number\n",
        "of vowels (a, e, i, o, u) in the string.'''\n",
        "def count_vowels(sentence):\n",
        "    vowels = \"aeiouAEIOU\"\n",
        "    vowel_count = 0\n",
        "\n",
        "    for char in sentence:\n",
        "        if char in vowels:\n",
        "            vowel_count += 1\n",
        "\n",
        "    return vowel_count\n",
        "\n",
        "user_sentence = input(\"Enter a sentence: \")\n",
        "result = count_vowels(user_sentence)\n",
        "\n",
        "print(f\"Number of vowels in the sentence: {result}\")"
      ],
      "metadata": {
        "colab": {
          "base_uri": "https://localhost:8080/"
        },
        "id": "SXHhMb6iWqrj",
        "outputId": "428a727c-864b-4ef5-c586-302f5f92b84b"
      },
      "execution_count": 2,
      "outputs": [
        {
          "output_type": "stream",
          "name": "stdout",
          "text": [
            "Enter a sentence: a\n",
            "Number of vowels in the sentence: 1\n"
          ]
        }
      ]
    },
    {
      "cell_type": "code",
      "source": [
        "'''Given a string, reverse the order of characters using string slicing and print\n",
        "the reversed string.\n",
        "'''\n",
        "user_input = input(\"Enter a string: \")\n",
        "reversed_result = user_input[::-1]\n",
        "\n",
        "print(f\"Reversed string: {reversed_result}\")\n"
      ],
      "metadata": {
        "colab": {
          "base_uri": "https://localhost:8080/"
        },
        "id": "8dOFenwaX4Fa",
        "outputId": "62f61a10-62a8-44ad-ad26-9c3fef4c5c22"
      },
      "execution_count": 3,
      "outputs": [
        {
          "output_type": "stream",
          "name": "stdout",
          "text": [
            "Enter a string: avsmwdh\n",
            "Reversed string: hdwmsva\n"
          ]
        }
      ]
    },
    {
      "cell_type": "code",
      "source": [
        "'''Write a program that takes a string as input and checks if it is a palindrome\n",
        "(reads the same forwards and backwards)'''\n",
        "user_input = input(\"Enter a string: \")\n",
        "cleaned_input = user_input.replace(\" \", \"\").lower()\n",
        "if cleaned_input == cleaned_input[::-1]:\n",
        "    print(f\"The string '{user_input}' is a palindrome.\")\n",
        "else:\n",
        "    print(f\"The string '{user_input}' is not a palindrome.\")\n"
      ],
      "metadata": {
        "colab": {
          "base_uri": "https://localhost:8080/"
        },
        "id": "qP6PKQAiYa-z",
        "outputId": "9d3c6815-067b-415d-9d01-d47b23600fd4"
      },
      "execution_count": 4,
      "outputs": [
        {
          "output_type": "stream",
          "name": "stdout",
          "text": [
            "Enter a string: gnbd\n",
            "The string 'gnbd' is not a palindrome.\n"
          ]
        }
      ]
    },
    {
      "cell_type": "code",
      "source": [
        "str=\"helo djhd djdd   dhhj\"\n",
        "str1=str.replace(\" \",\"\")\n",
        "print(str1)"
      ],
      "metadata": {
        "colab": {
          "base_uri": "https://localhost:8080/"
        },
        "id": "-UIi7ozeYwBf",
        "outputId": "ef2bcbba-4172-430c-db97-91ea868e1a3e"
      },
      "execution_count": 8,
      "outputs": [
        {
          "output_type": "stream",
          "name": "stdout",
          "text": [
            "helodjhddjdddhhj\n"
          ]
        }
      ]
    },
    {
      "cell_type": "code",
      "source": [],
      "metadata": {
        "id": "SU9BVrX1ZOvO"
      },
      "execution_count": null,
      "outputs": []
    }
  ]
}