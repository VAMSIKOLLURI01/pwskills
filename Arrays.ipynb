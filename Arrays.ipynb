{
  "cells": [
    {
      "cell_type": "markdown",
      "metadata": {
        "id": "view-in-github",
        "colab_type": "text"
      },
      "source": [
        "<a href=\"https://colab.research.google.com/github/VAMSIKOLLURI01/pwskills/blob/main/Arrays.ipynb\" target=\"_parent\"><img src=\"https://colab.research.google.com/assets/colab-badge.svg\" alt=\"Open In Colab\"/></a>"
      ]
    },
    {
      "cell_type": "markdown",
      "id": "ea005389-124b-4891-b329-8a01fe200406",
      "metadata": {
        "id": "ea005389-124b-4891-b329-8a01fe200406"
      },
      "source": [
        "## 1. Given an array, check if it contains any duplicates or not.\n",
        "arr = [1, 2, 4, 2, 5, 9]\n",
        "Output = True"
      ]
    },
    {
      "cell_type": "code",
      "execution_count": 1,
      "id": "7c4b859c-1391-4b00-9c3c-0fad1e5a05e1",
      "metadata": {
        "id": "7c4b859c-1391-4b00-9c3c-0fad1e5a05e1",
        "outputId": "b2c975ad-af25-4a4a-962c-a0e322a13660",
        "colab": {
          "base_uri": "https://localhost:8080/"
        }
      },
      "outputs": [
        {
          "output_type": "stream",
          "name": "stdout",
          "text": [
            "True\n"
          ]
        }
      ],
      "source": [
        "def duplicate(arr):\n",
        "    n=len(arr)\n",
        "    arr1=[]\n",
        "    for i in range(n):\n",
        "        if arr[i] not  in arr1:\n",
        "            arr1.append(arr[i])\n",
        "        else:\n",
        "            return True\n",
        "\n",
        "arr = [1,2,4,5,5,9]\n",
        "print(duplicate(arr))"
      ]
    },
    {
      "cell_type": "markdown",
      "id": "5481d593-4a86-4de3-b922-fa812654a1a4",
      "metadata": {
        "id": "5481d593-4a86-4de3-b922-fa812654a1a4"
      },
      "source": [
        "## 2. Given an array and an integer k, rotate the array to the right by k steps.\n",
        "arr = [1, 2, 3, 4, 5, 6, 7] k = 3\n",
        "Output = [5, 6, 7, 1, 2, 3, 4]"
      ]
    },
    {
      "cell_type": "code",
      "execution_count": 2,
      "id": "28bfba85-cdce-42ad-a346-c76f59a61240",
      "metadata": {
        "id": "28bfba85-cdce-42ad-a346-c76f59a61240",
        "outputId": "f1979308-0fdb-4617-84dc-d34edfef951e",
        "colab": {
          "base_uri": "https://localhost:8080/"
        }
      },
      "outputs": [
        {
          "output_type": "stream",
          "name": "stdout",
          "text": [
            "[5, 6, 7, 1, 2, 3, 4]\n",
            "None\n"
          ]
        }
      ],
      "source": [
        "def rotate(arr):\n",
        "    k = 3\n",
        "    n=len(arr)\n",
        "    arr1=[]\n",
        "    for i in range(k+1,n):\n",
        "        arr1.append(arr[i])\n",
        "    for j in range(k+1):\n",
        "        arr1.append(arr[j])\n",
        "\n",
        "    print(arr1)\n",
        "\n",
        "\n",
        "arr = [1, 2, 3, 4, 5, 6, 7]\n",
        "print(rotate(arr))"
      ]
    },
    {
      "cell_type": "markdown",
      "id": "54c4a81a-688a-40c0-8d30-80743f763a3f",
      "metadata": {
        "id": "54c4a81a-688a-40c0-8d30-80743f763a3f"
      },
      "source": [
        "## 3. Reverse the given array in-place, means without using any extra data structure.\n",
        "arr = [2, 4, 5, 7, 9, 12]\n",
        "Output = [12, 9, 7, 5, 4, 2]"
      ]
    },
    {
      "cell_type": "code",
      "execution_count": 3,
      "id": "461d4864-5a9b-4e5a-a9f5-15decf9fefaf",
      "metadata": {
        "id": "461d4864-5a9b-4e5a-a9f5-15decf9fefaf",
        "outputId": "12ec7860-281c-4f8c-f357-87d498642974",
        "colab": {
          "base_uri": "https://localhost:8080/"
        }
      },
      "outputs": [
        {
          "output_type": "stream",
          "name": "stdout",
          "text": [
            "[12, 9, 7, 5, 4, 2]\n",
            "None\n"
          ]
        }
      ],
      "source": [
        "def reverse (arr):\n",
        "    n=len(arr)\n",
        "    k=[arr[-(i+1)] for i in range(n)]\n",
        "    print(k)\n",
        "arr=[2,4,5,7,9,12]\n",
        "print(reverse(arr))"
      ]
    },
    {
      "cell_type": "markdown",
      "id": "9f0512ef-1cc3-429b-87ba-41866d1c7f58",
      "metadata": {
        "id": "9f0512ef-1cc3-429b-87ba-41866d1c7f58"
      },
      "source": [
        "## 4. Given an array of integers, find the maximum element in an array\n",
        "arr = [10, 5, 20, 8, 15]\n",
        "Output = 20"
      ]
    },
    {
      "cell_type": "code",
      "execution_count": 4,
      "id": "a4ceacfa-d7b6-4473-b401-70b08e26564e",
      "metadata": {
        "id": "a4ceacfa-d7b6-4473-b401-70b08e26564e",
        "outputId": "801e518c-1ae5-40e7-f0d7-e24565edee0a",
        "colab": {
          "base_uri": "https://localhost:8080/"
        }
      },
      "outputs": [
        {
          "output_type": "stream",
          "name": "stdout",
          "text": [
            "20\n",
            "None\n"
          ]
        }
      ],
      "source": [
        "def maxelement(arr):\n",
        "    Max=max(arr)\n",
        "    print(Max)\n",
        "\n",
        "arr=[10,5,20,8,15]\n",
        "print(maxelement(arr))"
      ]
    },
    {
      "cell_type": "markdown",
      "id": "298dd313-51b8-4067-843d-73df76848f43",
      "metadata": {
        "id": "298dd313-51b8-4067-843d-73df76848f43"
      },
      "source": [
        "## 5. Given a sorted array, remove the duplicate element without using any extra data structure.\n",
        "arr = [1, 1, 2, 2, 2, 3, 3, 4, 4, 4, 5, 5]\n",
        "Output = [1, 2, 3, 4, 5]"
      ]
    },
    {
      "cell_type": "code",
      "execution_count": 5,
      "id": "459bf203-fe88-4662-84a6-861cc426942c",
      "metadata": {
        "id": "459bf203-fe88-4662-84a6-861cc426942c",
        "outputId": "2de847dc-ef6d-4dc8-d23c-89c12956ff35",
        "colab": {
          "base_uri": "https://localhost:8080/"
        }
      },
      "outputs": [
        {
          "output_type": "stream",
          "name": "stdout",
          "text": [
            "[1, 2, 3, 4, 5]\n"
          ]
        }
      ],
      "source": [
        "arr = [1, 1, 2, 2, 2, 3, 3, 4, 4, 4, 5, 5]\n",
        "print(list(set(arr)))"
      ]
    },
    {
      "cell_type": "code",
      "execution_count": 5,
      "id": "329cd3d8-26cf-481f-8bf8-f7f080384265",
      "metadata": {
        "id": "329cd3d8-26cf-481f-8bf8-f7f080384265"
      },
      "outputs": [],
      "source": []
    }
  ],
  "metadata": {
    "kernelspec": {
      "display_name": "Python 3 (ipykernel)",
      "language": "python",
      "name": "python3"
    },
    "language_info": {
      "codemirror_mode": {
        "name": "ipython",
        "version": 3
      },
      "file_extension": ".py",
      "mimetype": "text/x-python",
      "name": "python",
      "nbconvert_exporter": "python",
      "pygments_lexer": "ipython3",
      "version": "3.10.8"
    },
    "colab": {
      "provenance": [],
      "include_colab_link": true
    }
  },
  "nbformat": 4,
  "nbformat_minor": 5
}