{
  "nbformat": 4,
  "nbformat_minor": 0,
  "metadata": {
    "colab": {
      "provenance": [],
      "include_colab_link": true
    },
    "kernelspec": {
      "name": "python3",
      "display_name": "Python 3"
    },
    "language_info": {
      "name": "python"
    }
  },
  "cells": [
    {
      "cell_type": "markdown",
      "metadata": {
        "id": "view-in-github",
        "colab_type": "text"
      },
      "source": [
        "<a href=\"https://colab.research.google.com/github/VAMSIKOLLURI01/pwskills/blob/main/Oops_7th_oct.ipynb\" target=\"_parent\"><img src=\"https://colab.research.google.com/assets/colab-badge.svg\" alt=\"Open In Colab\"/></a>"
      ]
    },
    {
      "cell_type": "markdown",
      "source": [
        "#oop's"
      ],
      "metadata": {
        "id": "TJcOU5GXl3eW"
      }
    },
    {
      "cell_type": "markdown",
      "source": [
        "Problem 1: Bank Account Create a class representing a bank account with attributes like account number, account holder name, and balance. Implement methods to deposit and withdraw money from the account."
      ],
      "metadata": {
        "id": "mAD_okT_l8Ds"
      }
    },
    {
      "cell_type": "code",
      "source": [
        "class bank_account:\n",
        "  def __init__(self,account_number,account_holder,balance):\n",
        "    self.accountnumber=account_number\n",
        "    self.accountholder=account_holder\n",
        "    self.account_balance=balance\n",
        "\n",
        "  def withdraw(self):\n",
        "    amount=int(input(\"enter your amount:\"))\n",
        "    if amount < self.account_balance:\n",
        "      current_balance=self.account_balance - amount\n",
        "      print(\"your amount succefully withdrawn and your current balance is \",current_balance)\n",
        "    else:\n",
        "      print(\"insufficient funds\")\n",
        "\n",
        "  def deposit(self):\n",
        "    cash=int(input(\"enter your amount:\"))\n",
        "    current_balance=self.account_balance+cash\n",
        "    print(\"amount will be deposited in your account and current balance is :\",current_balance)"
      ],
      "metadata": {
        "id": "C-t9WS0ml9hk"
      },
      "execution_count": 29,
      "outputs": []
    },
    {
      "cell_type": "code",
      "source": [
        "user1=bank_account(4256,\"pavan\",4500)\n",
        "user2=bank_account(4656,\"jogi\",600)\n",
        "user3=bank_account(4505,\"shannu\",67007)"
      ],
      "metadata": {
        "id": "02_gaMLtnLoa"
      },
      "execution_count": 30,
      "outputs": []
    },
    {
      "cell_type": "code",
      "source": [
        "user1.withdraw()"
      ],
      "metadata": {
        "colab": {
          "base_uri": "https://localhost:8080/"
        },
        "id": "YadBAcqGnaca",
        "outputId": "a4d25e3c-416d-473b-d00f-d3779c2eb772"
      },
      "execution_count": 31,
      "outputs": [
        {
          "output_type": "stream",
          "name": "stdout",
          "text": [
            "enter your amount:3434\n",
            "your amount succefully withdrawn and your current balance is  1066\n"
          ]
        }
      ]
    },
    {
      "cell_type": "code",
      "source": [
        "user1.deposit()"
      ],
      "metadata": {
        "colab": {
          "base_uri": "https://localhost:8080/"
        },
        "id": "TKt38fZlnd18",
        "outputId": "94c72b19-7645-47d1-d4c3-c3eeae2b6e87"
      },
      "execution_count": 32,
      "outputs": [
        {
          "output_type": "stream",
          "name": "stdout",
          "text": [
            "enter your amount:32423\n",
            "amount will be deposited in your account and current balance is : 36923\n"
          ]
        }
      ]
    },
    {
      "cell_type": "markdown",
      "source": [
        "Problem 2: Employee Management Create a class representing an employee with attributes like employee ID, name, and salary. Implement methods to calculate the yearly bonus and display employee details.\n"
      ],
      "metadata": {
        "id": "fyWluI4qp_H7"
      }
    },
    {
      "cell_type": "code",
      "source": [
        "class employ_management:\n",
        "  def __init__(self,employe_ID, name, salary):\n",
        "    self.employe_id=employe_ID\n",
        "    self.employe_name=name\n",
        "    self.employe_salary=salary\n",
        "\n",
        "  def yearly_bonus(self):\n",
        "    bonus=self.employe_salary*0.5\n",
        "    print(f\"bonus of {self.employe_name} is {bonus}\")\n",
        "\n",
        "  def employe_details(self):\n",
        "    print(f\"name:{self.employe_name} ,id:{self.employe_id} ,salary:{self.employe_salary}\")\n",
        "\n"
      ],
      "metadata": {
        "id": "rxMRE6tDnxHh"
      },
      "execution_count": 33,
      "outputs": []
    },
    {
      "cell_type": "code",
      "source": [
        "employe1=employ_management(4252,\"pavan\",45000)\n",
        "employe2=employ_management(4563,\"mohit\",50000)"
      ],
      "metadata": {
        "id": "Fai7zfFAsUqP"
      },
      "execution_count": 34,
      "outputs": []
    },
    {
      "cell_type": "code",
      "source": [
        "employe1.yearly_bonus()\n",
        "employe1.employe_details()"
      ],
      "metadata": {
        "colab": {
          "base_uri": "https://localhost:8080/"
        },
        "id": "SBy0FuOtscXX",
        "outputId": "6df56a17-65e1-40ee-f91a-516731f5b076"
      },
      "execution_count": 35,
      "outputs": [
        {
          "output_type": "stream",
          "name": "stdout",
          "text": [
            "bonus of pavan is 22500.0\n",
            "name:pavan ,id:4252 ,salary:45000\n"
          ]
        }
      ]
    },
    {
      "cell_type": "code",
      "source": [
        "employe2.yearly_bonus()"
      ],
      "metadata": {
        "colab": {
          "base_uri": "https://localhost:8080/"
        },
        "id": "vl106pNTsxwc",
        "outputId": "1e568feb-5ba7-4b8b-c390-a8ac3e9867b6"
      },
      "execution_count": 36,
      "outputs": [
        {
          "output_type": "stream",
          "name": "stdout",
          "text": [
            "bonus of mohit is 25000.0\n"
          ]
        }
      ]
    },
    {
      "cell_type": "markdown",
      "source": [
        "Problem 3: Vehicle Rental Create a class representing a vehicle rental system. Implement methods to rent a vehicle, return a vehicle, and display available vehicles."
      ],
      "metadata": {
        "id": "hfQpZr-mtM42"
      }
    },
    {
      "cell_type": "code",
      "source": [
        "class vehicle_rent:\n",
        "  def __init__(self):\n",
        "    self.vehicle_list={\"v1\":\"benz\",\"v2\":\"maruthi\",\"v3\":\"thar\"}\n",
        "\n",
        "  def display(self):\n",
        "    print(f\"available vehicle are {self.vehicle_list}\")\n",
        "\n",
        "\n",
        "  def rent_a_vehicle(self):\n",
        "    need = input(\"enter vehicle:\")\n",
        "    if need in self.vehicle_list:\n",
        "        print(f\"rent vehicle:{need}\")\n",
        "        self.vehicle_list.pop(need)\n",
        "\n",
        "    else:\n",
        "      print(\"not avialable any car\")\n",
        "\n",
        "  def return_vehicle(self):\n",
        "    return_car=input(\"enter your car\")\n",
        "    return_car_no=input(\"enter your car name\")\n",
        "    if return_car not in self.vehicle_list:\n",
        "       self.vehicle_list.update({return_car:return_car_no})\n",
        "       print(\"your car is returned\")\n",
        "    else:\n",
        "      print(\"wait for some time\")\n",
        "\n"
      ],
      "metadata": {
        "id": "2g8Y8cZLtJd5"
      },
      "execution_count": 37,
      "outputs": []
    },
    {
      "cell_type": "code",
      "source": [
        "customer1=vehicle_rent()\n",
        "customer1.display()"
      ],
      "metadata": {
        "colab": {
          "base_uri": "https://localhost:8080/"
        },
        "id": "zrTbl6ZexPCj",
        "outputId": "cc473dc6-635c-4f0b-f596-227b74ae074e"
      },
      "execution_count": 38,
      "outputs": [
        {
          "output_type": "stream",
          "name": "stdout",
          "text": [
            "available vehicle are {'v1': 'benz', 'v2': 'maruthi', 'v3': 'thar'}\n"
          ]
        }
      ]
    },
    {
      "cell_type": "code",
      "source": [
        "customer1.rent_a_vehicle()"
      ],
      "metadata": {
        "colab": {
          "base_uri": "https://localhost:8080/"
        },
        "id": "wQJIdfs2xkWR",
        "outputId": "34fa8ceb-ec7f-45c2-8603-f65628ed3c70"
      },
      "execution_count": 39,
      "outputs": [
        {
          "output_type": "stream",
          "name": "stdout",
          "text": [
            "enter vehicle:car\n",
            "not avialable any car\n"
          ]
        }
      ]
    },
    {
      "cell_type": "code",
      "source": [],
      "metadata": {
        "id": "EVzqaynFxtvw"
      },
      "execution_count": 39,
      "outputs": []
    },
    {
      "cell_type": "code",
      "source": [
        "customer2=vehicle_rent()"
      ],
      "metadata": {
        "id": "5HoZZpfCyvQB"
      },
      "execution_count": 40,
      "outputs": []
    },
    {
      "cell_type": "code",
      "source": [
        "customer2.rent_a_vehicle()"
      ],
      "metadata": {
        "colab": {
          "base_uri": "https://localhost:8080/"
        },
        "id": "bE4BzTHC0gcL",
        "outputId": "10b4b730-8d01-4186-99c2-0fae1519b0bd"
      },
      "execution_count": 41,
      "outputs": [
        {
          "output_type": "stream",
          "name": "stdout",
          "text": [
            "enter vehicle:kbka\n",
            "not avialable any car\n"
          ]
        }
      ]
    },
    {
      "cell_type": "markdown",
      "source": [
        "Problem 4: Library Catalog Create classes representing a library and a book. Implement methods to add books to the library, borrow books, and display available books."
      ],
      "metadata": {
        "id": "_E_z_kMyX3bR"
      }
    },
    {
      "cell_type": "code",
      "source": [
        "class Book:\n",
        "    def __init__(self, title, author):\n",
        "        self.title = title\n",
        "        self.author = author\n",
        "        self.borrowed = False\n",
        "\n",
        "    def borrow(self):\n",
        "        if not self.borrowed:\n",
        "            self.borrowed = True\n",
        "            print(f\"The book '{self.title}' by {self.author} has been borrowed.\")\n",
        "        else:\n",
        "            print(f\"The book '{self.title}' by {self.author} is already borrowed.\")\n",
        "\n",
        "    def return_book(self):\n",
        "        if self.borrowed:\n",
        "            self.borrowed = False\n",
        "            print(f\"The book '{self.title}' by {self.author} has been returned.\")\n",
        "        else:\n",
        "            print(f\"The book '{self.title}' by {self.author} is already available.\")\n",
        "\n",
        "\n",
        "class Library:\n",
        "    def __init__(self):\n",
        "        self.books = []\n",
        "\n",
        "    def add_book(self, book):\n",
        "        self.books.append(book)\n",
        "        print(f\"The book '{book.title}' by {book.author} has been added to the library.\")\n",
        "\n",
        "    def borrow_book(self, title):\n",
        "        for book in self.books:\n",
        "            if book.title == title:\n",
        "                book.borrow()\n",
        "                return\n",
        "        print(f\"The book '{title}' is not available in the library.\")\n",
        "\n",
        "    def return_book(self, title):\n",
        "        for book in self.books:\n",
        "            if book.title == title:\n",
        "                book.return_book()\n",
        "                return\n",
        "        print(f\"The book '{title}' is not part of this library.\")\n",
        "\n",
        "    def display_available_books(self):\n",
        "        available_books = [book for book in self.books if not book.borrowed]\n",
        "        if available_books:\n",
        "            print(\"Available Books:\")\n",
        "            for book in available_books:\n",
        "                print(f\"'{book.title}' by {book.author}\")\n",
        "        else:\n",
        "            print(\"No books are currently available in the library.\")\n",
        "\n",
        "\n",
        "# Example Usage:\n",
        "if __name__ == \"__main__\":\n",
        "    # Create library instance\n",
        "    my_library = Library()\n",
        "\n",
        "    # Add books to the library\n",
        "    book1 = Book(\"The Great Gatsby\", \"F. Scott Fitzgerald\")\n",
        "    book2 = Book(\"To Kill a Mockingbird\", \"Harper Lee\")\n",
        "    book3 = Book(\"1984\", \"George Orwell\")\n",
        "    my_library.add_book(book1)\n",
        "    my_library.add_book(book2)\n",
        "    my_library.add_book(book3)\n",
        "\n",
        "    # Display available books\n",
        "    my_library.display_available_books()\n",
        "\n",
        "    # Borrow a book\n",
        "    my_library.borrow_book(\"The Great Gatsby\")\n",
        "    my_library.borrow_book(\"The Great Gatsby\")\n",
        "\n",
        "    # Return a book\n",
        "    my_library.return_book(\"To Kill a Mockingbird\")\n",
        "\n",
        "    # Display available books after borrowing and returning\n",
        "    my_library.display_available_books()\n"
      ],
      "metadata": {
        "colab": {
          "base_uri": "https://localhost:8080/"
        },
        "id": "ZMcP6I9w0pSP",
        "outputId": "b5f8b93c-5596-4ef6-c906-9a6d1def2d1a"
      },
      "execution_count": 42,
      "outputs": [
        {
          "output_type": "stream",
          "name": "stdout",
          "text": [
            "The book 'The Great Gatsby' by F. Scott Fitzgerald has been added to the library.\n",
            "The book 'To Kill a Mockingbird' by Harper Lee has been added to the library.\n",
            "The book '1984' by George Orwell has been added to the library.\n",
            "Available Books:\n",
            "'The Great Gatsby' by F. Scott Fitzgerald\n",
            "'To Kill a Mockingbird' by Harper Lee\n",
            "'1984' by George Orwell\n",
            "The book 'The Great Gatsby' by F. Scott Fitzgerald has been borrowed.\n",
            "The book 'The Great Gatsby' by F. Scott Fitzgerald is already borrowed.\n",
            "The book 'To Kill a Mockingbird' by Harper Lee is already available.\n",
            "Available Books:\n",
            "'To Kill a Mockingbird' by Harper Lee\n",
            "'1984' by George Orwell\n"
          ]
        }
      ]
    },
    {
      "cell_type": "markdown",
      "source": [
        "Problem 5: Product Inventory Create classes representing a product and an inventory system. Implement methods to add products to the inventory, update product quantity, and display available products."
      ],
      "metadata": {
        "id": "9wzlueWNnfti"
      }
    },
    {
      "cell_type": "code",
      "source": [
        "class Product:\n",
        "    def __init__(self, name, price, quantity):\n",
        "        self.name = name\n",
        "        self.price = price\n",
        "        self.quantity = quantity\n",
        "\n",
        "    def update_quantity(self, new_quantity):\n",
        "        self.quantity = new_quantity\n",
        "\n",
        "\n",
        "class Inventory:\n",
        "    def __init__(self):\n",
        "        self.products = []\n",
        "\n",
        "    def add_product(self, product):\n",
        "        self.products.append(product)\n",
        "        print(f\"Product '{product.name}' added to inventory.\")\n",
        "\n",
        "    def update_product_quantity(self, product_name, new_quantity):\n",
        "        for product in self.products:\n",
        "            if product.name == product_name:\n",
        "                product.update_quantity(new_quantity)\n",
        "                print(f\"Quantity of product '{product_name}' updated to {new_quantity}.\")\n",
        "                return\n",
        "        print(f\"Product '{product_name}' not found in inventory.\")\n",
        "\n",
        "    def display_available_products(self):\n",
        "        print(\"Available Products:\")\n",
        "        for product in self.products:\n",
        "            print(f\"Name: {product.name}, Price: {product.price}, Quantity: {product.quantity}\")\n",
        "\n",
        "# Example Usage:\n",
        "if __name__ == \"__main__\":\n",
        "    # Create inventory instance\n",
        "    inventory = Inventory()\n",
        "\n",
        "    # Add products to inventory\n",
        "    product1 = Product(\"Laptop\", 999, 10)\n",
        "    product2 = Product(\"Phone\", 599, 20)\n",
        "    inventory.add_product(product1)\n",
        "    inventory.add_product(product2)\n",
        "\n",
        "    # Display available products\n",
        "    inventory.display_available_products()\n",
        "\n",
        "    # Update product quantity\n",
        "    inventory.update_product_quantity(\"Laptop\", 5)\n",
        "    inventory.update_product_quantity(\"Tablet\", 8)  # Trying to update a non-existing product\n",
        "\n",
        "    # Display available products after updating quantity\n",
        "    inventory.display_available_products()\n",
        "\n"
      ],
      "metadata": {
        "id": "hMiLDhSlbGmm",
        "colab": {
          "base_uri": "https://localhost:8080/"
        },
        "outputId": "322655e1-fa42-484c-b898-556bc4ead215"
      },
      "execution_count": 43,
      "outputs": [
        {
          "output_type": "stream",
          "name": "stdout",
          "text": [
            "Product 'Laptop' added to inventory.\n",
            "Product 'Phone' added to inventory.\n",
            "Available Products:\n",
            "Name: Laptop, Price: 999, Quantity: 10\n",
            "Name: Phone, Price: 599, Quantity: 20\n",
            "Quantity of product 'Laptop' updated to 5.\n",
            "Product 'Tablet' not found in inventory.\n",
            "Available Products:\n",
            "Name: Laptop, Price: 999, Quantity: 5\n",
            "Name: Phone, Price: 599, Quantity: 20\n"
          ]
        }
      ]
    },
    {
      "cell_type": "markdown",
      "source": [
        "Problem 6: Shape Calculation Create a class representing a shape with attributes like length, width, and height. Implement methods to calculate the area and perimeter of the shape."
      ],
      "metadata": {
        "id": "98ObWVRqJaYv"
      }
    },
    {
      "cell_type": "code",
      "source": [
        "class shape_calculation:\n",
        "    def __init__(self, s):\n",
        "        self.shape = s\n",
        "\n",
        "    def area_of_object(self):\n",
        "      obj=input(\"enter shape of a object:\")\n",
        "      if obj == \"circle\":\n",
        "          radius = int(input(\"enter radius of a circle:\"))\n",
        "          pi = 3.14\n",
        "          print(\"area of a circle is :\", pi * radius)\n",
        "      elif obj == \"triangle\":\n",
        "          breadth = int(input(\"enter breadth of a triangle:\"))\n",
        "          height = int(input(\"enter height of a triangle:\"))\n",
        "          print(\"area of triangle is :\", 0.5 * (breadth * height))\n",
        "      elif obj == \"rectangle\":\n",
        "          length = int(input(\"enter length of the rectangle:\"))\n",
        "          width = int(input(\"enter width of the rectangle:\"))\n",
        "          print(\"area of rectangle is:\", length * width)\n",
        "      elif obj == \"square\":\n",
        "          side = int(input(\"enter side of a square:\"))\n",
        "          print(\"area of a square:\", side ** 2)\n",
        "      else:\n",
        "          print(\"enter a valid shape\")\n",
        "\n"
      ],
      "metadata": {
        "id": "2m__yEEsjzGo"
      },
      "execution_count": 44,
      "outputs": []
    },
    {
      "cell_type": "code",
      "source": [
        "obj_area=shape_calculation"
      ],
      "metadata": {
        "id": "H2drXucDG84w"
      },
      "execution_count": 45,
      "outputs": []
    },
    {
      "cell_type": "code",
      "source": [
        "obj_area.area_of_object(\"\")"
      ],
      "metadata": {
        "colab": {
          "base_uri": "https://localhost:8080/"
        },
        "id": "VKMrtOWAQ0lC",
        "outputId": "d4c4cad7-dc01-4e9d-8797-3f21e249285e"
      },
      "execution_count": 46,
      "outputs": [
        {
          "output_type": "stream",
          "name": "stdout",
          "text": [
            "enter shape of a object:rG\n",
            "enter a valid shape\n"
          ]
        }
      ]
    },
    {
      "cell_type": "markdown",
      "source": [
        "Problem 7: Student Management Create a class representing a student with attributes like student ID, name, and grades. Implement methods to calculate the average grade and display student details."
      ],
      "metadata": {
        "id": "cXmzCINOSk8A"
      }
    },
    {
      "cell_type": "code",
      "source": [
        "class student_management:\n",
        "  def __init__(self,id,name,*grade):\n",
        "    self.std_id=id\n",
        "    self.std_name=name\n",
        "    self.std_grade=grade\n",
        "\n",
        "  def display(self):\n",
        "    print(self.std_id,self.std_name,self.std_grade)\n",
        "\n",
        "  def grades_of(self):\n",
        "    grades=sum(self.std_grade)\n",
        "    avg=grades//5\n",
        "    if avg > 90 and avg  < 100:\n",
        "      print(\"student got A+ grade\")\n",
        "    elif avg > 80 and avg < 90:\n",
        "      print(\"student got A grade\")\n",
        "    elif avg > 60 and avg < 80:\n",
        "      print(\"studen got B grade\")\n",
        "    else:\n",
        "      print(\"student is failed\")\n",
        "\n",
        "\n"
      ],
      "metadata": {
        "id": "sGJ_Kko9Q71b"
      },
      "execution_count": 47,
      "outputs": []
    },
    {
      "cell_type": "code",
      "source": [
        "student1=student_management(4256,\"pavan\",94,95,98,99,95)\n"
      ],
      "metadata": {
        "id": "ecAqP8_xUUg9"
      },
      "execution_count": 48,
      "outputs": []
    },
    {
      "cell_type": "code",
      "source": [
        "student1.grades_of()"
      ],
      "metadata": {
        "colab": {
          "base_uri": "https://localhost:8080/"
        },
        "id": "yTw8lNtXUaSf",
        "outputId": "9e74f674-5da7-416d-8310-801963c5a934"
      },
      "execution_count": 49,
      "outputs": [
        {
          "output_type": "stream",
          "name": "stdout",
          "text": [
            "student got A+ grade\n"
          ]
        }
      ]
    },
    {
      "cell_type": "code",
      "source": [
        "student1.display()"
      ],
      "metadata": {
        "colab": {
          "base_uri": "https://localhost:8080/"
        },
        "id": "wYgbvQ7RUiPl",
        "outputId": "d8b32a50-3f07-4adc-95a7-7ee21aefb49f"
      },
      "execution_count": 50,
      "outputs": [
        {
          "output_type": "stream",
          "name": "stdout",
          "text": [
            "4256 pavan (94, 95, 98, 99, 95)\n"
          ]
        }
      ]
    },
    {
      "cell_type": "markdown",
      "source": [
        "Problem 8: Email Management Create a class representing an email with attributes like sender, recipient, and subject. Implement methods to send an email and display email details."
      ],
      "metadata": {
        "id": "fHa08LbCZz_Y"
      }
    },
    {
      "cell_type": "code",
      "source": [
        "class Email_management:\n",
        "\n",
        "  def __init__(self,sender,recipient,subject):\n",
        "    self.email_sender=sender\n",
        "    self.email_recipient=recipient\n",
        "    self.email_subject=subject\n",
        "\n",
        "  def display(self):\n",
        "    print(f\"{self.email_sender} send mail to {self.email_recipient} subject is '{self.email_subject}'\")\n",
        "\n",
        "  def send_mail(self):\n",
        "    subject=input(\"enter subject of a mail:\")\n",
        "    reciever=input(\"enter reciever mail\")\n",
        "    print(f\"mail successfully  sent to {reciever}\")"
      ],
      "metadata": {
        "id": "riwrFBhOVttu"
      },
      "execution_count": 51,
      "outputs": []
    },
    {
      "cell_type": "code",
      "source": [
        "email1=Email_management(\"pavan\",\"jogi\",\"hello how are you\")"
      ],
      "metadata": {
        "id": "cfvty5GSWpsj"
      },
      "execution_count": 52,
      "outputs": []
    },
    {
      "cell_type": "code",
      "source": [
        "email1.display()"
      ],
      "metadata": {
        "colab": {
          "base_uri": "https://localhost:8080/"
        },
        "id": "bcUnqCbobXL3",
        "outputId": "9a3406aa-fa8c-42cf-edbb-b400697d0bdb"
      },
      "execution_count": 53,
      "outputs": [
        {
          "output_type": "stream",
          "name": "stdout",
          "text": [
            "pavan send mail to jogi subject is 'hello how are you'\n"
          ]
        }
      ]
    },
    {
      "cell_type": "code",
      "source": [
        "email1.send_mail()"
      ],
      "metadata": {
        "colab": {
          "base_uri": "https://localhost:8080/"
        },
        "id": "0deML8iYb3ee",
        "outputId": "8a841c6c-f488-42fb-b32e-cc8181434b00"
      },
      "execution_count": 54,
      "outputs": [
        {
          "output_type": "stream",
          "name": "stdout",
          "text": [
            "enter subject of a mail:VAJASDKJFVH@gmail.com\n",
            "enter reciever mailjhagdjhbefejH@gmail.com\n",
            "mail successfully  sent to jhagdjhbefejH@gmail.com\n"
          ]
        }
      ]
    },
    {
      "cell_type": "markdown",
      "source": [
        "Problem 9: Social Media Profile Create a class representing a social media profile with attributes like username and posts. Implement methods to add posts, display posts, and search for posts by keyword.\n"
      ],
      "metadata": {
        "id": "YboDQlFadASR"
      }
    },
    {
      "cell_type": "code",
      "source": [
        "class SocialMediaProfile:\n",
        "    def __init__(self, username):\n",
        "        self.username = username\n",
        "        self.posts = []\n",
        "\n",
        "    def add_post(self, post):\n",
        "        self.posts.append(post)\n",
        "\n",
        "    def display_posts(self):\n",
        "        if not self.posts:\n",
        "            print(\"No posts available.\")\n",
        "        else:\n",
        "            for i, post in enumerate(self.posts, 1):\n",
        "                print(f\"Post {i}: {post}\")\n",
        "\n",
        "    def search_posts(self, keyword):\n",
        "        matching_posts = [post for post in self.posts if keyword in post]\n",
        "        if not matching_posts:\n",
        "            print(\"No posts found matching the keyword.\")\n",
        "        else:\n",
        "            print(f\"Posts containing '{keyword}':\")\n",
        "            for i, post in enumerate(matching_posts, 1):\n",
        "                print(f\"Post {i}: {post}\")\n",
        "\n",
        "\n",
        "profile = SocialMediaProfile(\"example_user\")\n",
        "profile.add_post(\"Just had a great time at the beach! #beachday\")\n",
        "profile.add_post(\"Finished reading an amazing book. Highly recommend it!\")\n",
        "profile.add_post(\"Enjoying the sunset view from my balcony.\")\n",
        "profile.add_post(\"Spending quality time with friends and family.\")\n",
        "\n",
        "print(\"All posts:\")\n",
        "profile.display_posts()\n",
        "\n",
        "print(\"\\nSearch results for 'beach':\")\n",
        "profile.search_posts(\"beach\")\n",
        "\n",
        "print(\"\\nSearch results for 'book':\")\n",
        "profile.search_posts(\"book\")\n",
        "\n",
        "print(\"\\nSearch results for 'food':\")\n",
        "profile.search_posts(\"food\")\n"
      ],
      "metadata": {
        "id": "bbvkcNSEcMAx",
        "colab": {
          "base_uri": "https://localhost:8080/"
        },
        "outputId": "c4fed79a-11dc-4055-fe85-07b3c1b96785"
      },
      "execution_count": 55,
      "outputs": [
        {
          "output_type": "stream",
          "name": "stdout",
          "text": [
            "All posts:\n",
            "Post 1: Just had a great time at the beach! #beachday\n",
            "Post 2: Finished reading an amazing book. Highly recommend it!\n",
            "Post 3: Enjoying the sunset view from my balcony.\n",
            "Post 4: Spending quality time with friends and family.\n",
            "\n",
            "Search results for 'beach':\n",
            "Posts containing 'beach':\n",
            "Post 1: Just had a great time at the beach! #beachday\n",
            "\n",
            "Search results for 'book':\n",
            "Posts containing 'book':\n",
            "Post 1: Finished reading an amazing book. Highly recommend it!\n",
            "\n",
            "Search results for 'food':\n",
            "No posts found matching the keyword.\n"
          ]
        }
      ]
    },
    {
      "cell_type": "markdown",
      "source": [
        "Problem 10: ToDo List Create a class representing a ToDo list with attributes like tasks and due dates. Implement methods to add tasks, mark tasks as completed, and display pending tasks."
      ],
      "metadata": {
        "id": "u9xTObyBRZDM"
      }
    },
    {
      "cell_type": "code",
      "source": [
        "class ToDoList:\n",
        "    def __init__(self):\n",
        "        self.task_list = []\n",
        "\n",
        "    def add_task(self, task, due_date):\n",
        "        if task in self.task_list:\n",
        "            print(\"Task is already added\")\n",
        "        else:\n",
        "            self.task_list.append((task, due_date))\n",
        "\n",
        "    def mark_task(self, task):\n",
        "        for i, t in enumerate(self.task_list):\n",
        "            if t[0] == task:\n",
        "                del self.task_list[i]\n",
        "                print(\"Task is completed\")\n",
        "                return\n",
        "        print(\"Task not found\")\n",
        "\n",
        "    def pending_tasks(self):\n",
        "        print(\"Pending tasks are:\")\n",
        "        for task, due_date in self.task_list:\n",
        "            print(f\"- {task} (Due Date: {due_date})\")\n",
        "\n",
        "\n",
        "# Example usage:\n",
        "todo_list = ToDoList()\n",
        "todo_list.add_task(\"Color the wall\", \"13th February\")\n",
        "todo_list.add_task(\"Buy groceries\", \"15th February\")\n",
        "todo_list.pending_tasks()\n",
        "\n",
        "print(\"\\nMarking task 'Color the wall' as completed:\")\n",
        "todo_list.mark_task(\"Color the wall\")\n",
        "todo_list.pending_tasks()\n",
        "\n",
        "print(\"\\nMarking task 'Paint the ceiling' as completed:\")\n",
        "todo_list.mark_task(\"Paint the ceiling\")\n"
      ],
      "metadata": {
        "id": "6HLUZY_4g5p_",
        "colab": {
          "base_uri": "https://localhost:8080/"
        },
        "outputId": "b43dbb79-40cf-4312-d200-b20fc4d0e5a9"
      },
      "execution_count": 56,
      "outputs": [
        {
          "output_type": "stream",
          "name": "stdout",
          "text": [
            "Pending tasks are:\n",
            "- Color the wall (Due Date: 13th February)\n",
            "- Buy groceries (Due Date: 15th February)\n",
            "\n",
            "Marking task 'Color the wall' as completed:\n",
            "Task is completed\n",
            "Pending tasks are:\n",
            "- Buy groceries (Due Date: 15th February)\n",
            "\n",
            "Marking task 'Paint the ceiling' as completed:\n",
            "Task not found\n"
          ]
        }
      ]
    },
    {
      "cell_type": "code",
      "source": [],
      "metadata": {
        "id": "Tp4a5s_hU5cb"
      },
      "execution_count": 56,
      "outputs": []
    }
  ]
}