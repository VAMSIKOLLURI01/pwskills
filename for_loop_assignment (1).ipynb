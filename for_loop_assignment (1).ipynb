{
  "nbformat": 4,
  "nbformat_minor": 0,
  "metadata": {
    "colab": {
      "provenance": []
    },
    "kernelspec": {
      "name": "python3",
      "display_name": "Python 3"
    },
    "language_info": {
      "name": "python"
    }
  },
  "cells": [
    {
      "cell_type": "markdown",
      "source": [
        "loops basic level\n",
        "\n"
      ],
      "metadata": {
        "id": "fUaotpBumveX"
      }
    },
    {
      "cell_type": "code",
      "source": [
        "#Write a Python program to print the numbers from 1 to 10 using a `for` loop\n",
        "for i in range(0,11):\n",
        "  print(i)"
      ],
      "metadata": {
        "colab": {
          "base_uri": "https://localhost:8080/"
        },
        "id": "HYBKnNxCm0li",
        "outputId": "d8009854-5ffe-4fd6-fd94-4fc5a48266b8"
      },
      "execution_count": null,
      "outputs": [
        {
          "output_type": "stream",
          "name": "stdout",
          "text": [
            "0\n",
            "1\n",
            "2\n",
            "3\n",
            "4\n",
            "5\n",
            "6\n",
            "7\n",
            "8\n",
            "9\n",
            "10\n"
          ]
        }
      ]
    },
    {
      "cell_type": "code",
      "source": [
        "#. Create a program that calculates the sum of all numbers in a list using a `for` loop.\n",
        "x = [1, 2, 3, 4, 5, 6]\n",
        "total_sum = 0\n",
        "\n",
        "for num in x:\n",
        "    total_sum += num\n",
        "\n",
        "print(\"The sum of the numbers:\", total_sum)\n",
        "\n"
      ],
      "metadata": {
        "colab": {
          "base_uri": "https://localhost:8080/"
        },
        "id": "SV3bZKF7nalR",
        "outputId": "6f1bc4c8-04bb-4400-d439-6740da029198"
      },
      "execution_count": null,
      "outputs": [
        {
          "output_type": "stream",
          "name": "stdout",
          "text": [
            "The sum of the numbers: 21\n"
          ]
        }
      ]
    },
    {
      "cell_type": "code",
      "source": [
        "#. Write a program to print the characters of a string in reverse order using a `for` loop\n",
        "string=\"vamsi\"\n",
        "for i in reversed(string):\n",
        "  print(i,end=' ')\n",
        "\n"
      ],
      "metadata": {
        "colab": {
          "base_uri": "https://localhost:8080/"
        },
        "id": "Cbsxascxnahy",
        "outputId": "a87f0b27-4036-4301-fc97-8fdd30d590ff"
      },
      "execution_count": null,
      "outputs": [
        {
          "output_type": "stream",
          "name": "stdout",
          "text": [
            "i s m a v "
          ]
        }
      ]
    },
    {
      "cell_type": "code",
      "source": [
        "# Develop a program that finds the factorial of a given number using a `for` loop.\n",
        "# Input from the user\n",
        "number = int(input(\"Enter a number: \"))\n",
        "\n",
        "# Base case: factorial of 0 is 1\n",
        "if number == 0:\n",
        "    factorial = 1\n",
        "else:\n",
        "    # Initialize the factorial to 1\n",
        "    factorial = 1\n",
        "\n",
        "    # Iterate from 1 to number and multiply each number\n",
        "    for i in range(1, number + 1):\n",
        "        factorial *= i\n",
        "\n",
        "# Print the factorial\n",
        "print(\"Factorial of\", number, \"is\", factorial)\n"
      ],
      "metadata": {
        "colab": {
          "base_uri": "https://localhost:8080/"
        },
        "id": "m9phgXRnnagE",
        "outputId": "e11edf42-4b6b-459b-91b2-58a6b5bf4de8"
      },
      "execution_count": null,
      "outputs": [
        {
          "output_type": "stream",
          "name": "stdout",
          "text": [
            "Enter a number: 8\n",
            "Factorial of 8 is 40320\n"
          ]
        }
      ]
    },
    {
      "cell_type": "code",
      "source": [
        "#5. Create a program to print the multiplication table of a given number using a `for` loop.\n",
        "number=int(input(\"enter a number:\"))\n",
        "print(\"multiclable number is\",number,\"is:\")\n",
        "for i in range(1,11):\n",
        "  result=number*i\n",
        "  print(\"the multiclable of the\",number,\"is:\",result)\n",
        "\n",
        "\n",
        "\n"
      ],
      "metadata": {
        "colab": {
          "base_uri": "https://localhost:8080/"
        },
        "id": "_t1Kj4qSnad3",
        "outputId": "07b03881-0d7c-4a2d-f695-0052b1617bae"
      },
      "execution_count": null,
      "outputs": [
        {
          "output_type": "stream",
          "name": "stdout",
          "text": [
            "enter a number:4\n",
            "multiclable number is 4 is:\n",
            "the multiclable of the 4 is: 4\n",
            "the multiclable of the 4 is: 8\n",
            "the multiclable of the 4 is: 12\n",
            "the multiclable of the 4 is: 16\n",
            "the multiclable of the 4 is: 20\n",
            "the multiclable of the 4 is: 24\n",
            "the multiclable of the 4 is: 28\n",
            "the multiclable of the 4 is: 32\n",
            "the multiclable of the 4 is: 36\n",
            "the multiclable of the 4 is: 40\n"
          ]
        }
      ]
    },
    {
      "cell_type": "code",
      "source": [
        "#6. Write a program that counts the number of even and odd numbers in a list using a `for` loop.\n",
        "list1=[1,2,3,4,5,6,6,7,8,9]\n",
        "even_count=0\n",
        "odd_count=0\n",
        "for num in list1 :\n",
        "  if num%2 == 0:\n",
        "    even_count+=1\n",
        "\n",
        "  else:\n",
        "    odd_count+=1\n",
        "print(\"the total even count\",even_count)\n",
        "print(\"the total odd count  is\",odd_count)"
      ],
      "metadata": {
        "colab": {
          "base_uri": "https://localhost:8080/"
        },
        "id": "KfNt9-v8nabV",
        "outputId": "a18f4d23-f02d-49bc-f596-3ec7932bb844"
      },
      "execution_count": null,
      "outputs": [
        {
          "output_type": "stream",
          "name": "stdout",
          "text": [
            "the total even count 5\n",
            "the total odd count  is 5\n"
          ]
        }
      ]
    },
    {
      "cell_type": "code",
      "source": [
        "#7. Develop a program that prints the squares of numbers from 1 to 5 using a `for` loop.\n",
        "\n",
        "# Iterate from 1 to 5 using a for loop\n",
        "for i in range(1, 6):\n",
        "    # Calculate the square of the current number\n",
        "    num = i ** 2\n",
        "    # Print the square of the current number\n",
        "    print(\"Square of\", i, \"is\", num)\n"
      ],
      "metadata": {
        "colab": {
          "base_uri": "https://localhost:8080/"
        },
        "id": "ztdm_UETnaY5",
        "outputId": "7f7674ea-69da-410a-950b-45fd88c335bc"
      },
      "execution_count": null,
      "outputs": [
        {
          "output_type": "stream",
          "name": "stdout",
          "text": [
            "Square of 1 is 1\n",
            "Square of 2 is 4\n",
            "Square of 3 is 9\n",
            "Square of 4 is 16\n",
            "Square of 5 is 25\n"
          ]
        }
      ]
    },
    {
      "cell_type": "code",
      "source": [
        "#8. Create a program to find the length of a string without using the `len()` function\n",
        "string=\"vamsi\"\n",
        "count=0\n",
        "for i in string:\n",
        "  count=count+1\n",
        "print(\"count is:\",count)\n",
        "\n"
      ],
      "metadata": {
        "id": "6I8YebFByd0v",
        "colab": {
          "base_uri": "https://localhost:8080/"
        },
        "outputId": "b3cb91c8-5d37-4757-c910-863fc2ee297c"
      },
      "execution_count": null,
      "outputs": [
        {
          "output_type": "stream",
          "name": "stdout",
          "text": [
            "count is: 5\n"
          ]
        }
      ]
    },
    {
      "cell_type": "code",
      "source": [
        "#9. Write a program that calculates the average of a list of numbers using a `for` loop.\n",
        "list1=[1,2,3,3,4,55,7]\n",
        "total=0\n",
        "for i in list1:\n",
        "  total+=i\n",
        "  average=total/len(list1)\n",
        "  print(\"the avearge of\",{i},\"is:\",average)"
      ],
      "metadata": {
        "id": "luA1E8qCydxN",
        "colab": {
          "base_uri": "https://localhost:8080/"
        },
        "outputId": "8929aa83-36cc-4d71-8ef9-b4f42fc1293d"
      },
      "execution_count": null,
      "outputs": [
        {
          "output_type": "stream",
          "name": "stdout",
          "text": [
            "the avearge of {1} is: 0.14285714285714285\n",
            "the avearge of {2} is: 0.42857142857142855\n",
            "the avearge of {3} is: 0.8571428571428571\n",
            "the avearge of {3} is: 1.2857142857142858\n",
            "the avearge of {4} is: 1.8571428571428572\n",
            "the avearge of {55} is: 9.714285714285714\n",
            "the avearge of {7} is: 10.714285714285714\n"
          ]
        }
      ]
    },
    {
      "cell_type": "code",
      "source": [
        "#Develop a program that prints the first `n` Fibonacci numbers using a `for` loop.\n",
        "n = int(input(\"Enter the number of Fibonacci numbers to print: \"))\n",
        "\n",
        "fib_sequence = []\n",
        "if n <= 0:\n",
        "    print(\"No Fibonacci numbers to print.\")\n",
        "elif n == 1:\n",
        "    fib_sequence.append(0)\n",
        "    print(\"The first Fibonacci number is:\", fib_sequence[0])\n",
        "elif n >= 2:\n",
        "    fib_sequence.extend([0, 1])\n",
        "    print(\"The first\", n, \"Fibonacci numbers are:\")\n",
        "    print(fib_sequence[0], fib_sequence[1], end=\" \")\n",
        "    for i in range(2, n):\n",
        "        next_fib = fib_sequence[-1] + fib_sequence[-2]\n",
        "        fib_sequence.append(next_fib)\n",
        "        print(next_fib, end=\" \")"
      ],
      "metadata": {
        "id": "vf_f517Lyduh",
        "colab": {
          "base_uri": "https://localhost:8080/"
        },
        "outputId": "b841df75-0baf-4e8d-eb5f-35a39ef830ad"
      },
      "execution_count": null,
      "outputs": [
        {
          "output_type": "stream",
          "name": "stdout",
          "text": [
            "Enter the number of Fibonacci numbers to print: 2\n",
            "The first 2 Fibonacci numbers are:\n",
            "0 1 "
          ]
        }
      ]
    },
    {
      "cell_type": "markdown",
      "source": [
        "INTERMIDIATE LEVEL\n"
      ],
      "metadata": {
        "id": "gk9LOg_lTuzF"
      }
    },
    {
      "cell_type": "code",
      "source": [
        "#Write a program to check if a given list contains any duplicates using a `for` loop\n",
        "list1=[11,11,2,3,44,33,5,11]\n",
        "duplicates=False\n",
        "for i in range(len(list1)):\n",
        "  for j in range(i+1,len(list1)):\n",
        "   if list1[i] == list1[j]:\n",
        "            found_duplicates = True\n",
        "            break\n",
        "\n",
        "if found_duplicates:\n",
        "    print(\"The list contains duplicates.\")\n",
        "else:\n",
        "    print(\"The list does not contain duplicates.\")\n",
        "\n"
      ],
      "metadata": {
        "colab": {
          "base_uri": "https://localhost:8080/"
        },
        "id": "q8P5HZ9LTzZW",
        "outputId": "df64ed57-af37-4724-e736-c4f1e943a8f2"
      },
      "execution_count": null,
      "outputs": [
        {
          "output_type": "stream",
          "name": "stdout",
          "text": [
            "The list contains duplicates.\n"
          ]
        }
      ]
    },
    {
      "cell_type": "code",
      "source": [
        "#12. Create a program that prints the prime numbers in a given range using a `for` loop.\n",
        "start = int(input(\"Enter the start of the range: \"))\n",
        "end = int(input(\"Enter the end of the range: \"))\n",
        "\n",
        "print(\"Prime numbers between\", start, \"and\", end, \"are:\")\n",
        "for num in range(start, end + 1):\n",
        "    if num > 1:\n",
        "        is_prime = True\n",
        "        for i in range(2, int(num ** 0.5) + 1):\n",
        "            if num % i == 0:\n",
        "                is_prime = False\n",
        "                break\n",
        "        if is_prime:\n",
        "            print(num)\n",
        "\n"
      ],
      "metadata": {
        "colab": {
          "base_uri": "https://localhost:8080/"
        },
        "id": "6wsFpKunYLOv",
        "outputId": "922d8c07-ef72-4afa-dfeb-e4325d3c4452"
      },
      "execution_count": null,
      "outputs": [
        {
          "output_type": "stream",
          "name": "stdout",
          "text": [
            "Enter the start of the range: 1\n",
            "Enter the end of the range: 11\n",
            "Prime numbers between 1 and 11 are:\n",
            "2\n",
            "3\n",
            "5\n",
            "7\n",
            "11\n"
          ]
        }
      ]
    },
    {
      "cell_type": "code",
      "source": [
        "# Develop a program that counts the number of vowels in a string using a `for` loop.\n",
        "string1=\"vamsikolluri\"\n",
        "count=0\n",
        "for i in string1:\n",
        "  vowels=[\"a\",\"e\",\"i\",\"o\",\"u\",\"A\",\"E\",\"I\",\"O\",\"U\"]\n",
        "  if i in vowels:\n",
        "    count=count+1\n",
        "print(\"number of vowels are:\",count)"
      ],
      "metadata": {
        "colab": {
          "base_uri": "https://localhost:8080/"
        },
        "id": "CKJiOoYFYLFw",
        "outputId": "e511bd38-24a0-447e-e8bf-465e1e4c287e"
      },
      "execution_count": null,
      "outputs": [
        {
          "output_type": "stream",
          "name": "stdout",
          "text": [
            "number of vowels are: 5\n"
          ]
        }
      ]
    },
    {
      "cell_type": "code",
      "source": [
        "#. Write a program to find the maximum element in a 2D list using a nested `for` loop\n",
        "matrix = [\n",
        "    [1, 2, 3],\n",
        "    [4, 5, 6],\n",
        "    [7, 8, 9]\n",
        "]\n",
        "\n",
        "max_element = float('-inf')\n",
        "\n",
        "for row in matrix:\n",
        "    for element in row:\n",
        "        if element > max_element:\n",
        "            max_element = element\n",
        "\n",
        "print(\"Maximum element in the 2D list:\", max_element)\n"
      ],
      "metadata": {
        "colab": {
          "base_uri": "https://localhost:8080/"
        },
        "id": "UyV5ow9sh5AF",
        "outputId": "eda9c451-488c-4ab0-d421-c0fc1cadd8f2"
      },
      "execution_count": null,
      "outputs": [
        {
          "output_type": "stream",
          "name": "stdout",
          "text": [
            "Maximum element in the 2D list: 9\n"
          ]
        }
      ]
    },
    {
      "cell_type": "code",
      "source": [
        "#. Create a program that removes all occurrences of a specific element from a list using a `for` loop.\n",
        "string1=[1,2,3,4,5,44,2]\n",
        "removed_item=2\n",
        "new_list=[]\n",
        "for items in string1:\n",
        "  if items!=removed_item:\n",
        "    new_list.append(items)\n",
        "\n",
        "print(\"Original list:\", string1)\n",
        "print(\"Element to remove:\", removed_item)\n",
        "print(\"List after removing all occurrences of\",removed_item, \":\", new_list)"
      ],
      "metadata": {
        "colab": {
          "base_uri": "https://localhost:8080/"
        },
        "id": "aNWc0-1nh4vI",
        "outputId": "de1e3263-2cfb-43d1-ddac-f465a09c3c6b"
      },
      "execution_count": null,
      "outputs": [
        {
          "output_type": "stream",
          "name": "stdout",
          "text": [
            "Original list: [1, 2, 3, 4, 5, 44, 2]\n",
            "Element to remove: 2\n",
            "List after removing all occurrences of 2 : [1, 3, 4, 5, 44]\n"
          ]
        }
      ]
    },
    {
      "cell_type": "code",
      "source": [
        "#Develop a program that generates a multiplication table for numbers from 1 to 5 using a nested `for` loop.\n",
        "# Generate and print the multiplication table\n",
        "for i in range(1,6):\n",
        "    print(\"the multiplication of:\",{i},\"is\")\n",
        "    for j in range(1,11):\n",
        "      print( i,\"x\",j,\"=\",i * j)\n",
        "      print()\n",
        "\n"
      ],
      "metadata": {
        "colab": {
          "base_uri": "https://localhost:8080/"
        },
        "id": "P6JwwdvnmTpU",
        "outputId": "045946fb-4286-49c5-dac7-f252a78dd13d"
      },
      "execution_count": null,
      "outputs": [
        {
          "output_type": "stream",
          "name": "stdout",
          "text": [
            "the multiplication of: {1} is\n",
            "1 x 1 = 1\n",
            "\n",
            "1 x 2 = 2\n",
            "\n",
            "1 x 3 = 3\n",
            "\n",
            "1 x 4 = 4\n",
            "\n",
            "1 x 5 = 5\n",
            "\n",
            "1 x 6 = 6\n",
            "\n",
            "1 x 7 = 7\n",
            "\n",
            "1 x 8 = 8\n",
            "\n",
            "1 x 9 = 9\n",
            "\n",
            "1 x 10 = 10\n",
            "\n",
            "the multiplication of: {2} is\n",
            "2 x 1 = 2\n",
            "\n",
            "2 x 2 = 4\n",
            "\n",
            "2 x 3 = 6\n",
            "\n",
            "2 x 4 = 8\n",
            "\n",
            "2 x 5 = 10\n",
            "\n",
            "2 x 6 = 12\n",
            "\n",
            "2 x 7 = 14\n",
            "\n",
            "2 x 8 = 16\n",
            "\n",
            "2 x 9 = 18\n",
            "\n",
            "2 x 10 = 20\n",
            "\n",
            "the multiplication of: {3} is\n",
            "3 x 1 = 3\n",
            "\n",
            "3 x 2 = 6\n",
            "\n",
            "3 x 3 = 9\n",
            "\n",
            "3 x 4 = 12\n",
            "\n",
            "3 x 5 = 15\n",
            "\n",
            "3 x 6 = 18\n",
            "\n",
            "3 x 7 = 21\n",
            "\n",
            "3 x 8 = 24\n",
            "\n",
            "3 x 9 = 27\n",
            "\n",
            "3 x 10 = 30\n",
            "\n",
            "the multiplication of: {4} is\n",
            "4 x 1 = 4\n",
            "\n",
            "4 x 2 = 8\n",
            "\n",
            "4 x 3 = 12\n",
            "\n",
            "4 x 4 = 16\n",
            "\n",
            "4 x 5 = 20\n",
            "\n",
            "4 x 6 = 24\n",
            "\n",
            "4 x 7 = 28\n",
            "\n",
            "4 x 8 = 32\n",
            "\n",
            "4 x 9 = 36\n",
            "\n",
            "4 x 10 = 40\n",
            "\n",
            "the multiplication of: {5} is\n",
            "5 x 1 = 5\n",
            "\n",
            "5 x 2 = 10\n",
            "\n",
            "5 x 3 = 15\n",
            "\n",
            "5 x 4 = 20\n",
            "\n",
            "5 x 5 = 25\n",
            "\n",
            "5 x 6 = 30\n",
            "\n",
            "5 x 7 = 35\n",
            "\n",
            "5 x 8 = 40\n",
            "\n",
            "5 x 9 = 45\n",
            "\n",
            "5 x 10 = 50\n",
            "\n"
          ]
        }
      ]
    },
    {
      "cell_type": "code",
      "source": [
        "# Write a program that converts a list of Fahrenheit temperatures to Celsius using a `for` loop.\n",
        "# List of Fahrenheit temperatures\n",
        "fahrenheit_temperatures = [32, 68, 77, 104, 212]\n",
        "\n",
        "# Convert Fahrenheit temperatures to Celsius\n",
        "celsius_temperatures = []\n",
        "for fahrenheit in fahrenheit_temperatures:\n",
        "    celsius = (fahrenheit - 32) * 5 / 9\n",
        "    celsius_temperatures.append(celsius)\n",
        "\n",
        "# Print the converted temperatures\n",
        "print(\"Fahrenheit temperatures:\", fahrenheit_temperatures)\n",
        "print(\"Equivalent Celsius temperatures:\", celsius_temperatures)\n"
      ],
      "metadata": {
        "colab": {
          "base_uri": "https://localhost:8080/"
        },
        "id": "S7nTaDxNmTlw",
        "outputId": "0802c158-2499-4b51-eebd-0c629ffccbf1"
      },
      "execution_count": null,
      "outputs": [
        {
          "output_type": "stream",
          "name": "stdout",
          "text": [
            "Fahrenheit temperatures: [32, 68, 77, 104, 212]\n",
            "Equivalent Celsius temperatures: [0.0, 20.0, 25.0, 40.0, 100.0]\n"
          ]
        }
      ]
    },
    {
      "cell_type": "code",
      "source": [
        "#18. Create a program to print the common elements from two lists using a `for` loop.\n",
        "list1=[1,2,3,4,5,6]\n",
        "list2=[1,9,8,8,7]\n",
        "common_element=[]\n",
        "for items1 in list1:\n",
        "  for items2 in list2:\n",
        "    if items == items2:\n",
        "      common_element.append(items)\n",
        "      break\n",
        "\n",
        "print(\"Common elements from both lists:\", common_element)\n",
        "\n"
      ],
      "metadata": {
        "colab": {
          "base_uri": "https://localhost:8080/"
        },
        "id": "HAvrLHAPmTh-",
        "outputId": "303653ef-079a-4031-860d-d1043af63c1c"
      },
      "execution_count": null,
      "outputs": [
        {
          "output_type": "stream",
          "name": "stdout",
          "text": [
            "Common elements from both lists: [1, 1, 1, 1, 1, 1]\n"
          ]
        }
      ]
    },
    {
      "cell_type": "code",
      "source": [
        "'''Develop a program that prints the pattern of right-angled triangles using a `for` loop. Use ‘*’ to draw the\n",
        "pattern'''\n",
        "for i in range(1, 6):\n",
        "    print('*' * i)\n",
        "\n"
      ],
      "metadata": {
        "id": "mD5GY8-jmTet",
        "colab": {
          "base_uri": "https://localhost:8080/"
        },
        "outputId": "b8d900a0-f210-463c-a935-e16b34c82365"
      },
      "execution_count": null,
      "outputs": [
        {
          "output_type": "stream",
          "name": "stdout",
          "text": [
            "*\n",
            "**\n",
            "***\n",
            "****\n",
            "*****\n"
          ]
        }
      ]
    },
    {
      "cell_type": "code",
      "source": [
        "# Write a program to find the greatest common divisor (GCD) of two numbers using a `for` loop.\n",
        "def find_gcd(x, y):\n",
        "    # Find the minimum of two numbers\n",
        "    min_num = min(x, y)\n",
        "    gcd = 1\n",
        "\n",
        "    # Iterate from 1 to the minimum number\n",
        "    for i in range(1, min_num + 1):\n",
        "        # Check if i divides both x and y\n",
        "        if x % i == 0 and y % i == 0:\n",
        "            gcd = i  # Update gcd if i divides both x and y\n",
        "\n",
        "    return gcd\n",
        "\n",
        "# Input the two numbers\n",
        "num1 = int(input(\"Enter first number: \"))\n",
        "num2 = int(input(\"Enter second number: \"))\n",
        "\n",
        "# Calculate and print the GCD\n",
        "result = find_gcd(num1, num2)\n",
        "print(\"The Greatest Common Divisor (GCD) of\", num1, \"and\", num2, \"is:\", result)\n"
      ],
      "metadata": {
        "colab": {
          "base_uri": "https://localhost:8080/"
        },
        "id": "8J6j8cIVJRe8",
        "outputId": "a4fd878b-11c3-4450-f491-ff201d5acc98"
      },
      "execution_count": null,
      "outputs": [
        {
          "output_type": "stream",
          "name": "stdout",
          "text": [
            "Enter first number: 4\n",
            "Enter second number: 5\n",
            "The Greatest Common Divisor (GCD) of 4 and 5 is: 1\n"
          ]
        }
      ]
    },
    {
      "cell_type": "markdown",
      "source": [
        "ADVANCE LEVEL\n"
      ],
      "metadata": {
        "id": "ZSJuJDQXKHsy"
      }
    },
    {
      "cell_type": "code",
      "source": [
        "#1. Create a program that calculates the sum of the digits of numbers in a list using a list comprehension.\n",
        "# List of numbers\n",
        "numbers = [123, 456, 789]\n",
        "sum_of_digits_list = [sum(int(digit) for digit in str(num)) for num in numbers]\n",
        "print(\"Original numbers:\", numbers)\n",
        "print(\"Sum of digits for each number:\", sum_of_digits_list)\n"
      ],
      "metadata": {
        "colab": {
          "base_uri": "https://localhost:8080/"
        },
        "id": "TjVxtyAqKQUX",
        "outputId": "c15c7299-ac01-4f7b-a5a9-b2d6a881ba3c"
      },
      "execution_count": null,
      "outputs": [
        {
          "output_type": "stream",
          "name": "stdout",
          "text": [
            "Original numbers: [123, 456, 789]\n",
            "Sum of digits for each number: [6, 15, 24]\n"
          ]
        }
      ]
    },
    {
      "cell_type": "code",
      "source": [
        "# Write a program to find the prime factors of a given number using a `for` loop and list comprehension.\n",
        "num = int(input(\"Enter a number to find its prime factors: \"))\n",
        "\n",
        "prime_factors = [i for i in range(2, num + 1) if num % i == 0 and all(i % j != 0 for j in range(2, int(i ** 0.5) + 1))]\n",
        "\n",
        "print(\"Prime factors of\", num, \"are:\", prime_factors)\n"
      ],
      "metadata": {
        "colab": {
          "base_uri": "https://localhost:8080/"
        },
        "id": "O7MUa6KfKQQx",
        "outputId": "cb450fa5-e167-4437-dffa-7a8d34c0c717"
      },
      "execution_count": null,
      "outputs": [
        {
          "output_type": "stream",
          "name": "stdout",
          "text": [
            "Enter a number to find its prime factors: 5\n",
            "Prime factors of 5 are: [5]\n"
          ]
        }
      ]
    },
    {
      "cell_type": "code",
      "source": [
        "'''Develop a program that extracts unique elements from a list and stores them in a new list using a list\n",
        "comprehension'''\n",
        "\n",
        "original_list = [1, 2, 3, 4, 2, 3, 5, 6, 7, 1, 8, 9, 5]\n",
        "unique_list = []\n",
        "[unique_list.append(x) for x in original_list if x not in unique_list]\n",
        "print(\"Original List:\", original_list)\n",
        "print(\"Unique Elements:\", unique_list)\n"
      ],
      "metadata": {
        "colab": {
          "base_uri": "https://localhost:8080/"
        },
        "id": "p1wk739nKQJ4",
        "outputId": "530f1868-2411-43b2-e12d-77716130c78b"
      },
      "execution_count": null,
      "outputs": [
        {
          "output_type": "stream",
          "name": "stdout",
          "text": [
            "Original List: [1, 2, 3, 4, 2, 3, 5, 6, 7, 1, 8, 9, 5]\n",
            "Unique Elements: [1, 2, 3, 4, 5, 6, 7, 8, 9]\n"
          ]
        }
      ]
    },
    {
      "cell_type": "code",
      "source": [
        "'''#Create a program that generates a list of all palindromic numbers up to a specified limit using a list\n",
        "comprehension'''\n",
        "# Function to check if a number is palindrome\n",
        "def is_palindrome(num):\n",
        "    return str(num) == str(num)[::-1]\n",
        "\n",
        "# Specify the upper limit\n",
        "limit = int(input(\"Enter the upper limit: \"))\n",
        "\n",
        "# Generate list of palindromic numbers using list comprehension\n",
        "palindromes = [num for num in range(limit + 1) if is_palindrome(num)]\n",
        "\n",
        "# Print the list of palindromic numbers\n",
        "print(\"Palindromic numbers up to\", limit, \"are:\", palindromes)\n"
      ],
      "metadata": {
        "colab": {
          "base_uri": "https://localhost:8080/"
        },
        "id": "CmXDb_a4bzCE",
        "outputId": "37062015-ad2f-4cb9-eb4c-e6d8f18f14e6"
      },
      "execution_count": null,
      "outputs": [
        {
          "output_type": "stream",
          "name": "stdout",
          "text": [
            "Enter the upper limit: 44\n",
            "Palindromic numbers up to 44 are: [0, 1, 2, 3, 4, 5, 6, 7, 8, 9, 11, 22, 33, 44]\n"
          ]
        }
      ]
    },
    {
      "cell_type": "code",
      "source": [
        "#Write a program to flatten a nested list using list comprehension.\n",
        "nested_list = [[1, 2, 3], [4, 5], [6, 7, 8, 9], [10]]\n",
        "flattened_list = [element for sublist in nested_list for element in sublist]\n",
        "print(\"Original nested list:\", nested_list)\n",
        "print(\"Flattened list:\", flattened_list)\n"
      ],
      "metadata": {
        "colab": {
          "base_uri": "https://localhost:8080/"
        },
        "id": "AGrN8bqgdJzZ",
        "outputId": "ed1ba93a-5789-4083-86a0-a3a84304b9ef"
      },
      "execution_count": null,
      "outputs": [
        {
          "output_type": "stream",
          "name": "stdout",
          "text": [
            "Original nested list: [[1, 2, 3], [4, 5], [6, 7, 8, 9], [10]]\n",
            "Flattened list: [1, 2, 3, 4, 5, 6, 7, 8, 9, 10]\n"
          ]
        }
      ]
    },
    {
      "cell_type": "code",
      "source": [
        "'''Develop a program that computes the sum of even and odd numbers in a list separately using list\n",
        "comprehension.'''\n",
        "numbers = [1, 2, 3, 4, 5, 6, 7, 8, 9, 10]\n",
        "\n",
        "# List comprehensions to separate even and odd numbers\n",
        "even_numbers = [num for num in numbers if num % 2 == 0]\n",
        "odd_numbers = [num for num in numbers if num % 2 != 0]\n",
        "\n",
        "sum_even = sum(even_numbers)\n",
        "odd_numbers = [num for num in numbers if num % 2 != 0]\n",
        "\n",
        "print(\"Sum of even numbers:\", sum_even)\n",
        "print(\"Sum of odd numbers:\", sum_odd)\n"
      ],
      "metadata": {
        "id": "6G7aOt_Grr0t",
        "colab": {
          "base_uri": "https://localhost:8080/"
        },
        "outputId": "2dd3c9ca-a021-443a-99c8-4e4b74d360a3"
      },
      "execution_count": null,
      "outputs": [
        {
          "output_type": "stream",
          "name": "stdout",
          "text": [
            "Sum of even numbers: 30\n",
            "Sum of odd numbers: 25\n"
          ]
        }
      ]
    },
    {
      "cell_type": "code",
      "source": [
        "'''Create a program that generates a list of squares of odd numbers between 1 and 10 using list\n",
        "comprehensio'''\n",
        "numbers = [1, 2, 3, 4, 5, 6, 7, 8, 9, 10]\n",
        "\n",
        "squares_of_odd_numbers = [num ** 2 for num  in numbers if num % 2 != 0]\n",
        "\n",
        "print(\"The squares of odd numbers are:\", squares_of_odd_numbers)\n"
      ],
      "metadata": {
        "id": "zUqmUg03rrxV",
        "colab": {
          "base_uri": "https://localhost:8080/"
        },
        "outputId": "cdc10a53-3bef-4c1f-9b24-65c1618280c2"
      },
      "execution_count": null,
      "outputs": [
        {
          "output_type": "stream",
          "name": "stdout",
          "text": [
            "The squares of odd numbers are: [1, 9, 25, 49, 81]\n"
          ]
        }
      ]
    },
    {
      "cell_type": "code",
      "source": [
        "'''Write a program that combines two lists into a dictionary using list comprehension.'''\n",
        "keys = ['a', 'b', 'c']\n",
        "values = [1, 2, 3]\n",
        "\n",
        "# Using dictionary comprehension to combine lists into a dictionary\n",
        "combined_dict = {keys[i]: values[i] for i in range(min(len(keys), len(values)))}\n",
        "\n",
        "print(\"Combined dictionary:\", combined_dict)\n"
      ],
      "metadata": {
        "id": "SurNusu0rrqK",
        "colab": {
          "base_uri": "https://localhost:8080/"
        },
        "outputId": "d5326644-d26a-429c-b111-652e1c301441"
      },
      "execution_count": null,
      "outputs": [
        {
          "output_type": "stream",
          "name": "stdout",
          "text": [
            "Combined dictionary: {'a': 1, 'b': 2, 'c': 3}\n"
          ]
        }
      ]
    },
    {
      "cell_type": "code",
      "source": [
        "#29. Develop a program that extracts the vowels from a string and stores them in a list using list comprehension.\n",
        "string=\"vamsi\"\n",
        "vowels=[\"a\",\"e\",\"i\",\"o\",\"u\",\"A\",\"E\",\"I\",\"O\",\"U\"]\n",
        "extracted_vowels=[i for i in string if i in vowels]\n",
        "print(\"the extracted vowels are:\",extracted_vowels)\n"
      ],
      "metadata": {
        "colab": {
          "base_uri": "https://localhost:8080/"
        },
        "id": "a883K0AQKOyS",
        "outputId": "03475b94-0920-4ab0-f9fc-6fe7d5f1def0"
      },
      "execution_count": null,
      "outputs": [
        {
          "output_type": "stream",
          "name": "stdout",
          "text": [
            "the extracted vowels are: ['a', 'i']\n"
          ]
        }
      ]
    },
    {
      "cell_type": "code",
      "source": [
        "# Create a program that removes all non-numeric characters from a list of strings using list comprehension.\n",
        "string = \"216Q1A4269\"\n",
        "nonnumeric = [\"Q\", \"A\"]\n",
        "\n",
        "# Using list comprehension to remove non-numeric characters from the string\n",
        "numeric_chars = [char for char in string if char not in nonnumeric]\n",
        "\n",
        "print(\"Numeric characters only:\", \"\".join(numeric_chars))\n",
        "\n"
      ],
      "metadata": {
        "id": "xG6fD_zfrrd1",
        "colab": {
          "base_uri": "https://localhost:8080/"
        },
        "outputId": "9b6d80fc-1f56-4df8-959d-7ff885b59bba"
      },
      "execution_count": null,
      "outputs": [
        {
          "output_type": "stream",
          "name": "stdout",
          "text": [
            "Numeric characters only: 21614269\n"
          ]
        }
      ]
    },
    {
      "cell_type": "code",
      "source": [
        "'''Write a program to generate a list of prime numbers using the Sieve of Eratosthenes algorithm and list\n",
        "comprehension'''\n",
        "def sieve_of_eratosthenes(n):\n",
        "    sieve = [True] * (n + 1)\n",
        "    sieve[0:2] = [False, False]  # 0 and 1 are not primes\n",
        "\n",
        "    for i in range(2, int(n**0.5) + 1):\n",
        "        if sieve[i]:\n",
        "            sieve[i*i:n+1:i] = [False] * len(sieve[i*i:n+1:i])\n",
        "\n",
        "    return [i for i in range(2, n + 1) if sieve[i]]\n",
        "\n",
        "# Example usage:\n",
        "n = int(input(\"Enter the upper limit for prime numbers: \"))\n",
        "primes = sieve_of_eratosthenes(n)\n",
        "print(\"Prime numbers up to\", n, \"are:\", primes)\n"
      ],
      "metadata": {
        "id": "Q3xkrXbtZ4iO",
        "colab": {
          "base_uri": "https://localhost:8080/"
        },
        "outputId": "1da15bf3-c087-48cc-a0f4-a5bc82a416d4"
      },
      "execution_count": null,
      "outputs": [
        {
          "output_type": "stream",
          "name": "stdout",
          "text": [
            "Enter the upper limit for prime numbers: 56\n",
            "Prime numbers up to 56 are: [2, 3, 5, 7, 11, 13, 17, 19, 23, 29, 31, 37, 41, 43, 47, 53]\n"
          ]
        }
      ]
    },
    {
      "cell_type": "code",
      "source": [
        "'''. Create a program that generates a list of all Pythagorean triplets up to a specified limit using list\n",
        "comprehension'''\n",
        "# Function to generate Pythagorean triplets up to a specified limit\n",
        "def pythagorean_triplets(limit):\n",
        "    # Using list comprehension to generate triplets\n",
        "    triplets = [(a, b, c) for c in range(1, limit + 1) for b in range(1, c) for a in range(1, b) if a**2 + b**2 == c**2]\n",
        "    return triplets\n",
        "\n",
        "# Example usage\n",
        "limit = int(input(\"Enter the limit for Pythagorean triplets: \"))\n",
        "triplets = pythagorean_triplets(limit)\n",
        "print(\"Pythagorean triplets up to limit\", limit, \":\", triplets)\n"
      ],
      "metadata": {
        "id": "tV24BEK_Z4eq",
        "colab": {
          "base_uri": "https://localhost:8080/"
        },
        "outputId": "273208db-011b-445d-ec43-c7dc7f45be58"
      },
      "execution_count": null,
      "outputs": [
        {
          "output_type": "stream",
          "name": "stdout",
          "text": [
            "Enter the limit for Pythagorean triplets: 56\n",
            "Pythagorean triplets up to limit 56 : [(3, 4, 5), (6, 8, 10), (5, 12, 13), (9, 12, 15), (8, 15, 17), (12, 16, 20), (15, 20, 25), (7, 24, 25), (10, 24, 26), (20, 21, 29), (18, 24, 30), (16, 30, 34), (21, 28, 35), (12, 35, 37), (15, 36, 39), (24, 32, 40), (9, 40, 41), (27, 36, 45), (30, 40, 50), (14, 48, 50), (24, 45, 51), (20, 48, 52), (28, 45, 53), (33, 44, 55)]\n"
          ]
        }
      ]
    },
    {
      "cell_type": "code",
      "source": [
        "# Develop a program that generates a list of all possible combinations of two lists using list comprehension\n",
        "# Function to generate all possible combinations of two lists\n",
        "def combine_lists(list1, list2):\n",
        "    combinations = [(x, y) for x in list1 for y in list2]\n",
        "    return combinations\n",
        "\n",
        "# Example usage\n",
        "list1 = [1, 2, 3]\n",
        "list2 = ['a', 'b', 'c']\n",
        "combinations = combine_lists(list1, list2)\n",
        "print(\"All possible combinations of two lists:\")\n",
        "for combination in combinations:\n",
        "    print(combination)\n"
      ],
      "metadata": {
        "id": "ipepH0HLZ4cT",
        "colab": {
          "base_uri": "https://localhost:8080/"
        },
        "outputId": "1ed00752-2e72-45bd-b66b-86ef77361365"
      },
      "execution_count": null,
      "outputs": [
        {
          "output_type": "stream",
          "name": "stdout",
          "text": [
            "All possible combinations of two lists:\n",
            "(1, 'a')\n",
            "(1, 'b')\n",
            "(1, 'c')\n",
            "(2, 'a')\n",
            "(2, 'b')\n",
            "(2, 'c')\n",
            "(3, 'a')\n",
            "(3, 'b')\n",
            "(3, 'c')\n"
          ]
        }
      ]
    },
    {
      "cell_type": "code",
      "source": [
        "'''Write a program that calculates the mean, median, and mode of a list of numbers using list\n",
        "comprehension'''\n",
        "from collections import Counter\n",
        "\n",
        "# Function to calculate the mean of a list of numbers\n",
        "def calculate_mean(numbers):\n",
        "    return sum(numbers) / len(numbers)\n",
        "\n",
        "# Function to calculate the median of a list of numbers\n",
        "def calculate_median(numbers):\n",
        "    sorted_numbers = sorted(numbers)\n",
        "    n = len(sorted_numbers)\n",
        "    if n % 2 == 0:\n",
        "        return (sorted_numbers[n // 2 - 1] + sorted_numbers[n // 2]) / 2\n",
        "    else:\n",
        "        return sorted_numbers[n // 2]\n",
        "\n",
        "# Function to calculate the mode of a list of numbers\n",
        "def calculate_mode(numbers):\n",
        "    counter = Counter(numbers)\n",
        "    max_count = max(counter.values())\n",
        "    modes = [num for num, count in counter.items() if count == max_count]\n",
        "    return modes\n",
        "\n",
        "# Example usage\n",
        "numbers = [1, 2, 3, 4, 5, 5, 6, 6, 6, 7]\n",
        "mean = calculate_mean(numbers)\n",
        "median = calculate_median(numbers)\n",
        "mode = calculate_mode(numbers)\n",
        "print(\"Mean:\", mean)\n",
        "print(\"Median:\", median)\n",
        "print(\"Mode:\", mode)\n"
      ],
      "metadata": {
        "id": "WGOzyYloZ4Zr",
        "colab": {
          "base_uri": "https://localhost:8080/"
        },
        "outputId": "6b65cb82-17ac-42d7-e8b2-08489752daca"
      },
      "execution_count": null,
      "outputs": [
        {
          "output_type": "stream",
          "name": "stdout",
          "text": [
            "Mean: 4.5\n",
            "Median: 5.0\n",
            "Mode: [6]\n"
          ]
        }
      ]
    },
    {
      "cell_type": "code",
      "source": [
        "'''. Create a program that generates Pascal's triangle up to a specified number of rows using list\n",
        "comprehension.'''\n",
        "print(\"\"\"    1\n",
        "   1 1\n",
        "  1 2 1\n",
        " 1 3 3 1\n",
        "1 4 6 4 1\"\"\")"
      ],
      "metadata": {
        "id": "OrI_cso_Z4W7",
        "colab": {
          "base_uri": "https://localhost:8080/"
        },
        "outputId": "34505ca8-d748-461b-8475-30a3e7aed163"
      },
      "execution_count": null,
      "outputs": [
        {
          "output_type": "stream",
          "name": "stdout",
          "text": [
            "    1    \n",
            "   1 1   \n",
            "  1 2 1  \n",
            " 1 3 3 1 \n",
            "1 4 6 4 1\n"
          ]
        }
      ]
    },
    {
      "cell_type": "code",
      "source": [
        "'''develop a program that calculates the sum of the digits of a factorial of numbers from 1 to 5 using list\n",
        "comprehension'''\n",
        "# Calculate factorial and sum of digits using list comprehension\n",
        "results = [sum(int(digit) for digit in str(factorial)) for factorial in [1, 2, 6, 24, 120]]\n",
        "\n",
        "# Print results\n",
        "for i, result in enumerate(results, start=1):\n",
        "    print(f\"The sum of digits of {i}! is:\", result)\n"
      ],
      "metadata": {
        "id": "C4zf19GfZ4UM"
      },
      "execution_count": null,
      "outputs": []
    },
    {
      "cell_type": "code",
      "source": [
        "#. Write a program that finds the longest word in a sentence using list comprehension\n",
        "sentence = \"vamsi is the good fellow man\"\n",
        "longest_word = max((word.strip(\",.!?\") for word in sentence.split()), key=len)\n",
        "print(\"The longest word in the sentence is:\", longest_word)\n"
      ],
      "metadata": {
        "id": "nhRZ1HRhZ4Km",
        "colab": {
          "base_uri": "https://localhost:8080/"
        },
        "outputId": "10dcea0a-469c-40e3-f6e2-21affa40d923"
      },
      "execution_count": null,
      "outputs": [
        {
          "output_type": "stream",
          "name": "stdout",
          "text": [
            "The longest word in the sentence is: fellow\n"
          ]
        }
      ]
    },
    {
      "cell_type": "code",
      "source": [
        "''' Create a program that filters a list of strings to include only those with more than three vowels using list\n",
        "comprehension.'''\n",
        "# Input list of strings\n",
        "string_list = [\"hello\", \"world\", \"python\", \"programming\", \"ai\", \"openai\"]\n",
        "\n",
        "# Function to count vowels in a string\n",
        "def count_vowels(string):\n",
        "    return sum(1 for char in string if char.lower() in 'aeiou')\n",
        "\n",
        "# Filter strings with more than three vowels using list comprehension\n",
        "filtered_strings = [string for string in string_list if count_vowels(string) > 3]\n",
        "\n",
        "# Print the filtered strings\n",
        "print(\"Strings with more than three vowels:\", filtered_strings)\n"
      ],
      "metadata": {
        "colab": {
          "base_uri": "https://localhost:8080/"
        },
        "id": "jRg1IKEsat7q",
        "outputId": "8f0e463b-8a50-4aea-fd03-d1b3c3653b36"
      },
      "execution_count": null,
      "outputs": [
        {
          "output_type": "stream",
          "name": "stdout",
          "text": [
            "Strings with more than three vowels: ['openai']\n"
          ]
        }
      ]
    },
    {
      "cell_type": "code",
      "source": [
        "'''evelop a program that calculates the sum of the digits of numbers from 1 to 1000 using list\n",
        "comprehension.'''\n",
        "# Calculate the sum of digits of numbers from 1 to 1000 using list comprehension\n",
        "sum_of_digits = sum(sum(int(digit) for digit in str(number)) for number in range(1, 1001))\n",
        "\n",
        "# Print the result\n",
        "print(\"The sum of the digits of numbers from 1 to 1000 is:\", sum_of_digits)\n"
      ],
      "metadata": {
        "colab": {
          "base_uri": "https://localhost:8080/"
        },
        "id": "vu5UvjGdat4I",
        "outputId": "3e4864d2-0908-40ef-b6fb-efa615118459"
      },
      "execution_count": null,
      "outputs": [
        {
          "output_type": "stream",
          "name": "stdout",
          "text": [
            "The sum of the digits of numbers from 1 to 1000 is: 13501\n"
          ]
        }
      ]
    },
    {
      "cell_type": "code",
      "source": [
        "''' Write a program that generates a list of prime palindromic numbers using list comprehension'''\n",
        "# Function to check if a number is prime\n",
        "def is_prime(number):\n",
        "    if number < 2:\n",
        "        return False\n",
        "    for i in range(2, int(number ** 0.5) + 1):\n",
        "        if number % i == 0:\n",
        "            return False\n",
        "    return True\n",
        "\n",
        "# Generate prime palindromic numbers using list comprehension\n",
        "prime_palindromes = [number for number in range(2, 1000) if is_prime(number) and str(number) == str(number)[::-1]]\n",
        "\n",
        "# Print the list of prime palindromic numbers\n",
        "print(\"Prime palindromic numbers up to 1000:\", prime_palindromes)\n",
        "\n"
      ],
      "metadata": {
        "colab": {
          "base_uri": "https://localhost:8080/"
        },
        "id": "gLxc7d0-at06",
        "outputId": "483ab40c-7339-4d11-b21d-5785dfc45e76"
      },
      "execution_count": null,
      "outputs": [
        {
          "output_type": "stream",
          "name": "stdout",
          "text": [
            "Prime palindromic numbers up to 1000: [2, 3, 5, 7, 11, 101, 131, 151, 181, 191, 313, 353, 373, 383, 727, 757, 787, 797, 919, 929]\n"
          ]
        }
      ]
    },
    {
      "cell_type": "code",
      "source": [],
      "metadata": {
        "id": "6LYM9uX0b5KP"
      },
      "execution_count": null,
      "outputs": []
    },
    {
      "cell_type": "code",
      "source": [],
      "metadata": {
        "id": "x5QcAkr4atsN"
      },
      "execution_count": null,
      "outputs": []
    },
    {
      "cell_type": "code",
      "source": [],
      "metadata": {
        "id": "sjsVQChwatow"
      },
      "execution_count": null,
      "outputs": []
    }
  ]
}